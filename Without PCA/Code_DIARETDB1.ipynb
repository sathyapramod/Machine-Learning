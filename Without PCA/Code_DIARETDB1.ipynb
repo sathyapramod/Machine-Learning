{
 "cells": [
  {
   "cell_type": "code",
   "execution_count": 4,
   "metadata": {
    "colab": {
     "base_uri": "https://localhost:8080/",
     "height": 121
    },
    "colab_type": "code",
    "id": "HJxVozPy1Hay",
    "outputId": "47be4afe-09ab-4e52-b00c-89b2627fdf2a"
   },
   "outputs": [],
   "source": [
    "#from google.colab import drive\n",
    "#drive.mount('/content/gdrive')\n",
    "rootpath = 'Patches_diaretdb1/'"
   ]
  },
  {
   "cell_type": "code",
   "execution_count": 5,
   "metadata": {
    "colab": {},
    "colab_type": "code",
    "id": "DlzZ9iNK1xCL"
   },
   "outputs": [],
   "source": [
    "import matplotlib.pyplot as plt\n",
    "import cv2\n",
    "import glob\n",
    "import numpy as np"
   ]
  },
  {
   "cell_type": "code",
   "execution_count": 6,
   "metadata": {
    "colab": {
     "base_uri": "https://localhost:8080/",
     "height": 50
    },
    "colab_type": "code",
    "id": "t-gh6sau2Puv",
    "outputId": "fa33c9d2-87a9-49fc-d31b-cb234fd24a9a"
   },
   "outputs": [
    {
     "name": "stdout",
     "output_type": "stream",
     "text": [
      "X_data shape: (0,)\n",
      "0\n"
     ]
    }
   ],
   "source": [
    "#Create numpy array of images\n",
    "X = []\n",
    "files = glob.glob (rootpath+\"*.png\")\n",
    "#print(files)\n",
    "files.sort()\n",
    "# files = sorted(files)\n",
    "for myFile in files:\n",
    "    #print(myFile)\n",
    "    image = cv2.imread (myFile,0)\n",
    "    X.append (image)\n",
    "\n",
    "X = np.array(X)\n",
    "print('X_data shape:', X.shape)\n",
    "print(len(X))"
   ]
  },
  {
   "cell_type": "code",
   "execution_count": 7,
   "metadata": {
    "colab": {},
    "colab_type": "code",
    "id": "zLZCDQtt3-rA"
   },
   "outputs": [],
   "source": [
    "y = ['No','No','Yes','No','Yes','No','No','Yes','Yes','No','No','No','No','Yes','No',\n",
    "     'No','No','Yes','No','Yes','Yes','No','Yes','Yes','No','No','Yes','Yes','Yes','Yes',\n",
    "     'No','Yes','Yes','No','Yes','No','No','Yes','Yes','No','No','Yes','Yes','Yes','Yes',\n",
    "     'No','Yes','Yes','Yes','Yes','No','No','Yes','Yes','No','Yes','Yes','No','Yes','No',\n",
    "     'Yes','No','Yes','No','Yes','Yes','No','Yes','Yes','Yes','Yes','Yes','Yes','Yes','Yes',\n",
    "     'Yes','No','No','No','Yes','No','No','Yes','Yes','No','No','No','No','Yes','No',\n",
    "     'Yes','Yes','Yes','No','Yes','No','No','No','Yes','No','Yes','Yes','Yes','Yes','No',\n",
    "     'Yes','No','Yes','Yes','Yes','Yes','No','Yes','Yes','No','Yes','Yes','Yes','Yes','Yes',\n",
    "     'No','No','Yes','No','Yes','Yes','No','No','Yes','No','No','No','No','Yes','Yes',\n",
    "     'No','No','Yes','No','Yes','Yes','No','No','Yes','No','Yes','Yes','Yes','Yes','Yes',\n",
    "     'No','No','Yes','No','Yes','Yes','No','Yes','Yes','No','Yes','Yes','Yes','Yes','Yes',\n",
    "     'No','No','No','No','Yes','No','No','Yes','Yes','No','No','No','No','Yes','No',\n",
    "     'No','No','No','No','Yes','No','No','Yes','Yes','No','Yes','No','Yes','Yes','Yes',\n",
    "     'Yes','No','No','No','No','Yes','No','No','No','No','Yes','Yes','Yes','Yes','No',\n",
    "     'Yes','No','Yes','Yes','Yes','Yes','Yes','Yes','Yes','No','Yes','Yes','Yes','Yes','Yes',\n",
    "     'Yes','Yes','Yes','No','Yes','Yes','No','No','No','No','Yes','Yes','Yes','No','Yes',\n",
    "     'Yes','No','No','No','Yes','No','No','Yes','Yes','No','No','No','No','Yes','No',\n",
    "     'No','No','No','No','Yes','No','No','Yes','Yes','No','No','Yes','No','Yes','Yes',\n",
    "     'No','Yes','Yes','Yes','No','Yes','Yes','Yes','Yes','No','No','Yes','Yes','Yes','Yes',\n",
    "     'No','Yes','Yes','Yes','Yes','Yes','No','Yes','Yes','No','Yes','Yes','Yes','Yes','Yes',\n",
    "     'No','Yes','Yes','Yes','Yes','Yes','No','Yes','Yes','Yes','Yes','Yes','Yes','Yes','Yes',\n",
    "     'Yes','No','Yes','Yes','No','Yes','No','Yes','Yes','No','No','No','No','Yes','Yes',\n",
    "     'No','No','No','No','No','Yes','No','No','No','No','Yes','Yes','No','No','Yes',\n",
    "     'No','No','No','No','No','Yes','No','No','No','No','Yes','Yes','Yes','No','Yes',\n",
    "     'No','No','Yes','No','Yes','Yes','No','No','No','No','Yes','Yes','Yes','No','Yes',\n",
    "     'No','Yes','Yes','No','No','No','No','No','Yes','Yes','Yes','Yes','Yes','Yes','Yes',\n",
    "     'Yes','Yes','Yes','Yes','No','Yes','No','Yes','Yes','Yes','Yes','No','Yes','Yes','No',\n",
    "     'No','No','No','Yes','Yes','No','Yes','No','Yes','No','No','No','No','Yes','No',\n",
    "     'No','Yes','No','No','Yes','No','Yes','No','No','Yes','Yes','Yes','Yes','Yes','No',\n",
    "     'No','No','No','No','Yes','No','No','Yes','Yes','No','No','No','No','Yes','No', #30\n",
    "     'No','No','No','No','Yes','No','No','No','Yes','No','No','No','No','Yes','No',\n",
    "     'No','No','No','No','Yes','No','No','No','No','No','No','No','No','Yes','No',\n",
    "     'No','No','No','No','Yes','No','No','No','Yes','No','No','No','No','Yes','No',\n",
    "     'No','No','No','No','Yes','No','No','No','Yes','No','No','No','No','Yes','No',\n",
    "     'No','No','No','No','Yes','No','Yes','No','Yes','No','No','No','No','Yes','No',\n",
    "     'No','No','No','No','Yes','No','Yes','No','Yes','No','No','No','No','Yes','No',\n",
    "     'No','No','No','No','Yes','No','No','No','Yes','No','No','No','No','Yes','No', \n",
    "     'No','No','No','No','Yes','No','No','No','Yes','No','No','No','No','Yes','No',\n",
    "     'No','No','No','No','Yes','No','No','No','Yes','No','No','No','No','Yes','No',\n",
    "     'No','No','No','No','Yes','No','No','No','Yes','No','No','No','No','Yes','No',\n",
    "     'No','No','No','No','Yes','No','No','No','Yes','No','No','No','No','Yes','No',\n",
    "     'No','No','No','No','Yes','No','No','No','Yes','No','No','No','No','Yes','No',\n",
    "     'No','No','No','No','Yes','No','Yes','No','Yes','No','No','Yes','No','Yes','No',\n",
    "     'No','No','No','No','Yes','No','Yes','No','Yes','No','Yes','Yes','No','Yes','No',\n",
    "     'No','No','No','No','Yes','No','No','No','Yes','No','No','No','No','Yes','No',\n",
    "     'No','No','No','No','Yes','No','No','No','Yes','No','No','No','No','Yes','No',\n",
    "     'No','No','No','No','Yes','No','No','No','Yes','No','No','No','No','Yes','No',\n",
    "     'No','No','No','No','Yes','No','No','No','Yes','No','No','No','No','Yes','No',\n",
    "     'No','No','No','No','Yes','No','No','Yes','Yes','No','No','No','No','Yes','No',\n",
    "     'No','No','No','No','Yes','No','No','No','Yes','No','No','No','No','Yes','Yes', #50\n",
    "     'No','No','No','No','Yes','No','No','Yes','Yes','No','No','No','No','Yes','Yes',\n",
    "     'No','No','Yes','Yes','Yes','No','No','No','Yes','No','Yes','No','Yes','Yes','No',\n",
    "     'No','No','Yes','Yes','Yes','Yes','Yes','No','Yes','No','No','Yes','No','Yes','Yes',\n",
    "     'No','No','No','No','Yes','No','No','No','Yes','No','Yes','Yes','No','Yes','No',\n",
    "     'No','No','Yes','No','Yes','No','No','Yes','Yes','No','No','No','No','Yes','Yes',\n",
    "     'No','No','No','No','Yes','No','No','No','Yes','No','No','No','No','Yes','Yes',\n",
    "     'No','No','No','No','Yes','No','No','No','Yes','No','No','No','No','Yes','No',\n",
    "     'No','No','No','No','Yes','No','No','No','Yes','No','No','No','No','Yes','No',\n",
    "     'No','Yes','No','No','Yes','No','No','Yes','Yes','No','No','No','No','Yes','No',\n",
    "     'No','No','No','No','Yes','No','No','Yes','Yes','No','No','No','No','Yes','No', #60\n",
    "     'No','No','No','No','Yes','No','No','No','Yes','No','No','No','No','Yes','No',\n",
    "     'No','No','No','No','Yes','No','No','Yes','Yes','No','No','No','No','Yes','No',\n",
    "     'No','No','No','No','Yes','No','No','No','Yes','No','No','No','No','Yes','No',\n",
    "     'No','No','Yes','No','Yes','No','Yes','Yes','Yes','No','Yes','No','No','Yes','No',\n",
    "     'No','No','No','No','Yes','No','Yes','No','No','No','Yes','Yes','No','Yes','Yes',\n",
    "     'No','No','No','No','Yes','No','No','No','Yes','No','No','No','No','Yes','No',\n",
    "     'No','No','No','Yes','Yes','Yes','No','No','Yes','No','No','No','No','Yes','Yes',\n",
    "     'No','No','No','No','Yes','No','No','No','Yes','No','No','No','No','Yes','No',\n",
    "     'No','Yes','No','No','Yes','No','No','No','Yes','No','No','No','No','Yes','No',\n",
    "     'No','No','No','No','Yes','No','No','No','Yes','No','No','No','No','Yes','No', #70\n",
    "     'No','No','No','No','Yes','No','No','No','Yes','No','No','No','No','Yes','No',\n",
    "     'No','No','No','No','Yes','No','Yes','No','Yes','No','No','No','No','Yes','No',\n",
    "     'No','No','No','No','Yes','No','Yes','No','Yes','No','No','No','No','Yes','No',\n",
    "     'No','No','No','No','Yes','No','No','No','Yes','No','No','No','No','Yes','No',\n",
    "     'No','No','No','No','Yes','No','No','Yes','Yes','No','No','No','No','Yes','No',\n",
    "     'No','No','No','No','Yes','No','No','No','Yes','No','No','No','No','Yes','No',\n",
    "     'No','No','No','No','Yes','No','No','No','Yes','No','No','No','No','Yes','No',\n",
    "     'No','No','No','No','Yes','No','No','No','Yes','No','No','No','No','Yes','No',\n",
    "     'No','No','No','No','Yes','No','No','Yes','Yes','No','No','No','No','Yes','No', #79\n",
    "     'Yes','Yes','No','No','Yes','No','No','No','Yes','No','No','No','No','Yes','No',\n",
    "     'No','Yes','No','No','Yes','No','No','No','Yes','No','No','No','Yes','Yes','No',\n",
    "     'No','No','No','No','Yes','No','No','No','Yes','No','No','No','No','Yes','No',\n",
    "     'No','No','No','No','Yes','No','No','No','Yes','No','No','Yes','No','Yes','No',\n",
    "     'No','No','No','No','No','Yes','No','No','No','No','Yes','Yes','No','No','Yes',\n",
    "     'No','No','No','No','No','Yes','No','No','No','No','No','Yes','No','No','Yes',\n",
    "     'No','No','No','No','Yes','No','No','No','Yes','No','No','No','No','Yes','No',\n",
    "     'No','No','No','No','Yes','No','No','No','Yes','No','No','No','No','Yes','No',\n",
    "     'No','No','No','No','Yes','No','No','No','Yes','No','No','No','No','Yes','No',\n",
    "     'No','No','No','No','Yes','No','No','No','Yes','No','No','Yes','No','Yes','No' #89\n",
    "     ]"
   ]
  },
  {
   "cell_type": "code",
   "execution_count": 0,
   "metadata": {
    "colab": {
     "base_uri": "https://localhost:8080/",
     "height": 34
    },
    "colab_type": "code",
    "id": "JzEquAZL4Ci5",
    "outputId": "19e1f016-8f26-448a-92cb-bace522845ec"
   },
   "outputs": [
    {
     "name": "stdout",
     "output_type": "stream",
     "text": [
      "(1335,)\n"
     ]
    }
   ],
   "source": [
    "y = np.asarray(y) \n",
    "print(y.shape)"
   ]
  },
  {
   "cell_type": "code",
   "execution_count": 0,
   "metadata": {
    "colab": {
     "base_uri": "https://localhost:8080/",
     "height": 34
    },
    "colab_type": "code",
    "id": "d2ua0xGw4GBu",
    "outputId": "b2dcb8c6-d1d5-4c7a-af5e-35c2af7d25d3"
   },
   "outputs": [
    {
     "name": "stdout",
     "output_type": "stream",
     "text": [
      "No\n"
     ]
    }
   ],
   "source": [
    "img_index = 25\n",
    "#plt.imshow(X_data1[:,:,:,img_index])\n",
    "#plt.show()\n",
    "print(y[img_index])"
   ]
  },
  {
   "cell_type": "code",
   "execution_count": 0,
   "metadata": {
    "colab": {
     "base_uri": "https://localhost:8080/",
     "height": 50
    },
    "colab_type": "code",
    "id": "078xvt-Z4IdA",
    "outputId": "c11d71c0-698e-474b-a753-170ea2f6c2da"
   },
   "outputs": [
    {
     "name": "stdout",
     "output_type": "stream",
     "text": [
      "1335\n",
      "1335\n"
     ]
    }
   ],
   "source": [
    "print(len(X))\n",
    "print(len(y))"
   ]
  },
  {
   "cell_type": "code",
   "execution_count": 0,
   "metadata": {
    "colab": {},
    "colab_type": "code",
    "id": "XegyHrri4Kvd"
   },
   "outputs": [],
   "source": [
    "from sklearn.utils import shuffle\n",
    "# X = X.reshape(X.shape[0],X.shape[1]*X.shape[2]).T\n",
    "# y = y.reshape(y.shape[0],)\n",
    "X = np.reshape(X, [X.shape[0], X.shape[1]*X.shape[2]])\n",
    "\n",
    "X, y = shuffle(X, y, random_state=42)"
   ]
  },
  {
   "cell_type": "code",
   "execution_count": 0,
   "metadata": {
    "colab": {},
    "colab_type": "code",
    "id": "U60_FG2O4Mny"
   },
   "outputs": [],
   "source": [
    "#############################   Random Forest Algorithm  ##############################"
   ]
  },
  {
   "cell_type": "code",
   "execution_count": 0,
   "metadata": {
    "colab": {
     "base_uri": "https://localhost:8080/",
     "height": 134
    },
    "colab_type": "code",
    "id": "23q_zCXC4O4k",
    "outputId": "bdd99e32-33e5-499c-e2e5-c13dd51500c8"
   },
   "outputs": [
    {
     "name": "stdout",
     "output_type": "stream",
     "text": [
      "RandomForestClassifier(bootstrap=True, class_weight=None, criterion='gini',\n",
      "                       max_depth=None, max_features='auto', max_leaf_nodes=None,\n",
      "                       min_impurity_decrease=0.0, min_impurity_split=None,\n",
      "                       min_samples_leaf=1, min_samples_split=2,\n",
      "                       min_weight_fraction_leaf=0.0, n_estimators=25,\n",
      "                       n_jobs=None, oob_score=False, random_state=None,\n",
      "                       verbose=0, warm_start=False)\n"
     ]
    }
   ],
   "source": [
    "from sklearn.ensemble import RandomForestClassifier\n",
    "clf = RandomForestClassifier(n_estimators=25)\n",
    "print(clf)"
   ]
  },
  {
   "cell_type": "code",
   "execution_count": 0,
   "metadata": {
    "colab": {
     "base_uri": "https://localhost:8080/",
     "height": 134
    },
    "colab_type": "code",
    "id": "bgX5vV0k4RQ3",
    "outputId": "414e91e7-6cd2-490d-df57-b6aac2ea3b3c"
   },
   "outputs": [
    {
     "data": {
      "text/plain": [
       "RandomForestClassifier(bootstrap=True, class_weight=None, criterion='gini',\n",
       "                       max_depth=None, max_features='auto', max_leaf_nodes=None,\n",
       "                       min_impurity_decrease=0.0, min_impurity_split=None,\n",
       "                       min_samples_leaf=1, min_samples_split=2,\n",
       "                       min_weight_fraction_leaf=0.0, n_estimators=25,\n",
       "                       n_jobs=None, oob_score=False, random_state=None,\n",
       "                       verbose=0, warm_start=False)"
      ]
     },
     "execution_count": 11,
     "metadata": {
      "tags": []
     },
     "output_type": "execute_result"
    }
   ],
   "source": [
    "from sklearn.model_selection import train_test_split\n",
    "X_train, X_test, y_train, y_test = train_test_split(X, y, test_size=0.7, random_state=42)\n",
    "clf.fit(X_train, y_train)"
   ]
  },
  {
   "cell_type": "code",
   "execution_count": 0,
   "metadata": {
    "colab": {
     "base_uri": "https://localhost:8080/",
     "height": 34
    },
    "colab_type": "code",
    "id": "2s0_KmE54TdV",
    "outputId": "f87222c7-1d1c-475a-c230-1d5f996b7bfd"
   },
   "outputs": [
    {
     "name": "stdout",
     "output_type": "stream",
     "text": [
      "Accuracy: 0.7005347593582888\n"
     ]
    }
   ],
   "source": [
    "from sklearn.metrics import accuracy_score\n",
    "\n",
    "preds = clf.predict(X_test)\n",
    "print(\"Accuracy:\", accuracy_score(y_test,preds))"
   ]
  },
  {
   "cell_type": "code",
   "execution_count": 0,
   "metadata": {
    "colab": {},
    "colab_type": "code",
    "id": "wnrOhImG4Vhq"
   },
   "outputs": [],
   "source": [
    "#print(preds)\n",
    "pred_prob = clf.predict_proba(X_test)\n",
    "#print(pred_prob)"
   ]
  },
  {
   "cell_type": "code",
   "execution_count": 0,
   "metadata": {
    "colab": {},
    "colab_type": "code",
    "id": "pvbXLcwJ4Xmd"
   },
   "outputs": [],
   "source": [
    "from sklearn.metrics import precision_recall_fscore_support"
   ]
  },
  {
   "cell_type": "code",
   "execution_count": 0,
   "metadata": {
    "colab": {
     "base_uri": "https://localhost:8080/",
     "height": 84
    },
    "colab_type": "code",
    "id": "osWT1pS54ZTU",
    "outputId": "166b86b5-bb5c-4a3f-f78d-eb69ac9eaf90"
   },
   "outputs": [
    {
     "data": {
      "text/plain": [
       "(array([0.72230014, 0.63063063]),\n",
       " array([0.86264657, 0.41420118]),\n",
       " array([0.78625954, 0.5       ]),\n",
       " array([597, 338]))"
      ]
     },
     "execution_count": 15,
     "metadata": {
      "tags": []
     },
     "output_type": "execute_result"
    }
   ],
   "source": [
    "precision_recall_fscore_support(y_test, preds, average=None)"
   ]
  },
  {
   "cell_type": "code",
   "execution_count": 0,
   "metadata": {
    "colab": {
     "base_uri": "https://localhost:8080/",
     "height": 34
    },
    "colab_type": "code",
    "id": "ZOReg-R04bBB",
    "outputId": "6298612a-2530-4d9a-d588-39fa7a812625"
   },
   "outputs": [
    {
     "name": "stdout",
     "output_type": "stream",
     "text": [
      "[0.78625954 0.5       ]\n"
     ]
    }
   ],
   "source": [
    "from sklearn.metrics import f1_score\n",
    "from sklearn.metrics import cohen_kappa_score\n",
    "from sklearn.metrics import roc_auc_score\n",
    "print(f1_score(y_test, preds, average=None))"
   ]
  },
  {
   "cell_type": "code",
   "execution_count": 0,
   "metadata": {
    "colab": {},
    "colab_type": "code",
    "id": "q0H8GO5T4dox"
   },
   "outputs": [],
   "source": [
    "for i in range(len(y_test)):\n",
    "    if(y_test[i]=='No'):\n",
    "        #print(y_test[i])\n",
    "        num = int(0)\n",
    "        #print(type(num))\n",
    "        y_test[i]= int(num)\n",
    "        #print(type(y_test[i]))\n",
    "        #print(y_test[i])\n",
    "    else:\n",
    "        num = int(1)\n",
    "        y_test[i]=int(num)\n",
    "        #print(type(y_test[i]))\n",
    "        \n",
    "    if(preds[i]=='No'):\n",
    "        num = int(0)\n",
    "        preds[i]=int(num)\n",
    "    else:\n",
    "        num = int(1)\n",
    "        preds[i]=int(num)\n",
    "\n",
    "#print(y_test)\n",
    "#print(preds)"
   ]
  },
  {
   "cell_type": "code",
   "execution_count": 0,
   "metadata": {
    "colab": {},
    "colab_type": "code",
    "id": "t95zVAp64gJO"
   },
   "outputs": [],
   "source": [
    "y_test = list(map(int, y_test)) \n",
    "preds = list(map(int, preds)) "
   ]
  },
  {
   "cell_type": "code",
   "execution_count": 0,
   "metadata": {
    "colab": {
     "base_uri": "https://localhost:8080/",
     "height": 34
    },
    "colab_type": "code",
    "id": "SdAnHiQk4iW3",
    "outputId": "3e43b471-4571-478e-a7c6-23736250bda5"
   },
   "outputs": [
    {
     "name": "stdout",
     "output_type": "stream",
     "text": [
      "0.6384238747980534\n"
     ]
    }
   ],
   "source": [
    "print(roc_auc_score(y_test, preds))"
   ]
  },
  {
   "cell_type": "code",
   "execution_count": 0,
   "metadata": {
    "colab": {},
    "colab_type": "code",
    "id": "RkXF_UNtXB70"
   },
   "outputs": [],
   "source": [
    "from sklearn.metrics import roc_curve, auc, roc_auc_score\n",
    "false_positive_rate, true_positive_rate, thresholds = roc_curve(y_test, pred_prob)"
   ]
  },
  {
   "cell_type": "code",
   "execution_count": 0,
   "metadata": {
    "colab": {
     "base_uri": "https://localhost:8080/",
     "height": 34
    },
    "colab_type": "code",
    "id": "LzxU6_kFXM5K",
    "outputId": "4521b8b4-a3c6-4d6f-8efd-4ad4bead6186"
   },
   "outputs": [
    {
     "name": "stdout",
     "output_type": "stream",
     "text": [
      "0.6384238747980534\n"
     ]
    }
   ],
   "source": [
    "print(auc(false_positive_rate, true_positive_rate))"
   ]
  },
  {
   "cell_type": "code",
   "execution_count": 0,
   "metadata": {
    "colab": {},
    "colab_type": "code",
    "id": "TzrDN0qP4kDB"
   },
   "outputs": [],
   "source": [
    "###############################  Neural Network Algorithm-40 Neurons ##############################"
   ]
  },
  {
   "cell_type": "code",
   "execution_count": 0,
   "metadata": {
    "colab": {},
    "colab_type": "code",
    "id": "ycLpHpD84nCn"
   },
   "outputs": [],
   "source": [
    "from sklearn.model_selection import train_test_split\n",
    "X_train1, X_test1, y_train1, y_test1 = train_test_split(X, y, test_size = 0.7)"
   ]
  },
  {
   "cell_type": "code",
   "execution_count": 0,
   "metadata": {
    "colab": {
     "base_uri": "https://localhost:8080/",
     "height": 188
    },
    "colab_type": "code",
    "id": "dVmNA9YL4otS",
    "outputId": "8d4c87bf-e5ba-4c6d-a964-27cb5eceef47"
   },
   "outputs": [
    {
     "name": "stderr",
     "output_type": "stream",
     "text": [
      "/usr/local/lib/python3.6/dist-packages/sklearn/neural_network/multilayer_perceptron.py:566: ConvergenceWarning: Stochastic Optimizer: Maximum iterations (200) reached and the optimization hasn't converged yet.\n",
      "  % self.max_iter, ConvergenceWarning)\n"
     ]
    },
    {
     "data": {
      "text/plain": [
       "MLPClassifier(activation='relu', alpha=0.0001, batch_size='auto', beta_1=0.9,\n",
       "              beta_2=0.999, early_stopping=False, epsilon=1e-08,\n",
       "              hidden_layer_sizes=40, learning_rate='constant',\n",
       "              learning_rate_init=0.001, max_iter=200, momentum=0.9,\n",
       "              n_iter_no_change=10, nesterovs_momentum=True, power_t=0.5,\n",
       "              random_state=None, shuffle=True, solver='adam', tol=0.0001,\n",
       "              validation_fraction=0.1, verbose=False, warm_start=False)"
      ]
     },
     "execution_count": 22,
     "metadata": {
      "tags": []
     },
     "output_type": "execute_result"
    }
   ],
   "source": [
    "from sklearn.neural_network import MLPClassifier\n",
    "mlp = MLPClassifier(hidden_layer_sizes= 40)\n",
    "mlp.fit(X_train1, y_train1)"
   ]
  },
  {
   "cell_type": "code",
   "execution_count": 0,
   "metadata": {
    "colab": {
     "base_uri": "https://localhost:8080/",
     "height": 34
    },
    "colab_type": "code",
    "id": "7c91dzlP4q52",
    "outputId": "8aa59d51-dccd-45d4-fa53-1b915427d001"
   },
   "outputs": [
    {
     "name": "stdout",
     "output_type": "stream",
     "text": [
      "Accuracy: 0.35508021390374334\n"
     ]
    }
   ],
   "source": [
    "preds1 = mlp.predict(X_test1)\n",
    "#print(preds1)\n",
    "\n",
    "#preds = clf.predict(X_test)\n",
    "print(\"Accuracy:\", accuracy_score(y_test1,preds1))"
   ]
  },
  {
   "cell_type": "code",
   "execution_count": 0,
   "metadata": {
    "colab": {},
    "colab_type": "code",
    "id": "uX9Irwg7Lt0I"
   },
   "outputs": [],
   "source": [
    "#print(preds)\n",
    "pred_prob = mlp.predict_proba(X_test1)\n",
    "#print(pred_prob)"
   ]
  },
  {
   "cell_type": "code",
   "execution_count": 0,
   "metadata": {
    "colab": {
     "base_uri": "https://localhost:8080/",
     "height": 138
    },
    "colab_type": "code",
    "id": "GXZoOW1cL3Dj",
    "outputId": "b7b81290-b4ea-4103-c247-aaca0c4ca6a5"
   },
   "outputs": [
    {
     "name": "stderr",
     "output_type": "stream",
     "text": [
      "/usr/local/lib/python3.6/dist-packages/sklearn/metrics/classification.py:1437: UndefinedMetricWarning: Precision and F-score are ill-defined and being set to 0.0 in labels with no predicted samples.\n",
      "  'precision', 'predicted', average, warn_for)\n"
     ]
    },
    {
     "data": {
      "text/plain": [
       "(array([0.        , 0.35508021]),\n",
       " array([0., 1.]),\n",
       " array([0.        , 0.52407261]),\n",
       " array([603, 332]))"
      ]
     },
     "execution_count": 25,
     "metadata": {
      "tags": []
     },
     "output_type": "execute_result"
    }
   ],
   "source": [
    "precision_recall_fscore_support(y_test1, preds1, average=None)"
   ]
  },
  {
   "cell_type": "code",
   "execution_count": 0,
   "metadata": {
    "colab": {
     "base_uri": "https://localhost:8080/",
     "height": 87
    },
    "colab_type": "code",
    "id": "n74uQ-iWL9sE",
    "outputId": "4a74d4f3-cfc8-432f-ba43-8cfc48cd40f1"
   },
   "outputs": [
    {
     "name": "stdout",
     "output_type": "stream",
     "text": [
      "[0.         0.52407261]\n"
     ]
    },
    {
     "name": "stderr",
     "output_type": "stream",
     "text": [
      "/usr/local/lib/python3.6/dist-packages/sklearn/metrics/classification.py:1437: UndefinedMetricWarning: F-score is ill-defined and being set to 0.0 in labels with no predicted samples.\n",
      "  'precision', 'predicted', average, warn_for)\n"
     ]
    }
   ],
   "source": [
    "from sklearn.metrics import f1_score\n",
    "from sklearn.metrics import cohen_kappa_score\n",
    "from sklearn.metrics import roc_auc_score\n",
    "print(f1_score(y_test1, preds1, average=None))"
   ]
  },
  {
   "cell_type": "code",
   "execution_count": 0,
   "metadata": {
    "colab": {},
    "colab_type": "code",
    "id": "ECSQzJ8pL_aK"
   },
   "outputs": [],
   "source": [
    "for i in range(len(y_test1)):\n",
    "    if(y_test1[i]=='No'):\n",
    "        #print(y_test[i])\n",
    "        num = int(0)\n",
    "        #print(type(num))\n",
    "        y_test1[i]= int(num)\n",
    "        #print(type(y_test[i]))\n",
    "        #print(y_test[i])\n",
    "    else:\n",
    "        num = int(1)\n",
    "        y_test1[i]=int(num)\n",
    "        #print(type(y_test[i]))\n",
    "        \n",
    "    if(preds1[i]=='No'):\n",
    "        num = int(0)\n",
    "        preds1[i]=int(num)\n",
    "    else:\n",
    "        num = int(1)\n",
    "        preds1[i]=int(num)\n",
    "\n",
    "#print(y_test)\n",
    "#print(preds)"
   ]
  },
  {
   "cell_type": "code",
   "execution_count": 0,
   "metadata": {
    "colab": {},
    "colab_type": "code",
    "id": "9lbADcfXMLgy"
   },
   "outputs": [],
   "source": [
    "y_test1 = list(map(int, y_test1)) \n",
    "preds1 = list(map(int, preds1)) "
   ]
  },
  {
   "cell_type": "code",
   "execution_count": 0,
   "metadata": {
    "colab": {
     "base_uri": "https://localhost:8080/",
     "height": 34
    },
    "colab_type": "code",
    "id": "Qv-TIhbIMPBm",
    "outputId": "6bf0d7e2-0dc1-457a-8873-9027764ccb29"
   },
   "outputs": [
    {
     "name": "stdout",
     "output_type": "stream",
     "text": [
      "0.5\n"
     ]
    }
   ],
   "source": [
    "print(roc_auc_score(y_test1, preds1))"
   ]
  },
  {
   "cell_type": "code",
   "execution_count": 0,
   "metadata": {
    "colab": {},
    "colab_type": "code",
    "id": "Th2nI_Ho4s2s"
   },
   "outputs": [],
   "source": [
    "################################## Support Vector Machine Algorithm ####################################"
   ]
  },
  {
   "cell_type": "code",
   "execution_count": 0,
   "metadata": {
    "colab": {},
    "colab_type": "code",
    "id": "FU-XVgBt4uu6"
   },
   "outputs": [],
   "source": [
    "X_train2, X_test2, y_train2, y_test2 = train_test_split(X, y, test_size = 0.7)"
   ]
  },
  {
   "cell_type": "code",
   "execution_count": 0,
   "metadata": {
    "colab": {},
    "colab_type": "code",
    "id": "QyYWLDjD4yq0"
   },
   "outputs": [],
   "source": [
    "from sklearn import svm\n",
    "svl = svm.SVC()"
   ]
  },
  {
   "cell_type": "code",
   "execution_count": 0,
   "metadata": {
    "colab": {
     "base_uri": "https://localhost:8080/",
     "height": 138
    },
    "colab_type": "code",
    "id": "MVNpSLPv4zZf",
    "outputId": "a39ea982-d557-4096-acab-68bdb10316a8"
   },
   "outputs": [
    {
     "name": "stderr",
     "output_type": "stream",
     "text": [
      "/usr/local/lib/python3.6/dist-packages/sklearn/svm/base.py:193: FutureWarning: The default value of gamma will change from 'auto' to 'scale' in version 0.22 to account better for unscaled features. Set gamma explicitly to 'auto' or 'scale' to avoid this warning.\n",
      "  \"avoid this warning.\", FutureWarning)\n"
     ]
    },
    {
     "data": {
      "text/plain": [
       "SVC(C=1.0, cache_size=200, class_weight=None, coef0=0.0,\n",
       "    decision_function_shape='ovr', degree=3, gamma='auto_deprecated',\n",
       "    kernel='rbf', max_iter=-1, probability=False, random_state=None,\n",
       "    shrinking=True, tol=0.001, verbose=False)"
      ]
     },
     "execution_count": 33,
     "metadata": {
      "tags": []
     },
     "output_type": "execute_result"
    }
   ],
   "source": [
    "svl.fit(X_train2,y_train2)"
   ]
  },
  {
   "cell_type": "code",
   "execution_count": 0,
   "metadata": {
    "colab": {
     "base_uri": "https://localhost:8080/",
     "height": 34
    },
    "colab_type": "code",
    "id": "92UcEhOh41Vj",
    "outputId": "b6809362-c1a3-4015-bf62-299b51b979e1"
   },
   "outputs": [
    {
     "name": "stdout",
     "output_type": "stream",
     "text": [
      "Accuracy: 0.6363636363636364\n"
     ]
    }
   ],
   "source": [
    "preds2 = svl.predict(X_test2)\n",
    "#print(preds2)\n",
    "\n",
    "print(\"Accuracy:\", accuracy_score(y_test2,preds2))"
   ]
  },
  {
   "cell_type": "code",
   "execution_count": 0,
   "metadata": {
    "colab": {},
    "colab_type": "code",
    "id": "lIL7mUDWMYxn"
   },
   "outputs": [],
   "source": [
    "##print(preds)\n",
    "#pred_prob = svl.predict_proba(X_test2)\n",
    "#print(pred_prob)"
   ]
  },
  {
   "cell_type": "code",
   "execution_count": 0,
   "metadata": {
    "colab": {
     "base_uri": "https://localhost:8080/",
     "height": 138
    },
    "colab_type": "code",
    "id": "uyPuBmACMcgl",
    "outputId": "0476d678-0050-4021-c40a-7d4571949053"
   },
   "outputs": [
    {
     "name": "stderr",
     "output_type": "stream",
     "text": [
      "/usr/local/lib/python3.6/dist-packages/sklearn/metrics/classification.py:1437: UndefinedMetricWarning: Precision and F-score are ill-defined and being set to 0.0 in labels with no predicted samples.\n",
      "  'precision', 'predicted', average, warn_for)\n"
     ]
    },
    {
     "data": {
      "text/plain": [
       "(array([0.63636364, 0.        ]),\n",
       " array([1., 0.]),\n",
       " array([0.77777778, 0.        ]),\n",
       " array([595, 340]))"
      ]
     },
     "execution_count": 36,
     "metadata": {
      "tags": []
     },
     "output_type": "execute_result"
    }
   ],
   "source": [
    "precision_recall_fscore_support(y_test2, preds2, average=None)"
   ]
  },
  {
   "cell_type": "code",
   "execution_count": 0,
   "metadata": {
    "colab": {
     "base_uri": "https://localhost:8080/",
     "height": 87
    },
    "colab_type": "code",
    "id": "XLZp1qS7Mffw",
    "outputId": "f6679691-66d8-43c3-8999-2301008a7d97"
   },
   "outputs": [
    {
     "name": "stdout",
     "output_type": "stream",
     "text": [
      "[0.77777778 0.        ]\n"
     ]
    },
    {
     "name": "stderr",
     "output_type": "stream",
     "text": [
      "/usr/local/lib/python3.6/dist-packages/sklearn/metrics/classification.py:1437: UndefinedMetricWarning: F-score is ill-defined and being set to 0.0 in labels with no predicted samples.\n",
      "  'precision', 'predicted', average, warn_for)\n"
     ]
    }
   ],
   "source": [
    "from sklearn.metrics import f1_score\n",
    "from sklearn.metrics import cohen_kappa_score\n",
    "from sklearn.metrics import roc_auc_score\n",
    "print(f1_score(y_test2, preds2, average=None))"
   ]
  },
  {
   "cell_type": "code",
   "execution_count": 0,
   "metadata": {
    "colab": {},
    "colab_type": "code",
    "id": "9T98YEsLMjhO"
   },
   "outputs": [],
   "source": [
    "for i in range(len(y_test2)):\n",
    "    if(y_test2[i]=='No'):\n",
    "        #print(y_test[i])\n",
    "        num = int(0)\n",
    "        #print(type(num))\n",
    "        y_test2[i]= int(num)\n",
    "        #print(type(y_test[i]))\n",
    "        #print(y_test[i])\n",
    "    else:\n",
    "        num = int(1)\n",
    "        y_test2[i]=int(num)\n",
    "        #print(type(y_test[i]))\n",
    "        \n",
    "    if(preds2[i]=='No'):\n",
    "        num = int(0)\n",
    "        preds2[i]=int(num)\n",
    "    else:\n",
    "        num = int(1)\n",
    "        preds2[i]=int(num)\n",
    "\n",
    "#print(y_test)\n",
    "#print(preds)"
   ]
  },
  {
   "cell_type": "code",
   "execution_count": 0,
   "metadata": {
    "colab": {},
    "colab_type": "code",
    "id": "nRLNM47lMnbF"
   },
   "outputs": [],
   "source": [
    "y_test2 = list(map(int, y_test2)) \n",
    "preds2 = list(map(int, preds2)) "
   ]
  },
  {
   "cell_type": "code",
   "execution_count": 0,
   "metadata": {
    "colab": {
     "base_uri": "https://localhost:8080/",
     "height": 34
    },
    "colab_type": "code",
    "id": "eXOi-ekxMrHi",
    "outputId": "fa580b03-ff09-4638-f295-39cf83051004"
   },
   "outputs": [
    {
     "name": "stdout",
     "output_type": "stream",
     "text": [
      "0.5\n"
     ]
    }
   ],
   "source": [
    "print(roc_auc_score(y_test2, preds2))"
   ]
  },
  {
   "cell_type": "code",
   "execution_count": 0,
   "metadata": {
    "colab": {},
    "colab_type": "code",
    "id": "Az9cX4PSVCXU"
   },
   "outputs": [],
   "source": [
    "###############################  Neural Network Algorithm-100 Neurons ##############################"
   ]
  },
  {
   "cell_type": "code",
   "execution_count": 0,
   "metadata": {
    "colab": {},
    "colab_type": "code",
    "id": "4Oy4j9bSVMSa"
   },
   "outputs": [],
   "source": [
    "X_train3, X_test3, y_train3, y_test3 = train_test_split(X, y, test_size = 0.7)"
   ]
  },
  {
   "cell_type": "code",
   "execution_count": 0,
   "metadata": {
    "colab": {
     "base_uri": "https://localhost:8080/",
     "height": 188
    },
    "colab_type": "code",
    "id": "BOxzrFMKVTDI",
    "outputId": "76ef334d-aa95-488d-9a7c-d1f9b5b797c1"
   },
   "outputs": [
    {
     "name": "stderr",
     "output_type": "stream",
     "text": [
      "/usr/local/lib/python3.6/dist-packages/sklearn/neural_network/multilayer_perceptron.py:566: ConvergenceWarning: Stochastic Optimizer: Maximum iterations (200) reached and the optimization hasn't converged yet.\n",
      "  % self.max_iter, ConvergenceWarning)\n"
     ]
    },
    {
     "data": {
      "text/plain": [
       "MLPClassifier(activation='relu', alpha=0.0001, batch_size='auto', beta_1=0.9,\n",
       "              beta_2=0.999, early_stopping=False, epsilon=1e-08,\n",
       "              hidden_layer_sizes=100, learning_rate='constant',\n",
       "              learning_rate_init=0.001, max_iter=200, momentum=0.9,\n",
       "              n_iter_no_change=10, nesterovs_momentum=True, power_t=0.5,\n",
       "              random_state=None, shuffle=True, solver='adam', tol=0.0001,\n",
       "              validation_fraction=0.1, verbose=False, warm_start=False)"
      ]
     },
     "execution_count": 43,
     "metadata": {
      "tags": []
     },
     "output_type": "execute_result"
    }
   ],
   "source": [
    "from sklearn.neural_network import MLPClassifier\n",
    "mlp = MLPClassifier(hidden_layer_sizes= 100)\n",
    "mlp.fit(X_train3, y_train3)"
   ]
  },
  {
   "cell_type": "code",
   "execution_count": 0,
   "metadata": {
    "colab": {
     "base_uri": "https://localhost:8080/",
     "height": 34
    },
    "colab_type": "code",
    "id": "-eBjRcGGVY5a",
    "outputId": "fcb11986-9630-43fd-feb1-6cc48ba8f292"
   },
   "outputs": [
    {
     "name": "stdout",
     "output_type": "stream",
     "text": [
      "Accuracy: 0.6438502673796791\n"
     ]
    }
   ],
   "source": [
    "preds3 = mlp.predict(X_test3)\n",
    "#print(preds1)\n",
    "\n",
    "#preds = clf.predict(X_test)\n",
    "print(\"Accuracy:\", accuracy_score(y_test3,preds3))"
   ]
  },
  {
   "cell_type": "code",
   "execution_count": 0,
   "metadata": {
    "colab": {
     "base_uri": "https://localhost:8080/",
     "height": 138
    },
    "colab_type": "code",
    "id": "92D10jsPVbQ0",
    "outputId": "941baa05-cb23-416f-920c-e918813a4005"
   },
   "outputs": [
    {
     "name": "stderr",
     "output_type": "stream",
     "text": [
      "/usr/local/lib/python3.6/dist-packages/sklearn/metrics/classification.py:1437: UndefinedMetricWarning: Precision and F-score are ill-defined and being set to 0.0 in labels with no predicted samples.\n",
      "  'precision', 'predicted', average, warn_for)\n"
     ]
    },
    {
     "data": {
      "text/plain": [
       "(array([0.64385027, 0.        ]),\n",
       " array([1., 0.]),\n",
       " array([0.78334418, 0.        ]),\n",
       " array([602, 333]))"
      ]
     },
     "execution_count": 45,
     "metadata": {
      "tags": []
     },
     "output_type": "execute_result"
    }
   ],
   "source": [
    "precision_recall_fscore_support(y_test3, preds3, average=None)"
   ]
  },
  {
   "cell_type": "code",
   "execution_count": 0,
   "metadata": {
    "colab": {
     "base_uri": "https://localhost:8080/",
     "height": 87
    },
    "colab_type": "code",
    "id": "k-8m-eCaVdoz",
    "outputId": "8775e82a-8c74-4c31-bff1-ccc08eae9109"
   },
   "outputs": [
    {
     "name": "stdout",
     "output_type": "stream",
     "text": [
      "[0.78334418 0.        ]\n"
     ]
    },
    {
     "name": "stderr",
     "output_type": "stream",
     "text": [
      "/usr/local/lib/python3.6/dist-packages/sklearn/metrics/classification.py:1437: UndefinedMetricWarning: F-score is ill-defined and being set to 0.0 in labels with no predicted samples.\n",
      "  'precision', 'predicted', average, warn_for)\n"
     ]
    }
   ],
   "source": [
    "from sklearn.metrics import f1_score\n",
    "from sklearn.metrics import cohen_kappa_score\n",
    "from sklearn.metrics import roc_auc_score\n",
    "print(f1_score(y_test3, preds3, average=None))"
   ]
  },
  {
   "cell_type": "code",
   "execution_count": 0,
   "metadata": {
    "colab": {},
    "colab_type": "code",
    "id": "5loKPFabVgfY"
   },
   "outputs": [],
   "source": [
    "for i in range(len(y_test3)):\n",
    "    if(y_test3[i]=='No'):\n",
    "        #print(y_test[i])\n",
    "        num = int(0)\n",
    "        #print(type(num))\n",
    "        y_test3[i]= int(num)\n",
    "        #print(type(y_test[i]))\n",
    "        #print(y_test[i])\n",
    "    else:\n",
    "        num = int(1)\n",
    "        y_test3[i]=int(num)\n",
    "        #print(type(y_test[i]))\n",
    "        \n",
    "    if(preds3[i]=='No'):\n",
    "        num = int(0)\n",
    "        preds3[i]=int(num)\n",
    "    else:\n",
    "        num = int(1)\n",
    "        preds3[i]=int(num)\n",
    "\n",
    "#print(y_test)\n",
    "#print(preds)"
   ]
  },
  {
   "cell_type": "code",
   "execution_count": 0,
   "metadata": {
    "colab": {},
    "colab_type": "code",
    "id": "poabKN80Vih1"
   },
   "outputs": [],
   "source": [
    "y_test3 = list(map(int, y_test3)) \n",
    "preds3 = list(map(int, preds3)) "
   ]
  },
  {
   "cell_type": "code",
   "execution_count": 0,
   "metadata": {
    "colab": {
     "base_uri": "https://localhost:8080/",
     "height": 34
    },
    "colab_type": "code",
    "id": "2Ol4SiVYVkZf",
    "outputId": "8237f078-c77a-4fd5-9db9-debe9fa3014f"
   },
   "outputs": [
    {
     "name": "stdout",
     "output_type": "stream",
     "text": [
      "0.5\n"
     ]
    }
   ],
   "source": [
    "print(roc_auc_score(y_test3, preds3))"
   ]
  }
 ],
 "metadata": {
  "accelerator": "GPU",
  "colab": {
   "name": "Code-DIARETDB1.ipynb",
   "provenance": []
  },
  "kernelspec": {
   "display_name": "Python 3",
   "language": "python",
   "name": "python3"
  },
  "language_info": {
   "codemirror_mode": {
    "name": "ipython",
    "version": 3
   },
   "file_extension": ".py",
   "mimetype": "text/x-python",
   "name": "python",
   "nbconvert_exporter": "python",
   "pygments_lexer": "ipython3",
   "version": "3.7.6"
  }
 },
 "nbformat": 4,
 "nbformat_minor": 1
}
