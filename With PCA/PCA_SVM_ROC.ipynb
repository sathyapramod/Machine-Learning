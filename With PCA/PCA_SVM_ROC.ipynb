{
 "cells": [
  {
   "cell_type": "code",
   "execution_count": 1,
   "metadata": {
    "colab": {
     "base_uri": "https://localhost:8080/",
     "height": 121
    },
    "colab_type": "code",
    "id": "wT892A-Pek_Z",
    "outputId": "7095b74c-c902-430e-df7b-b0ffad9bbbd2"
   },
   "outputs": [],
   "source": [
    "#from google.colab import drive\n",
    "#drive.mount('/content/gdrive')\n",
    "rootpath = './Patches_ROC/'"
   ]
  },
  {
   "cell_type": "code",
   "execution_count": 2,
   "metadata": {
    "colab": {},
    "colab_type": "code",
    "id": "aL_2W_eRexd4"
   },
   "outputs": [],
   "source": [
    "import matplotlib.pyplot as plt\n",
    "import cv2\n",
    "import glob\n",
    "import numpy as np"
   ]
  },
  {
   "cell_type": "code",
   "execution_count": 3,
   "metadata": {
    "colab": {
     "base_uri": "https://localhost:8080/",
     "height": 50
    },
    "colab_type": "code",
    "id": "IJfJaLbvexZu",
    "outputId": "620f733e-fc44-4dff-bbdc-e791c1d933db"
   },
   "outputs": [
    {
     "name": "stdout",
     "output_type": "stream",
     "text": [
      "X_data shape: (0,)\n",
      "0\n"
     ]
    }
   ],
   "source": [
    "#Create numpy array of images\n",
    "X = []\n",
    "files = glob.glob (rootpath+\"*.jpg\")\n",
    "#print(files)\n",
    "files.sort()\n",
    "# files = sorted(files)\n",
    "for myFile in files:\n",
    "    #print(myFile)\n",
    "    image = cv2.imread (myFile,0)\n",
    "    X.append (image)\n",
    "\n",
    "X = np.array(X)\n",
    "print('X_data shape:', X.shape)\n",
    "print(len(X))"
   ]
  },
  {
   "cell_type": "code",
   "execution_count": 0,
   "metadata": {
    "colab": {},
    "colab_type": "code",
    "id": "Pgsi1H7yexYN"
   },
   "outputs": [],
   "source": [
    "y = ['No','No',\n",
    "     'No','No',\n",
    "     'No','No',\n",
    "     'No','Yes','Yes','Yes','No','No','No','No','No','No','No','Yes','No','No','No','Yes',\n",
    "     'No','No','No','Yes','No','No','No','No','Yes','No','No','No','No','Yes','No','No',\n",
    "     'No','No','No','No','No','No','No','No','No','No','Yes','No','No','No','No','No',\n",
    "     'No','No','No','No','No','No','No','No','No','No','No','No','No','No','No','No', #6\n",
    "     'No','No', \n",
    "     'Yes','No',\n",
    "     'No','No',\n",
    "     'No','Yes',\n",
    "     'Yes','Yes',\n",
    "     'Yes','No',\n",
    "     'Yes','No', #13\n",
    "     'No','No','No','No','No','No','No','No','No','No','No','No','No','Yes','No','No', #14\n",
    "     'No','No','No','No','No','No','No','No','No','No','No','No','No','No','No','No',\n",
    "     'No','No','No','No','No','No','No','No','No','No','No','Yes','No','No','No','No',\n",
    "     'No','No','No','No','No','Yes','No','No','No','No','No','No','No','No','No','No',\n",
    "     'No','No','Yes','No','No','Yes','Yes','No','No','Yes','Yes','Yes','Yes','No','Yes','Yes',\n",
    "     'No','No',\n",
    "     'No','No','No','No','No','No','No','No','No','No','Yes','No','No','No','No','No', #20\n",
    "     'No','No','No','No','No','No','No','No','No',\n",
    "     'No','No','No','Yes','No','No','Yes','No','No','Yes','No','No','No','No','No','No',\n",
    "     'No','No','No','Yes','Yes','Yes','No','Yes','Yes',\n",
    "     'No','No','No','No','No','Yes','No','Yes','No','No','No','No','No','No','No','No', #24\n",
    "     'No','No',\n",
    "     'No','Yes','No','No','Yes','Yes','Yes','Yes','Yes',\n",
    "     'No','Yes',\n",
    "     'No','No','No','No','Yes','Yes','No','No','No','No','Yes','No','No','No','No','No',\n",
    "     'Yes','No',\n",
    "     'No','No','No','No','No','No','No','No','No','Yes','No','No','No','No','Yes','Yes',\n",
    "     'No','No',\n",
    "     'No','No','No','Yes','No','No','Yes','Yes','No','No','No','No','No','No','Yes','Yes',\n",
    "     'Yes','No',\n",
    "     'Yes','No',\n",
    "     'No','No','No','No','No','No','No','No','No','No','No','No','No','No','No','No', #35\n",
    "     'No','No','No','No','No','No','No','No','No','No','No','No','No','No','No','No',\n",
    "     'No','No','No','No','No','No','No','No','No','Yes','No','No','No','Yes','No','No',\n",
    "     'No','Yes',\n",
    "     'No','No',\n",
    "     'No','No','No','No','No','No','Yes','No','No','No','No','No','No','No','No','No',\n",
    "     'No','No',\n",
    "     'No','No','No','No','No','No','No','No','No','No','No','No','No','No','No','No',\n",
    "     'No','No','No','No','No','No','No','No','No','No','No','No','No','Yes','No','No',\n",
    "     'No','No',\n",
    "     'No','No','No','No','No','No','No','No','No','No','No','No','Yes','No','No','No',\n",
    "     'No','No','No','No','No','No','No','No','No','No','No','No','No','No','Yes','No',\n",
    "     'No','No','No','No','No','No','No','No','No','Yes','No','No','No','No','No','No',\n",
    "     'No','No',\n",
    "     'No','No','No','Yes','No','No','Yes','No','No','No','No','No','Yes','No','No','No' #49\n",
    "    ]"
   ]
  },
  {
   "cell_type": "code",
   "execution_count": 5,
   "metadata": {
    "colab": {
     "base_uri": "https://localhost:8080/",
     "height": 34
    },
    "colab_type": "code",
    "id": "AUuSQZP5exUX",
    "outputId": "7b28a68b-8111-4a6f-d4f8-463c381c59c2"
   },
   "outputs": [
    {
     "name": "stdout",
     "output_type": "stream",
     "text": [
      "(471,)\n"
     ]
    }
   ],
   "source": [
    "y = np.asarray(y) \n",
    "print(y.shape)"
   ]
  },
  {
   "cell_type": "code",
   "execution_count": 0,
   "metadata": {
    "colab": {},
    "colab_type": "code",
    "id": "2qVzqGSGexSz"
   },
   "outputs": [],
   "source": [
    "from sklearn.utils import shuffle\n",
    "# X = X.reshape(X.shape[0],X.shape[1]*X.shape[2]).T\n",
    "# y = y.reshape(y.shape[0],)\n",
    "X = np.reshape(X, [X.shape[0], X.shape[1]*X.shape[2]])\n",
    "\n",
    "X, y = shuffle(X, y, random_state=42)"
   ]
  },
  {
   "cell_type": "code",
   "execution_count": 0,
   "metadata": {
    "colab": {},
    "colab_type": "code",
    "id": "KjBSsDX1exOt"
   },
   "outputs": [],
   "source": [
    "#############################   Support Vector Machine Algorithm-With PCA 1% components  ##############################"
   ]
  },
  {
   "cell_type": "code",
   "execution_count": 0,
   "metadata": {
    "colab": {},
    "colab_type": "code",
    "id": "eRO7YznZexM9"
   },
   "outputs": [],
   "source": [
    "from sklearn.model_selection import train_test_split\n",
    "# test_size: what proportion of original data is used for test set\n",
    "X_train, X_test, y_train, y_test = train_test_split( X, y, test_size=0.1, random_state=0)"
   ]
  },
  {
   "cell_type": "code",
   "execution_count": 0,
   "metadata": {
    "colab": {},
    "colab_type": "code",
    "id": "xAayUmU1exKK"
   },
   "outputs": [],
   "source": [
    "from sklearn.preprocessing import StandardScaler\n",
    "scaler = StandardScaler()\n",
    "# Fit on training set only.\n",
    "scaler.fit(X_train)\n",
    "# Apply transform to both the training set and the test set.\n",
    "X_train = scaler.transform(X_train)\n",
    "X_test = scaler.transform(X_test)\n"
   ]
  },
  {
   "cell_type": "code",
   "execution_count": 0,
   "metadata": {
    "colab": {},
    "colab_type": "code",
    "id": "Dp-dHUN9exHh"
   },
   "outputs": [],
   "source": [
    "from sklearn.decomposition import PCA\n",
    "# Make an instance of the Model\n",
    "pca = PCA(.1)\n",
    "pca.fit(X_train)\n",
    "\n",
    "X_train = pca.transform(X_train) \n",
    "X_test = pca.transform(X_test) "
   ]
  },
  {
   "cell_type": "code",
   "execution_count": 0,
   "metadata": {
    "colab": {},
    "colab_type": "code",
    "id": "zyapVyB0exEF"
   },
   "outputs": [],
   "source": [
    "from sklearn import svm\n",
    "svl = svm.SVC()"
   ]
  },
  {
   "cell_type": "code",
   "execution_count": 12,
   "metadata": {
    "colab": {
     "base_uri": "https://localhost:8080/",
     "height": 138
    },
    "colab_type": "code",
    "id": "pkuXHrM8exCP",
    "outputId": "1f220923-d00a-482f-d485-73d356fae472"
   },
   "outputs": [
    {
     "name": "stderr",
     "output_type": "stream",
     "text": [
      "/usr/local/lib/python3.6/dist-packages/sklearn/svm/base.py:193: FutureWarning: The default value of gamma will change from 'auto' to 'scale' in version 0.22 to account better for unscaled features. Set gamma explicitly to 'auto' or 'scale' to avoid this warning.\n",
      "  \"avoid this warning.\", FutureWarning)\n"
     ]
    },
    {
     "data": {
      "text/plain": [
       "SVC(C=1.0, cache_size=200, class_weight=None, coef0=0.0,\n",
       "    decision_function_shape='ovr', degree=3, gamma='auto_deprecated',\n",
       "    kernel='rbf', max_iter=-1, probability=False, random_state=None,\n",
       "    shrinking=True, tol=0.001, verbose=False)"
      ]
     },
     "execution_count": 12,
     "metadata": {
      "tags": []
     },
     "output_type": "execute_result"
    }
   ],
   "source": [
    "svl.fit(X_train,y_train)"
   ]
  },
  {
   "cell_type": "code",
   "execution_count": 13,
   "metadata": {
    "colab": {
     "base_uri": "https://localhost:8080/",
     "height": 34
    },
    "colab_type": "code",
    "id": "OiiW1vpyew-S",
    "outputId": "14f1c227-838f-4ec4-bf00-bfb85d0ee178"
   },
   "outputs": [
    {
     "name": "stdout",
     "output_type": "stream",
     "text": [
      "Accuracy: 0.8958333333333334\n"
     ]
    }
   ],
   "source": [
    "from sklearn.metrics import accuracy_score\n",
    "\n",
    "preds2 = svl.predict(X_test)\n",
    "#print(preds2)\n",
    "\n",
    "print(\"Accuracy:\", accuracy_score(y_test,preds2))"
   ]
  },
  {
   "cell_type": "code",
   "execution_count": 14,
   "metadata": {
    "colab": {
     "base_uri": "https://localhost:8080/",
     "height": 87
    },
    "colab_type": "code",
    "id": "xml4j19Qew8L",
    "outputId": "df07b99b-73af-4bfc-a8b3-6489221e6303"
   },
   "outputs": [
    {
     "name": "stdout",
     "output_type": "stream",
     "text": [
      "[0.94505495 0.        ]\n"
     ]
    },
    {
     "name": "stderr",
     "output_type": "stream",
     "text": [
      "/usr/local/lib/python3.6/dist-packages/sklearn/metrics/classification.py:1437: UndefinedMetricWarning: F-score is ill-defined and being set to 0.0 in labels with no predicted samples.\n",
      "  'precision', 'predicted', average, warn_for)\n"
     ]
    }
   ],
   "source": [
    "from sklearn.metrics import f1_score\n",
    "from sklearn.metrics import cohen_kappa_score\n",
    "from sklearn.metrics import roc_auc_score\n",
    "print(f1_score(y_test, preds2, average=None))"
   ]
  },
  {
   "cell_type": "code",
   "execution_count": 0,
   "metadata": {
    "colab": {},
    "colab_type": "code",
    "id": "UMlzBpysew4F"
   },
   "outputs": [],
   "source": [
    "for i in range(len(y_test)):\n",
    "    if(y_test[i]=='No'):\n",
    "        #print(y_test[i])\n",
    "        num = int(0)\n",
    "        #print(type(num))\n",
    "        y_test[i]= int(num)\n",
    "        #print(type(y_test[i]))\n",
    "        #print(y_test[i])\n",
    "    else:\n",
    "        num = int(1)\n",
    "        y_test[i]=int(num)\n",
    "        #print(type(y_test[i]))\n",
    "        \n",
    "    if(preds2[i]=='No'):\n",
    "        num = int(0)\n",
    "        preds2[i]=int(num)\n",
    "    else:\n",
    "        num = int(1)\n",
    "        preds2[i]=int(num)\n",
    "\n",
    "#print(y_test)\n",
    "#print(preds)"
   ]
  },
  {
   "cell_type": "code",
   "execution_count": 0,
   "metadata": {
    "colab": {},
    "colab_type": "code",
    "id": "kIpUoHNdew2Z"
   },
   "outputs": [],
   "source": [
    "y_test = list(map(int, y_test)) \n",
    "preds2 = list(map(int, preds2)) "
   ]
  },
  {
   "cell_type": "code",
   "execution_count": 17,
   "metadata": {
    "colab": {
     "base_uri": "https://localhost:8080/",
     "height": 34
    },
    "colab_type": "code",
    "id": "AQaCqQ9_ewyt",
    "outputId": "1fdf1777-7864-4a83-def0-f663966ba1f7"
   },
   "outputs": [
    {
     "name": "stdout",
     "output_type": "stream",
     "text": [
      "0.5\n"
     ]
    }
   ],
   "source": [
    "print(roc_auc_score(y_test, preds2))"
   ]
  },
  {
   "cell_type": "code",
   "execution_count": 0,
   "metadata": {
    "colab": {},
    "colab_type": "code",
    "id": "2ZaYV-08ewwY"
   },
   "outputs": [],
   "source": [
    "#############################   Support Vector Machine Algorithm-With PCA 5% components  ##############################"
   ]
  },
  {
   "cell_type": "code",
   "execution_count": 0,
   "metadata": {
    "colab": {},
    "colab_type": "code",
    "id": "RvjWd0dofeeU"
   },
   "outputs": [],
   "source": [
    "from sklearn.model_selection import train_test_split\n",
    "# test_size: what proportion of original data is used for test set\n",
    "X_train, X_test, y_train, y_test = train_test_split( X, y, test_size=0.1, random_state=0)"
   ]
  },
  {
   "cell_type": "code",
   "execution_count": 0,
   "metadata": {
    "colab": {},
    "colab_type": "code",
    "id": "5V0fkz8Lfeba"
   },
   "outputs": [],
   "source": [
    "from sklearn.preprocessing import StandardScaler\n",
    "scaler = StandardScaler()\n",
    "# Fit on training set only.\n",
    "scaler.fit(X_train)\n",
    "# Apply transform to both the training set and the test set.\n",
    "X_train = scaler.transform(X_train)\n",
    "X_test = scaler.transform(X_test)"
   ]
  },
  {
   "cell_type": "code",
   "execution_count": 0,
   "metadata": {
    "colab": {},
    "colab_type": "code",
    "id": "3_JeJI0AfeY9"
   },
   "outputs": [],
   "source": [
    "from sklearn.decomposition import PCA\n",
    "# Make an instance of the Model\n",
    "pca = PCA(.5)\n",
    "pca.fit(X_train)\n",
    "\n",
    "X_train = pca.transform(X_train) \n",
    "X_test = pca.transform(X_test) "
   ]
  },
  {
   "cell_type": "code",
   "execution_count": 0,
   "metadata": {
    "colab": {},
    "colab_type": "code",
    "id": "JuZ25qDQfeWL"
   },
   "outputs": [],
   "source": [
    "from sklearn import svm\n",
    "svl = svm.SVC()"
   ]
  },
  {
   "cell_type": "code",
   "execution_count": 23,
   "metadata": {
    "colab": {
     "base_uri": "https://localhost:8080/",
     "height": 138
    },
    "colab_type": "code",
    "id": "eLcsP032feSX",
    "outputId": "32dfe108-d83a-4453-af64-30a7f089d347"
   },
   "outputs": [
    {
     "name": "stderr",
     "output_type": "stream",
     "text": [
      "/usr/local/lib/python3.6/dist-packages/sklearn/svm/base.py:193: FutureWarning: The default value of gamma will change from 'auto' to 'scale' in version 0.22 to account better for unscaled features. Set gamma explicitly to 'auto' or 'scale' to avoid this warning.\n",
      "  \"avoid this warning.\", FutureWarning)\n"
     ]
    },
    {
     "data": {
      "text/plain": [
       "SVC(C=1.0, cache_size=200, class_weight=None, coef0=0.0,\n",
       "    decision_function_shape='ovr', degree=3, gamma='auto_deprecated',\n",
       "    kernel='rbf', max_iter=-1, probability=False, random_state=None,\n",
       "    shrinking=True, tol=0.001, verbose=False)"
      ]
     },
     "execution_count": 23,
     "metadata": {
      "tags": []
     },
     "output_type": "execute_result"
    }
   ],
   "source": [
    "svl.fit(X_train,y_train)"
   ]
  },
  {
   "cell_type": "code",
   "execution_count": 24,
   "metadata": {
    "colab": {
     "base_uri": "https://localhost:8080/",
     "height": 34
    },
    "colab_type": "code",
    "id": "wFTvHtQhfeQV",
    "outputId": "7f4c38ac-d538-48dc-84a2-c6806aaca320"
   },
   "outputs": [
    {
     "name": "stdout",
     "output_type": "stream",
     "text": [
      "Accuracy: 0.8958333333333334\n"
     ]
    }
   ],
   "source": [
    "from sklearn.metrics import accuracy_score\n",
    "\n",
    "preds2 = svl.predict(X_test)\n",
    "#print(preds2)\n",
    "\n",
    "print(\"Accuracy:\", accuracy_score(y_test,preds2))"
   ]
  },
  {
   "cell_type": "code",
   "execution_count": 25,
   "metadata": {
    "colab": {
     "base_uri": "https://localhost:8080/",
     "height": 87
    },
    "colab_type": "code",
    "id": "_47rqHW_feMR",
    "outputId": "31a3e98f-4158-47de-9323-b4945dd37934"
   },
   "outputs": [
    {
     "name": "stdout",
     "output_type": "stream",
     "text": [
      "[0.94505495 0.        ]\n"
     ]
    },
    {
     "name": "stderr",
     "output_type": "stream",
     "text": [
      "/usr/local/lib/python3.6/dist-packages/sklearn/metrics/classification.py:1437: UndefinedMetricWarning: F-score is ill-defined and being set to 0.0 in labels with no predicted samples.\n",
      "  'precision', 'predicted', average, warn_for)\n"
     ]
    }
   ],
   "source": [
    "from sklearn.metrics import f1_score\n",
    "from sklearn.metrics import cohen_kappa_score\n",
    "from sklearn.metrics import roc_auc_score\n",
    "print(f1_score(y_test, preds2, average=None))"
   ]
  },
  {
   "cell_type": "code",
   "execution_count": 0,
   "metadata": {
    "colab": {},
    "colab_type": "code",
    "id": "bT-xyO4hfeJk"
   },
   "outputs": [],
   "source": [
    "for i in range(len(y_test)):\n",
    "    if(y_test[i]=='No'):\n",
    "        #print(y_test[i])\n",
    "        num = int(0)\n",
    "        #print(type(num))\n",
    "        y_test[i]= int(num)\n",
    "        #print(type(y_test[i]))\n",
    "        #print(y_test[i])\n",
    "    else:\n",
    "        num = int(1)\n",
    "        y_test[i]=int(num)\n",
    "        #print(type(y_test[i]))\n",
    "        \n",
    "    if(preds2[i]=='No'):\n",
    "        num = int(0)\n",
    "        preds2[i]=int(num)\n",
    "    else:\n",
    "        num = int(1)\n",
    "        preds2[i]=int(num)\n",
    "\n",
    "#print(y_test)\n",
    "#print(preds)"
   ]
  },
  {
   "cell_type": "code",
   "execution_count": 0,
   "metadata": {
    "colab": {},
    "colab_type": "code",
    "id": "kZhD3PeHfeGJ"
   },
   "outputs": [],
   "source": [
    "y_test = list(map(int, y_test)) \n",
    "preds2 = list(map(int, preds2)) "
   ]
  },
  {
   "cell_type": "code",
   "execution_count": 28,
   "metadata": {
    "colab": {
     "base_uri": "https://localhost:8080/",
     "height": 34
    },
    "colab_type": "code",
    "id": "1aGo3P1XfeC4",
    "outputId": "eb712983-1be6-4f94-c771-c3f308101782"
   },
   "outputs": [
    {
     "name": "stdout",
     "output_type": "stream",
     "text": [
      "0.5\n"
     ]
    }
   ],
   "source": [
    "print(roc_auc_score(y_test, preds2))"
   ]
  },
  {
   "cell_type": "code",
   "execution_count": 0,
   "metadata": {
    "colab": {},
    "colab_type": "code",
    "id": "Y9CC83qCfeBT"
   },
   "outputs": [],
   "source": [
    "#############################   Support Vector Machine Algorithm-With PCA 10% components  ##############################"
   ]
  },
  {
   "cell_type": "code",
   "execution_count": 0,
   "metadata": {
    "colab": {},
    "colab_type": "code",
    "id": "sp_Dmmi6fd9c"
   },
   "outputs": [],
   "source": [
    "from sklearn.model_selection import train_test_split\n",
    "# test_size: what proportion of original data is used for test set\n",
    "X_train, X_test, y_train, y_test = train_test_split( X, y, test_size=0.1, random_state=0)"
   ]
  },
  {
   "cell_type": "code",
   "execution_count": 0,
   "metadata": {
    "colab": {},
    "colab_type": "code",
    "id": "vB0KoRqHfd7C"
   },
   "outputs": [],
   "source": [
    "from sklearn.preprocessing import StandardScaler\n",
    "scaler = StandardScaler()\n",
    "# Fit on training set only.\n",
    "scaler.fit(X_train)\n",
    "# Apply transform to both the training set and the test set.\n",
    "X_train = scaler.transform(X_train)\n",
    "X_test = scaler.transform(X_test)"
   ]
  },
  {
   "cell_type": "code",
   "execution_count": 0,
   "metadata": {
    "colab": {},
    "colab_type": "code",
    "id": "jV_uG0Zffd3x"
   },
   "outputs": [],
   "source": [
    "from sklearn.decomposition import PCA\n",
    "# Make an instance of the Model\n",
    "pca = PCA(.10)\n",
    "pca.fit(X_train)\n",
    "\n",
    "X_train = pca.transform(X_train) \n",
    "X_test = pca.transform(X_test) "
   ]
  },
  {
   "cell_type": "code",
   "execution_count": 0,
   "metadata": {
    "colab": {},
    "colab_type": "code",
    "id": "Mk1N_fLWfdz9"
   },
   "outputs": [],
   "source": [
    "from sklearn import svm\n",
    "svl = svm.SVC()"
   ]
  },
  {
   "cell_type": "code",
   "execution_count": 34,
   "metadata": {
    "colab": {
     "base_uri": "https://localhost:8080/",
     "height": 138
    },
    "colab_type": "code",
    "id": "V-GUjMlQfdxT",
    "outputId": "9eb9983c-dc7e-4322-aada-f84c87a6d03a"
   },
   "outputs": [
    {
     "name": "stderr",
     "output_type": "stream",
     "text": [
      "/usr/local/lib/python3.6/dist-packages/sklearn/svm/base.py:193: FutureWarning: The default value of gamma will change from 'auto' to 'scale' in version 0.22 to account better for unscaled features. Set gamma explicitly to 'auto' or 'scale' to avoid this warning.\n",
      "  \"avoid this warning.\", FutureWarning)\n"
     ]
    },
    {
     "data": {
      "text/plain": [
       "SVC(C=1.0, cache_size=200, class_weight=None, coef0=0.0,\n",
       "    decision_function_shape='ovr', degree=3, gamma='auto_deprecated',\n",
       "    kernel='rbf', max_iter=-1, probability=False, random_state=None,\n",
       "    shrinking=True, tol=0.001, verbose=False)"
      ]
     },
     "execution_count": 34,
     "metadata": {
      "tags": []
     },
     "output_type": "execute_result"
    }
   ],
   "source": [
    "svl.fit(X_train,y_train)"
   ]
  },
  {
   "cell_type": "code",
   "execution_count": 35,
   "metadata": {
    "colab": {
     "base_uri": "https://localhost:8080/",
     "height": 34
    },
    "colab_type": "code",
    "id": "tiRxBpJHfdsL",
    "outputId": "3ced56e1-3dc8-4192-c7f3-41b20242e112"
   },
   "outputs": [
    {
     "name": "stdout",
     "output_type": "stream",
     "text": [
      "Accuracy: 0.8958333333333334\n"
     ]
    }
   ],
   "source": [
    "from sklearn.metrics import accuracy_score\n",
    "\n",
    "preds2 = svl.predict(X_test)\n",
    "#print(preds2)\n",
    "\n",
    "print(\"Accuracy:\", accuracy_score(y_test,preds2))"
   ]
  },
  {
   "cell_type": "code",
   "execution_count": 36,
   "metadata": {
    "colab": {
     "base_uri": "https://localhost:8080/",
     "height": 87
    },
    "colab_type": "code",
    "id": "CDPq2wCkfdoQ",
    "outputId": "643708e3-a8b9-4bdc-a43d-21ef940908a6"
   },
   "outputs": [
    {
     "name": "stdout",
     "output_type": "stream",
     "text": [
      "[0.94505495 0.        ]\n"
     ]
    },
    {
     "name": "stderr",
     "output_type": "stream",
     "text": [
      "/usr/local/lib/python3.6/dist-packages/sklearn/metrics/classification.py:1437: UndefinedMetricWarning: F-score is ill-defined and being set to 0.0 in labels with no predicted samples.\n",
      "  'precision', 'predicted', average, warn_for)\n"
     ]
    }
   ],
   "source": [
    "from sklearn.metrics import f1_score\n",
    "from sklearn.metrics import cohen_kappa_score\n",
    "from sklearn.metrics import roc_auc_score\n",
    "print(f1_score(y_test, preds2, average=None))"
   ]
  },
  {
   "cell_type": "code",
   "execution_count": 0,
   "metadata": {
    "colab": {},
    "colab_type": "code",
    "id": "d25D3vHxfdlw"
   },
   "outputs": [],
   "source": [
    "for i in range(len(y_test)):\n",
    "    if(y_test[i]=='No'):\n",
    "        #print(y_test[i])\n",
    "        num = int(0)\n",
    "        #print(type(num))\n",
    "        y_test[i]= int(num)\n",
    "        #print(type(y_test[i]))\n",
    "        #print(y_test[i])\n",
    "    else:\n",
    "        num = int(1)\n",
    "        y_test[i]=int(num)\n",
    "        #print(type(y_test[i]))\n",
    "        \n",
    "    if(preds2[i]=='No'):\n",
    "        num = int(0)\n",
    "        preds2[i]=int(num)\n",
    "    else:\n",
    "        num = int(1)\n",
    "        preds2[i]=int(num)\n",
    "\n",
    "#print(y_test)\n",
    "#print(preds)"
   ]
  },
  {
   "cell_type": "code",
   "execution_count": 0,
   "metadata": {
    "colab": {},
    "colab_type": "code",
    "id": "XPHPiVvNfdiJ"
   },
   "outputs": [],
   "source": [
    "y_test = list(map(int, y_test)) \n",
    "preds2 = list(map(int, preds2)) "
   ]
  },
  {
   "cell_type": "code",
   "execution_count": 39,
   "metadata": {
    "colab": {
     "base_uri": "https://localhost:8080/",
     "height": 34
    },
    "colab_type": "code",
    "id": "-UlOD_PZfde0",
    "outputId": "adb0c94b-8023-47f5-e369-3d95fa7bbdd1"
   },
   "outputs": [
    {
     "name": "stdout",
     "output_type": "stream",
     "text": [
      "0.5\n"
     ]
    }
   ],
   "source": [
    "print(roc_auc_score(y_test, preds2))"
   ]
  },
  {
   "cell_type": "code",
   "execution_count": 0,
   "metadata": {
    "colab": {},
    "colab_type": "code",
    "id": "i3jkuTYqfdcJ"
   },
   "outputs": [],
   "source": [
    "#############################   Support Vector Machine Algorithm-With PCA 20% components  ##############################"
   ]
  },
  {
   "cell_type": "code",
   "execution_count": 0,
   "metadata": {
    "colab": {},
    "colab_type": "code",
    "id": "NbEWltFOfdYn"
   },
   "outputs": [],
   "source": [
    "from sklearn.model_selection import train_test_split\n",
    "# test_size: what proportion of original data is used for test set\n",
    "X_train, X_test, y_train, y_test = train_test_split( X, y, test_size=0.1, random_state=0)"
   ]
  },
  {
   "cell_type": "code",
   "execution_count": 0,
   "metadata": {
    "colab": {},
    "colab_type": "code",
    "id": "SvGdj9r4fdWN"
   },
   "outputs": [],
   "source": [
    "from sklearn.preprocessing import StandardScaler\n",
    "scaler = StandardScaler()\n",
    "# Fit on training set only.\n",
    "scaler.fit(X_train)\n",
    "# Apply transform to both the training set and the test set.\n",
    "X_train = scaler.transform(X_train)\n",
    "X_test = scaler.transform(X_test)"
   ]
  },
  {
   "cell_type": "code",
   "execution_count": 0,
   "metadata": {
    "colab": {},
    "colab_type": "code",
    "id": "28zzmjOnfdS6"
   },
   "outputs": [],
   "source": [
    "from sklearn.decomposition import PCA\n",
    "# Make an instance of the Model\n",
    "pca = PCA(.20)\n",
    "pca.fit(X_train)\n",
    "\n",
    "X_train = pca.transform(X_train) \n",
    "X_test = pca.transform(X_test) "
   ]
  },
  {
   "cell_type": "code",
   "execution_count": 0,
   "metadata": {
    "colab": {},
    "colab_type": "code",
    "id": "tIMb0A-hfdQM"
   },
   "outputs": [],
   "source": [
    "from sklearn import svm\n",
    "svl = svm.SVC()"
   ]
  },
  {
   "cell_type": "code",
   "execution_count": 45,
   "metadata": {
    "colab": {
     "base_uri": "https://localhost:8080/",
     "height": 138
    },
    "colab_type": "code",
    "id": "a0JloP7ofdN7",
    "outputId": "65b6e6e8-904d-4bec-f53f-4960a2742608"
   },
   "outputs": [
    {
     "name": "stderr",
     "output_type": "stream",
     "text": [
      "/usr/local/lib/python3.6/dist-packages/sklearn/svm/base.py:193: FutureWarning: The default value of gamma will change from 'auto' to 'scale' in version 0.22 to account better for unscaled features. Set gamma explicitly to 'auto' or 'scale' to avoid this warning.\n",
      "  \"avoid this warning.\", FutureWarning)\n"
     ]
    },
    {
     "data": {
      "text/plain": [
       "SVC(C=1.0, cache_size=200, class_weight=None, coef0=0.0,\n",
       "    decision_function_shape='ovr', degree=3, gamma='auto_deprecated',\n",
       "    kernel='rbf', max_iter=-1, probability=False, random_state=None,\n",
       "    shrinking=True, tol=0.001, verbose=False)"
      ]
     },
     "execution_count": 45,
     "metadata": {
      "tags": []
     },
     "output_type": "execute_result"
    }
   ],
   "source": [
    "svl.fit(X_train,y_train)"
   ]
  },
  {
   "cell_type": "code",
   "execution_count": 46,
   "metadata": {
    "colab": {
     "base_uri": "https://localhost:8080/",
     "height": 34
    },
    "colab_type": "code",
    "id": "r3IV8GFTfdJ8",
    "outputId": "1144ff38-ec3e-4200-beb7-a3fa65120a3b"
   },
   "outputs": [
    {
     "name": "stdout",
     "output_type": "stream",
     "text": [
      "Accuracy: 0.8958333333333334\n"
     ]
    }
   ],
   "source": [
    "from sklearn.metrics import accuracy_score\n",
    "\n",
    "preds2 = svl.predict(X_test)\n",
    "#print(preds2)\n",
    "\n",
    "print(\"Accuracy:\", accuracy_score(y_test,preds2))"
   ]
  },
  {
   "cell_type": "code",
   "execution_count": 47,
   "metadata": {
    "colab": {
     "base_uri": "https://localhost:8080/",
     "height": 87
    },
    "colab_type": "code",
    "id": "e6j2y5UnfdHt",
    "outputId": "0560282e-e773-4806-fce3-d29c442099c0"
   },
   "outputs": [
    {
     "name": "stdout",
     "output_type": "stream",
     "text": [
      "[0.94505495 0.        ]\n"
     ]
    },
    {
     "name": "stderr",
     "output_type": "stream",
     "text": [
      "/usr/local/lib/python3.6/dist-packages/sklearn/metrics/classification.py:1437: UndefinedMetricWarning: F-score is ill-defined and being set to 0.0 in labels with no predicted samples.\n",
      "  'precision', 'predicted', average, warn_for)\n"
     ]
    }
   ],
   "source": [
    "from sklearn.metrics import f1_score\n",
    "from sklearn.metrics import cohen_kappa_score\n",
    "from sklearn.metrics import roc_auc_score\n",
    "print(f1_score(y_test, preds2, average=None))"
   ]
  },
  {
   "cell_type": "code",
   "execution_count": 0,
   "metadata": {
    "colab": {},
    "colab_type": "code",
    "id": "j3M9nHyufdEk"
   },
   "outputs": [],
   "source": [
    "for i in range(len(y_test)):\n",
    "    if(y_test[i]=='No'):\n",
    "        #print(y_test[i])\n",
    "        num = int(0)\n",
    "        #print(type(num))\n",
    "        y_test[i]= int(num)\n",
    "        #print(type(y_test[i]))\n",
    "        #print(y_test[i])\n",
    "    else:\n",
    "        num = int(1)\n",
    "        y_test[i]=int(num)\n",
    "        #print(type(y_test[i]))\n",
    "        \n",
    "    if(preds2[i]=='No'):\n",
    "        num = int(0)\n",
    "        preds2[i]=int(num)\n",
    "    else:\n",
    "        num = int(1)\n",
    "        preds2[i]=int(num)\n",
    "\n",
    "#print(y_test)\n",
    "#print(preds)"
   ]
  },
  {
   "cell_type": "code",
   "execution_count": 0,
   "metadata": {
    "colab": {},
    "colab_type": "code",
    "id": "SVtyeraffdBZ"
   },
   "outputs": [],
   "source": [
    "y_test = list(map(int, y_test)) \n",
    "preds2 = list(map(int, preds2)) "
   ]
  },
  {
   "cell_type": "code",
   "execution_count": 50,
   "metadata": {
    "colab": {
     "base_uri": "https://localhost:8080/",
     "height": 34
    },
    "colab_type": "code",
    "id": "w8xU8raRfc_b",
    "outputId": "f31014e3-36c7-4862-abd0-5f308c6637cb"
   },
   "outputs": [
    {
     "name": "stdout",
     "output_type": "stream",
     "text": [
      "0.5\n"
     ]
    }
   ],
   "source": [
    "print(roc_auc_score(y_test, preds2))"
   ]
  },
  {
   "cell_type": "code",
   "execution_count": 0,
   "metadata": {
    "colab": {},
    "colab_type": "code",
    "id": "N6PfNiWIfc8Q"
   },
   "outputs": [],
   "source": [
    "#############################   Support Vector Machine Algorithm-With PCA 30% components  ##############################"
   ]
  },
  {
   "cell_type": "code",
   "execution_count": 0,
   "metadata": {
    "colab": {},
    "colab_type": "code",
    "id": "lRpuUlPtfc5p"
   },
   "outputs": [],
   "source": [
    "from sklearn.model_selection import train_test_split\n",
    "# test_size: what proportion of original data is used for test set\n",
    "X_train, X_test, y_train, y_test = train_test_split( X, y, test_size=0.1, random_state=0)"
   ]
  },
  {
   "cell_type": "code",
   "execution_count": 0,
   "metadata": {
    "colab": {},
    "colab_type": "code",
    "id": "bv-M6g6lfc2U"
   },
   "outputs": [],
   "source": [
    "from sklearn.preprocessing import StandardScaler\n",
    "scaler = StandardScaler()\n",
    "# Fit on training set only.\n",
    "scaler.fit(X_train)\n",
    "# Apply transform to both the training set and the test set.\n",
    "X_train = scaler.transform(X_train)\n",
    "X_test = scaler.transform(X_test)"
   ]
  },
  {
   "cell_type": "code",
   "execution_count": 0,
   "metadata": {
    "colab": {},
    "colab_type": "code",
    "id": "vcORFOHlfczm"
   },
   "outputs": [],
   "source": [
    "from sklearn.decomposition import PCA\n",
    "# Make an instance of the Model\n",
    "pca = PCA(.30)\n",
    "pca.fit(X_train)\n",
    "\n",
    "X_train = pca.transform(X_train) \n",
    "X_test = pca.transform(X_test) "
   ]
  },
  {
   "cell_type": "code",
   "execution_count": 0,
   "metadata": {
    "colab": {},
    "colab_type": "code",
    "id": "DdsU6Gsufcxc"
   },
   "outputs": [],
   "source": [
    "from sklearn import svm\n",
    "svl = svm.SVC()"
   ]
  },
  {
   "cell_type": "code",
   "execution_count": 56,
   "metadata": {
    "colab": {
     "base_uri": "https://localhost:8080/",
     "height": 138
    },
    "colab_type": "code",
    "id": "q-jC1KMffcte",
    "outputId": "38b279bf-1a6f-41cc-8fb9-e0c7a9703269"
   },
   "outputs": [
    {
     "name": "stderr",
     "output_type": "stream",
     "text": [
      "/usr/local/lib/python3.6/dist-packages/sklearn/svm/base.py:193: FutureWarning: The default value of gamma will change from 'auto' to 'scale' in version 0.22 to account better for unscaled features. Set gamma explicitly to 'auto' or 'scale' to avoid this warning.\n",
      "  \"avoid this warning.\", FutureWarning)\n"
     ]
    },
    {
     "data": {
      "text/plain": [
       "SVC(C=1.0, cache_size=200, class_weight=None, coef0=0.0,\n",
       "    decision_function_shape='ovr', degree=3, gamma='auto_deprecated',\n",
       "    kernel='rbf', max_iter=-1, probability=False, random_state=None,\n",
       "    shrinking=True, tol=0.001, verbose=False)"
      ]
     },
     "execution_count": 56,
     "metadata": {
      "tags": []
     },
     "output_type": "execute_result"
    }
   ],
   "source": [
    "svl.fit(X_train,y_train)"
   ]
  },
  {
   "cell_type": "code",
   "execution_count": 57,
   "metadata": {
    "colab": {
     "base_uri": "https://localhost:8080/",
     "height": 34
    },
    "colab_type": "code",
    "id": "M0jvctvefcrt",
    "outputId": "99c00b9b-9614-4b46-8c36-fe72e63fc198"
   },
   "outputs": [
    {
     "name": "stdout",
     "output_type": "stream",
     "text": [
      "Accuracy: 0.8958333333333334\n"
     ]
    }
   ],
   "source": [
    "from sklearn.metrics import accuracy_score\n",
    "\n",
    "preds2 = svl.predict(X_test)\n",
    "#print(preds2)\n",
    "\n",
    "print(\"Accuracy:\", accuracy_score(y_test,preds2))"
   ]
  },
  {
   "cell_type": "code",
   "execution_count": 58,
   "metadata": {
    "colab": {
     "base_uri": "https://localhost:8080/",
     "height": 87
    },
    "colab_type": "code",
    "id": "MZVFcm6TfcpQ",
    "outputId": "0f6e043d-6b1d-48a7-8666-15ce29ec7c07"
   },
   "outputs": [
    {
     "name": "stdout",
     "output_type": "stream",
     "text": [
      "[0.94505495 0.        ]\n"
     ]
    },
    {
     "name": "stderr",
     "output_type": "stream",
     "text": [
      "/usr/local/lib/python3.6/dist-packages/sklearn/metrics/classification.py:1437: UndefinedMetricWarning: F-score is ill-defined and being set to 0.0 in labels with no predicted samples.\n",
      "  'precision', 'predicted', average, warn_for)\n"
     ]
    }
   ],
   "source": [
    "from sklearn.metrics import f1_score\n",
    "from sklearn.metrics import cohen_kappa_score\n",
    "from sklearn.metrics import roc_auc_score\n",
    "print(f1_score(y_test, preds2, average=None))"
   ]
  },
  {
   "cell_type": "code",
   "execution_count": 0,
   "metadata": {
    "colab": {},
    "colab_type": "code",
    "id": "olJ_ryBifcmd"
   },
   "outputs": [],
   "source": [
    "for i in range(len(y_test)):\n",
    "    if(y_test[i]=='No'):\n",
    "        #print(y_test[i])\n",
    "        num = int(0)\n",
    "        #print(type(num))\n",
    "        y_test[i]= int(num)\n",
    "        #print(type(y_test[i]))\n",
    "        #print(y_test[i])\n",
    "    else:\n",
    "        num = int(1)\n",
    "        y_test[i]=int(num)\n",
    "        #print(type(y_test[i]))\n",
    "        \n",
    "    if(preds2[i]=='No'):\n",
    "        num = int(0)\n",
    "        preds2[i]=int(num)\n",
    "    else:\n",
    "        num = int(1)\n",
    "        preds2[i]=int(num)\n",
    "\n",
    "#print(y_test)\n",
    "#print(preds)"
   ]
  },
  {
   "cell_type": "code",
   "execution_count": 0,
   "metadata": {
    "colab": {},
    "colab_type": "code",
    "id": "_nSJdrPXfciP"
   },
   "outputs": [],
   "source": [
    "y_test = list(map(int, y_test)) \n",
    "preds2 = list(map(int, preds2)) "
   ]
  },
  {
   "cell_type": "code",
   "execution_count": 61,
   "metadata": {
    "colab": {
     "base_uri": "https://localhost:8080/",
     "height": 34
    },
    "colab_type": "code",
    "id": "SrvkiuJafcfz",
    "outputId": "1134e257-61a5-43b6-ae54-0c6ee9117656"
   },
   "outputs": [
    {
     "name": "stdout",
     "output_type": "stream",
     "text": [
      "0.5\n"
     ]
    }
   ],
   "source": [
    "print(roc_auc_score(y_test, preds2))"
   ]
  },
  {
   "cell_type": "code",
   "execution_count": 0,
   "metadata": {
    "colab": {},
    "colab_type": "code",
    "id": "OVF-8udxfccs"
   },
   "outputs": [],
   "source": [
    "#############################   Support Vector Machine Algorithm-With PCA 40% components  ##############################"
   ]
  },
  {
   "cell_type": "code",
   "execution_count": 0,
   "metadata": {
    "colab": {},
    "colab_type": "code",
    "id": "RCqjxXJDfcZg"
   },
   "outputs": [],
   "source": [
    "from sklearn.model_selection import train_test_split\n",
    "# test_size: what proportion of original data is used for test set\n",
    "X_train, X_test, y_train, y_test = train_test_split( X, y, test_size=0.1, random_state=0)"
   ]
  },
  {
   "cell_type": "code",
   "execution_count": 0,
   "metadata": {
    "colab": {},
    "colab_type": "code",
    "id": "UxEg7iLBfcXt"
   },
   "outputs": [],
   "source": [
    "from sklearn.preprocessing import StandardScaler\n",
    "scaler = StandardScaler()\n",
    "# Fit on training set only.\n",
    "scaler.fit(X_train)\n",
    "# Apply transform to both the training set and the test set.\n",
    "X_train = scaler.transform(X_train)\n",
    "X_test = scaler.transform(X_test)"
   ]
  },
  {
   "cell_type": "code",
   "execution_count": 0,
   "metadata": {
    "colab": {},
    "colab_type": "code",
    "id": "ERbpLL0KfcTz"
   },
   "outputs": [],
   "source": [
    "from sklearn.decomposition import PCA\n",
    "# Make an instance of the Model\n",
    "pca = PCA(.40)\n",
    "pca.fit(X_train)\n",
    "\n",
    "X_train = pca.transform(X_train) \n",
    "X_test = pca.transform(X_test) "
   ]
  },
  {
   "cell_type": "code",
   "execution_count": 0,
   "metadata": {
    "colab": {},
    "colab_type": "code",
    "id": "IjEx4Y6QfcQk"
   },
   "outputs": [],
   "source": [
    "from sklearn import svm\n",
    "svl = svm.SVC()"
   ]
  },
  {
   "cell_type": "code",
   "execution_count": 67,
   "metadata": {
    "colab": {
     "base_uri": "https://localhost:8080/",
     "height": 138
    },
    "colab_type": "code",
    "id": "BzbaHxtSfcNy",
    "outputId": "cbd28405-81a9-40c8-c5de-6b1ed3ec7075"
   },
   "outputs": [
    {
     "name": "stderr",
     "output_type": "stream",
     "text": [
      "/usr/local/lib/python3.6/dist-packages/sklearn/svm/base.py:193: FutureWarning: The default value of gamma will change from 'auto' to 'scale' in version 0.22 to account better for unscaled features. Set gamma explicitly to 'auto' or 'scale' to avoid this warning.\n",
      "  \"avoid this warning.\", FutureWarning)\n"
     ]
    },
    {
     "data": {
      "text/plain": [
       "SVC(C=1.0, cache_size=200, class_weight=None, coef0=0.0,\n",
       "    decision_function_shape='ovr', degree=3, gamma='auto_deprecated',\n",
       "    kernel='rbf', max_iter=-1, probability=False, random_state=None,\n",
       "    shrinking=True, tol=0.001, verbose=False)"
      ]
     },
     "execution_count": 67,
     "metadata": {
      "tags": []
     },
     "output_type": "execute_result"
    }
   ],
   "source": [
    "svl.fit(X_train,y_train)"
   ]
  },
  {
   "cell_type": "code",
   "execution_count": 68,
   "metadata": {
    "colab": {
     "base_uri": "https://localhost:8080/",
     "height": 34
    },
    "colab_type": "code",
    "id": "ZPKwhwSifcLM",
    "outputId": "900dd5bc-58b7-4260-a083-ba77edcef235"
   },
   "outputs": [
    {
     "name": "stdout",
     "output_type": "stream",
     "text": [
      "Accuracy: 0.8958333333333334\n"
     ]
    }
   ],
   "source": [
    "from sklearn.metrics import accuracy_score\n",
    "\n",
    "preds2 = svl.predict(X_test)\n",
    "#print(preds2)\n",
    "\n",
    "print(\"Accuracy:\", accuracy_score(y_test,preds2))"
   ]
  },
  {
   "cell_type": "code",
   "execution_count": 69,
   "metadata": {
    "colab": {
     "base_uri": "https://localhost:8080/",
     "height": 87
    },
    "colab_type": "code",
    "id": "TqwHaGnNfcIX",
    "outputId": "0aa9252d-05cb-4ac0-902f-5207877a59db"
   },
   "outputs": [
    {
     "name": "stdout",
     "output_type": "stream",
     "text": [
      "[0.94505495 0.        ]\n"
     ]
    },
    {
     "name": "stderr",
     "output_type": "stream",
     "text": [
      "/usr/local/lib/python3.6/dist-packages/sklearn/metrics/classification.py:1437: UndefinedMetricWarning: F-score is ill-defined and being set to 0.0 in labels with no predicted samples.\n",
      "  'precision', 'predicted', average, warn_for)\n"
     ]
    }
   ],
   "source": [
    "from sklearn.metrics import f1_score\n",
    "from sklearn.metrics import cohen_kappa_score\n",
    "from sklearn.metrics import roc_auc_score\n",
    "print(f1_score(y_test, preds2, average=None))"
   ]
  },
  {
   "cell_type": "code",
   "execution_count": 0,
   "metadata": {
    "colab": {},
    "colab_type": "code",
    "id": "uKZY9VRvfcC3"
   },
   "outputs": [],
   "source": [
    "for i in range(len(y_test)):\n",
    "    if(y_test[i]=='No'):\n",
    "        #print(y_test[i])\n",
    "        num = int(0)\n",
    "        #print(type(num))\n",
    "        y_test[i]= int(num)\n",
    "        #print(type(y_test[i]))\n",
    "        #print(y_test[i])\n",
    "    else:\n",
    "        num = int(1)\n",
    "        y_test[i]=int(num)\n",
    "        #print(type(y_test[i]))\n",
    "        \n",
    "    if(preds2[i]=='No'):\n",
    "        num = int(0)\n",
    "        preds2[i]=int(num)\n",
    "    else:\n",
    "        num = int(1)\n",
    "        preds2[i]=int(num)\n",
    "\n",
    "#print(y_test)\n",
    "#print(preds)"
   ]
  },
  {
   "cell_type": "code",
   "execution_count": 0,
   "metadata": {
    "colab": {},
    "colab_type": "code",
    "id": "JqrA2s2RfcAT"
   },
   "outputs": [],
   "source": [
    "y_test = list(map(int, y_test)) \n",
    "preds2 = list(map(int, preds2)) "
   ]
  },
  {
   "cell_type": "code",
   "execution_count": 72,
   "metadata": {
    "colab": {
     "base_uri": "https://localhost:8080/",
     "height": 34
    },
    "colab_type": "code",
    "id": "j-HceRhdfb-O",
    "outputId": "88f73c25-182e-4bb3-f063-66b324e44b0f"
   },
   "outputs": [
    {
     "name": "stdout",
     "output_type": "stream",
     "text": [
      "0.5\n"
     ]
    }
   ],
   "source": [
    "print(roc_auc_score(y_test, preds2))"
   ]
  },
  {
   "cell_type": "code",
   "execution_count": 0,
   "metadata": {
    "colab": {},
    "colab_type": "code",
    "id": "wPZUl66Nfb6l"
   },
   "outputs": [],
   "source": [
    "#############################   Support Vector Machine Algorithm-With PCA 60% components  ##############################"
   ]
  },
  {
   "cell_type": "code",
   "execution_count": 0,
   "metadata": {
    "colab": {},
    "colab_type": "code",
    "id": "MEQVUlgsfb3W"
   },
   "outputs": [],
   "source": [
    "from sklearn.model_selection import train_test_split\n",
    "# test_size: what proportion of original data is used for test set\n",
    "X_train, X_test, y_train, y_test = train_test_split( X, y, test_size=0.1, random_state=0)"
   ]
  },
  {
   "cell_type": "code",
   "execution_count": 0,
   "metadata": {
    "colab": {},
    "colab_type": "code",
    "id": "hcuOWkFefb0z"
   },
   "outputs": [],
   "source": [
    "from sklearn.preprocessing import StandardScaler\n",
    "scaler = StandardScaler()\n",
    "# Fit on training set only.\n",
    "scaler.fit(X_train)\n",
    "# Apply transform to both the training set and the test set.\n",
    "X_train = scaler.transform(X_train)\n",
    "X_test = scaler.transform(X_test)"
   ]
  },
  {
   "cell_type": "code",
   "execution_count": 0,
   "metadata": {
    "colab": {},
    "colab_type": "code",
    "id": "SLEdsGGlfbyd"
   },
   "outputs": [],
   "source": [
    "from sklearn.decomposition import PCA\n",
    "# Make an instance of the Model\n",
    "pca = PCA(.60)\n",
    "pca.fit(X_train)\n",
    "\n",
    "X_train = pca.transform(X_train) \n",
    "X_test = pca.transform(X_test) "
   ]
  },
  {
   "cell_type": "code",
   "execution_count": 0,
   "metadata": {
    "colab": {},
    "colab_type": "code",
    "id": "6ZeeEKmNfbvy"
   },
   "outputs": [],
   "source": [
    "from sklearn import svm\n",
    "svl = svm.SVC()"
   ]
  },
  {
   "cell_type": "code",
   "execution_count": 78,
   "metadata": {
    "colab": {
     "base_uri": "https://localhost:8080/",
     "height": 138
    },
    "colab_type": "code",
    "id": "kFvVpZz9fbtE",
    "outputId": "25caf731-5193-43a7-d793-05aee066780d"
   },
   "outputs": [
    {
     "name": "stderr",
     "output_type": "stream",
     "text": [
      "/usr/local/lib/python3.6/dist-packages/sklearn/svm/base.py:193: FutureWarning: The default value of gamma will change from 'auto' to 'scale' in version 0.22 to account better for unscaled features. Set gamma explicitly to 'auto' or 'scale' to avoid this warning.\n",
      "  \"avoid this warning.\", FutureWarning)\n"
     ]
    },
    {
     "data": {
      "text/plain": [
       "SVC(C=1.0, cache_size=200, class_weight=None, coef0=0.0,\n",
       "    decision_function_shape='ovr', degree=3, gamma='auto_deprecated',\n",
       "    kernel='rbf', max_iter=-1, probability=False, random_state=None,\n",
       "    shrinking=True, tol=0.001, verbose=False)"
      ]
     },
     "execution_count": 78,
     "metadata": {
      "tags": []
     },
     "output_type": "execute_result"
    }
   ],
   "source": [
    "svl.fit(X_train,y_train)"
   ]
  },
  {
   "cell_type": "code",
   "execution_count": 79,
   "metadata": {
    "colab": {
     "base_uri": "https://localhost:8080/",
     "height": 34
    },
    "colab_type": "code",
    "id": "TpyUUCnvfbqU",
    "outputId": "82078616-7dc5-499e-f3cf-34a8f27c9506"
   },
   "outputs": [
    {
     "name": "stdout",
     "output_type": "stream",
     "text": [
      "Accuracy: 0.8958333333333334\n"
     ]
    }
   ],
   "source": [
    "from sklearn.metrics import accuracy_score\n",
    "\n",
    "preds2 = svl.predict(X_test)\n",
    "#print(preds2)\n",
    "\n",
    "print(\"Accuracy:\", accuracy_score(y_test,preds2))"
   ]
  },
  {
   "cell_type": "code",
   "execution_count": 80,
   "metadata": {
    "colab": {
     "base_uri": "https://localhost:8080/",
     "height": 87
    },
    "colab_type": "code",
    "id": "nFYOPT0sfbnO",
    "outputId": "0ec04914-6e87-48c7-fdf2-164252e0c27d"
   },
   "outputs": [
    {
     "name": "stdout",
     "output_type": "stream",
     "text": [
      "[0.94505495 0.        ]\n"
     ]
    },
    {
     "name": "stderr",
     "output_type": "stream",
     "text": [
      "/usr/local/lib/python3.6/dist-packages/sklearn/metrics/classification.py:1437: UndefinedMetricWarning: F-score is ill-defined and being set to 0.0 in labels with no predicted samples.\n",
      "  'precision', 'predicted', average, warn_for)\n"
     ]
    }
   ],
   "source": [
    "from sklearn.metrics import f1_score\n",
    "from sklearn.metrics import cohen_kappa_score\n",
    "from sklearn.metrics import roc_auc_score\n",
    "print(f1_score(y_test, preds2, average=None))"
   ]
  },
  {
   "cell_type": "code",
   "execution_count": 0,
   "metadata": {
    "colab": {},
    "colab_type": "code",
    "id": "JnHZDWzefbkp"
   },
   "outputs": [],
   "source": [
    "for i in range(len(y_test)):\n",
    "    if(y_test[i]=='No'):\n",
    "        #print(y_test[i])\n",
    "        num = int(0)\n",
    "        #print(type(num))\n",
    "        y_test[i]= int(num)\n",
    "        #print(type(y_test[i]))\n",
    "        #print(y_test[i])\n",
    "    else:\n",
    "        num = int(1)\n",
    "        y_test[i]=int(num)\n",
    "        #print(type(y_test[i]))\n",
    "        \n",
    "    if(preds2[i]=='No'):\n",
    "        num = int(0)\n",
    "        preds2[i]=int(num)\n",
    "    else:\n",
    "        num = int(1)\n",
    "        preds2[i]=int(num)\n",
    "\n",
    "#print(y_test)\n",
    "#print(preds)"
   ]
  },
  {
   "cell_type": "code",
   "execution_count": 0,
   "metadata": {
    "colab": {},
    "colab_type": "code",
    "id": "mnmbT0BUfbhm"
   },
   "outputs": [],
   "source": [
    "y_test = list(map(int, y_test)) \n",
    "preds2 = list(map(int, preds2)) "
   ]
  },
  {
   "cell_type": "code",
   "execution_count": 83,
   "metadata": {
    "colab": {
     "base_uri": "https://localhost:8080/",
     "height": 34
    },
    "colab_type": "code",
    "id": "tdJVTTL9fbe7",
    "outputId": "569ca101-cd85-4577-9366-3873f22c5f80"
   },
   "outputs": [
    {
     "name": "stdout",
     "output_type": "stream",
     "text": [
      "0.5\n"
     ]
    }
   ],
   "source": [
    "print(roc_auc_score(y_test, preds2))"
   ]
  },
  {
   "cell_type": "code",
   "execution_count": 0,
   "metadata": {
    "colab": {},
    "colab_type": "code",
    "id": "AooGOXucfbb3"
   },
   "outputs": [],
   "source": [
    "#############################   Support Vector Machine Algorithm-With PCA 80% components  ##############################"
   ]
  },
  {
   "cell_type": "code",
   "execution_count": 0,
   "metadata": {
    "colab": {},
    "colab_type": "code",
    "id": "DiZ1WL5FfbYn"
   },
   "outputs": [],
   "source": [
    "from sklearn.model_selection import train_test_split\n",
    "# test_size: what proportion of original data is used for test set\n",
    "X_train, X_test, y_train, y_test = train_test_split( X, y, test_size=0.1, random_state=0)"
   ]
  },
  {
   "cell_type": "code",
   "execution_count": 0,
   "metadata": {
    "colab": {},
    "colab_type": "code",
    "id": "Hlnbs_2dewtF"
   },
   "outputs": [],
   "source": [
    "from sklearn.preprocessing import StandardScaler\n",
    "scaler = StandardScaler()\n",
    "# Fit on training set only.\n",
    "scaler.fit(X_train)\n",
    "# Apply transform to both the training set and the test set.\n",
    "X_train = scaler.transform(X_train)\n",
    "X_test = scaler.transform(X_test)"
   ]
  },
  {
   "cell_type": "code",
   "execution_count": 0,
   "metadata": {
    "colab": {},
    "colab_type": "code",
    "id": "l1e0Ot4eewrN"
   },
   "outputs": [],
   "source": [
    "from sklearn.decomposition import PCA\n",
    "# Make an instance of the Model\n",
    "pca = PCA(.80)\n",
    "pca.fit(X_train)\n",
    "\n",
    "X_train = pca.transform(X_train) \n",
    "X_test = pca.transform(X_test) "
   ]
  },
  {
   "cell_type": "code",
   "execution_count": 0,
   "metadata": {
    "colab": {},
    "colab_type": "code",
    "id": "N_x5mCpuewnv"
   },
   "outputs": [],
   "source": [
    "from sklearn import svm\n",
    "svl = svm.SVC()"
   ]
  },
  {
   "cell_type": "code",
   "execution_count": 89,
   "metadata": {
    "colab": {
     "base_uri": "https://localhost:8080/",
     "height": 138
    },
    "colab_type": "code",
    "id": "KCpR_9kYhZPf",
    "outputId": "d3684cda-6cd0-4801-887d-d09ee302fdb3"
   },
   "outputs": [
    {
     "name": "stderr",
     "output_type": "stream",
     "text": [
      "/usr/local/lib/python3.6/dist-packages/sklearn/svm/base.py:193: FutureWarning: The default value of gamma will change from 'auto' to 'scale' in version 0.22 to account better for unscaled features. Set gamma explicitly to 'auto' or 'scale' to avoid this warning.\n",
      "  \"avoid this warning.\", FutureWarning)\n"
     ]
    },
    {
     "data": {
      "text/plain": [
       "SVC(C=1.0, cache_size=200, class_weight=None, coef0=0.0,\n",
       "    decision_function_shape='ovr', degree=3, gamma='auto_deprecated',\n",
       "    kernel='rbf', max_iter=-1, probability=False, random_state=None,\n",
       "    shrinking=True, tol=0.001, verbose=False)"
      ]
     },
     "execution_count": 89,
     "metadata": {
      "tags": []
     },
     "output_type": "execute_result"
    }
   ],
   "source": [
    "svl.fit(X_train,y_train)"
   ]
  },
  {
   "cell_type": "code",
   "execution_count": 90,
   "metadata": {
    "colab": {
     "base_uri": "https://localhost:8080/",
     "height": 34
    },
    "colab_type": "code",
    "id": "DdP6zlXyewmQ",
    "outputId": "40f9978c-9a88-4e5d-e2b4-9754d1b40fd5"
   },
   "outputs": [
    {
     "name": "stdout",
     "output_type": "stream",
     "text": [
      "Accuracy: 0.8958333333333334\n"
     ]
    }
   ],
   "source": [
    "from sklearn.metrics import accuracy_score\n",
    "\n",
    "preds2 = svl.predict(X_test)\n",
    "#print(preds2)\n",
    "\n",
    "print(\"Accuracy:\", accuracy_score(y_test,preds2))"
   ]
  },
  {
   "cell_type": "code",
   "execution_count": 91,
   "metadata": {
    "colab": {
     "base_uri": "https://localhost:8080/",
     "height": 87
    },
    "colab_type": "code",
    "id": "c6IfX5cvgTuC",
    "outputId": "de8ee9e7-c77d-4f45-d731-af8e88dc2fb9"
   },
   "outputs": [
    {
     "name": "stdout",
     "output_type": "stream",
     "text": [
      "[0.94505495 0.        ]\n"
     ]
    },
    {
     "name": "stderr",
     "output_type": "stream",
     "text": [
      "/usr/local/lib/python3.6/dist-packages/sklearn/metrics/classification.py:1437: UndefinedMetricWarning: F-score is ill-defined and being set to 0.0 in labels with no predicted samples.\n",
      "  'precision', 'predicted', average, warn_for)\n"
     ]
    }
   ],
   "source": [
    "from sklearn.metrics import f1_score\n",
    "from sklearn.metrics import cohen_kappa_score\n",
    "from sklearn.metrics import roc_auc_score\n",
    "print(f1_score(y_test, preds2, average=None))"
   ]
  },
  {
   "cell_type": "code",
   "execution_count": 0,
   "metadata": {
    "colab": {},
    "colab_type": "code",
    "id": "O-hBQJhQgTrw"
   },
   "outputs": [],
   "source": [
    "for i in range(len(y_test)):\n",
    "    if(y_test[i]=='No'):\n",
    "        #print(y_test[i])\n",
    "        num = int(0)\n",
    "        #print(type(num))\n",
    "        y_test[i]= int(num)\n",
    "        #print(type(y_test[i]))\n",
    "        #print(y_test[i])\n",
    "    else:\n",
    "        num = int(1)\n",
    "        y_test[i]=int(num)\n",
    "        #print(type(y_test[i]))\n",
    "        \n",
    "    if(preds2[i]=='No'):\n",
    "        num = int(0)\n",
    "        preds2[i]=int(num)\n",
    "    else:\n",
    "        num = int(1)\n",
    "        preds2[i]=int(num)\n",
    "\n",
    "#print(y_test)\n",
    "#print(preds)"
   ]
  },
  {
   "cell_type": "code",
   "execution_count": 0,
   "metadata": {
    "colab": {},
    "colab_type": "code",
    "id": "BD2B130ugTp9"
   },
   "outputs": [],
   "source": [
    "y_test = list(map(int, y_test)) \n",
    "preds2 = list(map(int, preds2)) "
   ]
  },
  {
   "cell_type": "code",
   "execution_count": 94,
   "metadata": {
    "colab": {
     "base_uri": "https://localhost:8080/",
     "height": 34
    },
    "colab_type": "code",
    "id": "ncyp9ro8gTla",
    "outputId": "61cde751-a70d-4a18-e2b2-dd38bc291923"
   },
   "outputs": [
    {
     "name": "stdout",
     "output_type": "stream",
     "text": [
      "0.5\n"
     ]
    }
   ],
   "source": [
    "print(roc_auc_score(y_test, preds2))"
   ]
  },
  {
   "cell_type": "code",
   "execution_count": 0,
   "metadata": {
    "colab": {},
    "colab_type": "code",
    "id": "uk4Q2sgFgThc"
   },
   "outputs": [],
   "source": [
    "#############################   Support Vector Machine Algorithm-With PCA 100% components  ##############################"
   ]
  },
  {
   "cell_type": "code",
   "execution_count": 0,
   "metadata": {
    "colab": {},
    "colab_type": "code",
    "id": "y_Ui5WK6gTe0"
   },
   "outputs": [],
   "source": [
    "from sklearn.model_selection import train_test_split\n",
    "# test_size: what proportion of original data is used for test set\n",
    "X_train, X_test, y_train, y_test = train_test_split( X, y, test_size=0.1, random_state=0)"
   ]
  },
  {
   "cell_type": "code",
   "execution_count": 0,
   "metadata": {
    "colab": {},
    "colab_type": "code",
    "id": "eL2fXvbYgTbM"
   },
   "outputs": [],
   "source": [
    "from sklearn.preprocessing import StandardScaler\n",
    "scaler = StandardScaler()\n",
    "# Fit on training set only.\n",
    "scaler.fit(X_train)\n",
    "# Apply transform to both the training set and the test set.\n",
    "X_train = scaler.transform(X_train)\n",
    "X_test = scaler.transform(X_test)"
   ]
  },
  {
   "cell_type": "code",
   "execution_count": 0,
   "metadata": {
    "colab": {},
    "colab_type": "code",
    "id": "_hbrWlN-gTZg"
   },
   "outputs": [],
   "source": [
    "from sklearn.decomposition import PCA\n",
    "# Make an instance of the Model\n",
    "pca = PCA(.100)\n",
    "pca.fit(X_train)\n",
    "\n",
    "X_train = pca.transform(X_train) \n",
    "X_test = pca.transform(X_test) "
   ]
  },
  {
   "cell_type": "code",
   "execution_count": 0,
   "metadata": {
    "colab": {},
    "colab_type": "code",
    "id": "jdF4gUAMgTUs"
   },
   "outputs": [],
   "source": [
    "from sklearn import svm\n",
    "svl = svm.SVC()"
   ]
  },
  {
   "cell_type": "code",
   "execution_count": 100,
   "metadata": {
    "colab": {
     "base_uri": "https://localhost:8080/",
     "height": 138
    },
    "colab_type": "code",
    "id": "LHedzOoFha2J",
    "outputId": "3f4d4d2f-c846-422e-c6a9-4a92b411336d"
   },
   "outputs": [
    {
     "name": "stderr",
     "output_type": "stream",
     "text": [
      "/usr/local/lib/python3.6/dist-packages/sklearn/svm/base.py:193: FutureWarning: The default value of gamma will change from 'auto' to 'scale' in version 0.22 to account better for unscaled features. Set gamma explicitly to 'auto' or 'scale' to avoid this warning.\n",
      "  \"avoid this warning.\", FutureWarning)\n"
     ]
    },
    {
     "data": {
      "text/plain": [
       "SVC(C=1.0, cache_size=200, class_weight=None, coef0=0.0,\n",
       "    decision_function_shape='ovr', degree=3, gamma='auto_deprecated',\n",
       "    kernel='rbf', max_iter=-1, probability=False, random_state=None,\n",
       "    shrinking=True, tol=0.001, verbose=False)"
      ]
     },
     "execution_count": 100,
     "metadata": {
      "tags": []
     },
     "output_type": "execute_result"
    }
   ],
   "source": [
    "svl.fit(X_train,y_train)"
   ]
  },
  {
   "cell_type": "code",
   "execution_count": 101,
   "metadata": {
    "colab": {
     "base_uri": "https://localhost:8080/",
     "height": 34
    },
    "colab_type": "code",
    "id": "PFxjhhTwgTSl",
    "outputId": "39be63d8-cda6-4a8b-d5cb-46a58dfe0810"
   },
   "outputs": [
    {
     "name": "stdout",
     "output_type": "stream",
     "text": [
      "Accuracy: 0.8958333333333334\n"
     ]
    }
   ],
   "source": [
    "from sklearn.metrics import accuracy_score\n",
    "\n",
    "preds2 = svl.predict(X_test)\n",
    "#print(preds2)\n",
    "\n",
    "print(\"Accuracy:\", accuracy_score(y_test,preds2))"
   ]
  },
  {
   "cell_type": "code",
   "execution_count": 102,
   "metadata": {
    "colab": {
     "base_uri": "https://localhost:8080/",
     "height": 87
    },
    "colab_type": "code",
    "id": "IegXd4RbgTPr",
    "outputId": "5740c1fd-9c3d-4ba7-c794-72aab3c3b30b"
   },
   "outputs": [
    {
     "name": "stdout",
     "output_type": "stream",
     "text": [
      "[0.94505495 0.        ]\n"
     ]
    },
    {
     "name": "stderr",
     "output_type": "stream",
     "text": [
      "/usr/local/lib/python3.6/dist-packages/sklearn/metrics/classification.py:1437: UndefinedMetricWarning: F-score is ill-defined and being set to 0.0 in labels with no predicted samples.\n",
      "  'precision', 'predicted', average, warn_for)\n"
     ]
    }
   ],
   "source": [
    "from sklearn.metrics import f1_score\n",
    "from sklearn.metrics import cohen_kappa_score\n",
    "from sklearn.metrics import roc_auc_score\n",
    "print(f1_score(y_test, preds2, average=None))"
   ]
  },
  {
   "cell_type": "code",
   "execution_count": 0,
   "metadata": {
    "colab": {},
    "colab_type": "code",
    "id": "sxrQck1vgTNE"
   },
   "outputs": [],
   "source": [
    "for i in range(len(y_test)):\n",
    "    if(y_test[i]=='No'):\n",
    "        #print(y_test[i])\n",
    "        num = int(0)\n",
    "        #print(type(num))\n",
    "        y_test[i]= int(num)\n",
    "        #print(type(y_test[i]))\n",
    "        #print(y_test[i])\n",
    "    else:\n",
    "        num = int(1)\n",
    "        y_test[i]=int(num)\n",
    "        #print(type(y_test[i]))\n",
    "        \n",
    "    if(preds2[i]=='No'):\n",
    "        num = int(0)\n",
    "        preds2[i]=int(num)\n",
    "    else:\n",
    "        num = int(1)\n",
    "        preds2[i]=int(num)\n",
    "\n",
    "#print(y_test)\n",
    "#print(preds)"
   ]
  },
  {
   "cell_type": "code",
   "execution_count": 0,
   "metadata": {
    "colab": {},
    "colab_type": "code",
    "id": "1Hy8QjmugTJh"
   },
   "outputs": [],
   "source": [
    "y_test = list(map(int, y_test)) \n",
    "preds2 = list(map(int, preds2)) "
   ]
  },
  {
   "cell_type": "code",
   "execution_count": 105,
   "metadata": {
    "colab": {
     "base_uri": "https://localhost:8080/",
     "height": 34
    },
    "colab_type": "code",
    "id": "Wuy2fxP_gTD2",
    "outputId": "ae0d037b-1534-4730-e600-6e4d88ba1177"
   },
   "outputs": [
    {
     "name": "stdout",
     "output_type": "stream",
     "text": [
      "0.5\n"
     ]
    }
   ],
   "source": [
    "print(roc_auc_score(y_test, preds2))"
   ]
  }
 ],
 "metadata": {
  "colab": {
   "name": "PCA_SVM-ROC.ipynb",
   "provenance": []
  },
  "kernelspec": {
   "display_name": "Python 3",
   "language": "python",
   "name": "python3"
  },
  "language_info": {
   "codemirror_mode": {
    "name": "ipython",
    "version": 3
   },
   "file_extension": ".py",
   "mimetype": "text/x-python",
   "name": "python",
   "nbconvert_exporter": "python",
   "pygments_lexer": "ipython3",
   "version": "3.7.6"
  }
 },
 "nbformat": 4,
 "nbformat_minor": 1
}
