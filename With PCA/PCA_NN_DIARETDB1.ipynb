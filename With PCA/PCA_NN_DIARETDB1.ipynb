{
  "nbformat": 4,
  "nbformat_minor": 0,
  "metadata": {
    "colab": {
      "name": "PCA_NN-DIARETDB1.ipynb",
      "provenance": [],
      "collapsed_sections": []
    },
    "kernelspec": {
      "name": "python3",
      "display_name": "Python 3"
    }
  },
  "cells": [
    {
      "cell_type": "code",
      "metadata": {
        "id": "_Pe78SiDafDx",
        "colab_type": "code",
        "colab": {
          "base_uri": "https://localhost:8080/",
          "height": 34
        },
        "outputId": "36145003-4705-4327-87d5-969bc1d61d79"
      },
      "source": [
        "from google.colab import drive\n",
        "drive.mount('/content/gdrive')\n",
        "rootpath = 'gdrive/My Drive/Patches_DIARETDB1/'"
      ],
      "execution_count": 118,
      "outputs": [
        {
          "output_type": "stream",
          "text": [
            "Drive already mounted at /content/gdrive; to attempt to forcibly remount, call drive.mount(\"/content/gdrive\", force_remount=True).\n"
          ],
          "name": "stdout"
        }
      ]
    },
    {
      "cell_type": "code",
      "metadata": {
        "id": "dl_QR6DOauVP",
        "colab_type": "code",
        "colab": {}
      },
      "source": [
        "import matplotlib.pyplot as plt\n",
        "import cv2\n",
        "import glob\n",
        "import numpy as np"
      ],
      "execution_count": 0,
      "outputs": []
    },
    {
      "cell_type": "code",
      "metadata": {
        "id": "AycwiNOWauSX",
        "colab_type": "code",
        "colab": {
          "base_uri": "https://localhost:8080/",
          "height": 50
        },
        "outputId": "cc376957-15c5-442c-dfa0-a6c62587f813"
      },
      "source": [
        "#Create numpy array of images\n",
        "X = []\n",
        "files = glob.glob (rootpath+\"*.png\")\n",
        "#print(files)\n",
        "files.sort()\n",
        "# files = sorted(files)\n",
        "for myFile in files:\n",
        "    #print(myFile)\n",
        "    image = cv2.imread (myFile,0)\n",
        "    X.append (image)\n",
        "\n",
        "X = np.array(X)\n",
        "print('X_data shape:', X.shape)\n",
        "print(len(X))"
      ],
      "execution_count": 34,
      "outputs": [
        {
          "output_type": "stream",
          "text": [
            "X_data shape: (1335, 300, 300)\n",
            "1335\n"
          ],
          "name": "stdout"
        }
      ]
    },
    {
      "cell_type": "code",
      "metadata": {
        "id": "4xLd2SCXauPB",
        "colab_type": "code",
        "colab": {}
      },
      "source": [
        "y = ['No','No','Yes','No','Yes','No','No','Yes','Yes','No','No','No','No','Yes','No',\n",
        "     'No','No','Yes','No','Yes','Yes','No','Yes','Yes','No','No','Yes','Yes','Yes','Yes',\n",
        "     'No','Yes','Yes','No','Yes','No','No','Yes','Yes','No','No','Yes','Yes','Yes','Yes',\n",
        "     'No','Yes','Yes','Yes','Yes','No','No','Yes','Yes','No','Yes','Yes','No','Yes','No',\n",
        "     'Yes','No','Yes','No','Yes','Yes','No','Yes','Yes','Yes','Yes','Yes','Yes','Yes','Yes',\n",
        "     'Yes','No','No','No','Yes','No','No','Yes','Yes','No','No','No','No','Yes','No',\n",
        "     'Yes','Yes','Yes','No','Yes','No','No','No','Yes','No','Yes','Yes','Yes','Yes','No',\n",
        "     'Yes','No','Yes','Yes','Yes','Yes','No','Yes','Yes','No','Yes','Yes','Yes','Yes','Yes',\n",
        "     'No','No','Yes','No','Yes','Yes','No','No','Yes','No','No','No','No','Yes','Yes',\n",
        "     'No','No','Yes','No','Yes','Yes','No','No','Yes','No','Yes','Yes','Yes','Yes','Yes',\n",
        "     'No','No','Yes','No','Yes','Yes','No','Yes','Yes','No','Yes','Yes','Yes','Yes','Yes',\n",
        "     'No','No','No','No','Yes','No','No','Yes','Yes','No','No','No','No','Yes','No',\n",
        "     'No','No','No','No','Yes','No','No','Yes','Yes','No','Yes','No','Yes','Yes','Yes',\n",
        "     'Yes','No','No','No','No','Yes','No','No','No','No','Yes','Yes','Yes','Yes','No',\n",
        "     'Yes','No','Yes','Yes','Yes','Yes','Yes','Yes','Yes','No','Yes','Yes','Yes','Yes','Yes',\n",
        "     'Yes','Yes','Yes','No','Yes','Yes','No','No','No','No','Yes','Yes','Yes','No','Yes',\n",
        "     'Yes','No','No','No','Yes','No','No','Yes','Yes','No','No','No','No','Yes','No',\n",
        "     'No','No','No','No','Yes','No','No','Yes','Yes','No','No','Yes','No','Yes','Yes',\n",
        "     'No','Yes','Yes','Yes','No','Yes','Yes','Yes','Yes','No','No','Yes','Yes','Yes','Yes',\n",
        "     'No','Yes','Yes','Yes','Yes','Yes','No','Yes','Yes','No','Yes','Yes','Yes','Yes','Yes',\n",
        "     'No','Yes','Yes','Yes','Yes','Yes','No','Yes','Yes','Yes','Yes','Yes','Yes','Yes','Yes',\n",
        "     'Yes','No','Yes','Yes','No','Yes','No','Yes','Yes','No','No','No','No','Yes','Yes',\n",
        "     'No','No','No','No','No','Yes','No','No','No','No','Yes','Yes','No','No','Yes',\n",
        "     'No','No','No','No','No','Yes','No','No','No','No','Yes','Yes','Yes','No','Yes',\n",
        "     'No','No','Yes','No','Yes','Yes','No','No','No','No','Yes','Yes','Yes','No','Yes',\n",
        "     'No','Yes','Yes','No','No','No','No','No','Yes','Yes','Yes','Yes','Yes','Yes','Yes',\n",
        "     'Yes','Yes','Yes','Yes','No','Yes','No','Yes','Yes','Yes','Yes','No','Yes','Yes','No',\n",
        "     'No','No','No','Yes','Yes','No','Yes','No','Yes','No','No','No','No','Yes','No',\n",
        "     'No','Yes','No','No','Yes','No','Yes','No','No','Yes','Yes','Yes','Yes','Yes','No',\n",
        "     'No','No','No','No','Yes','No','No','Yes','Yes','No','No','No','No','Yes','No', #30\n",
        "     'No','No','No','No','Yes','No','No','No','Yes','No','No','No','No','Yes','No',\n",
        "     'No','No','No','No','Yes','No','No','No','No','No','No','No','No','Yes','No',\n",
        "     'No','No','No','No','Yes','No','No','No','Yes','No','No','No','No','Yes','No',\n",
        "     'No','No','No','No','Yes','No','No','No','Yes','No','No','No','No','Yes','No',\n",
        "     'No','No','No','No','Yes','No','Yes','No','Yes','No','No','No','No','Yes','No',\n",
        "     'No','No','No','No','Yes','No','Yes','No','Yes','No','No','No','No','Yes','No',\n",
        "     'No','No','No','No','Yes','No','No','No','Yes','No','No','No','No','Yes','No', \n",
        "     'No','No','No','No','Yes','No','No','No','Yes','No','No','No','No','Yes','No',\n",
        "     'No','No','No','No','Yes','No','No','No','Yes','No','No','No','No','Yes','No',\n",
        "     'No','No','No','No','Yes','No','No','No','Yes','No','No','No','No','Yes','No',\n",
        "     'No','No','No','No','Yes','No','No','No','Yes','No','No','No','No','Yes','No',\n",
        "     'No','No','No','No','Yes','No','No','No','Yes','No','No','No','No','Yes','No',\n",
        "     'No','No','No','No','Yes','No','Yes','No','Yes','No','No','Yes','No','Yes','No',\n",
        "     'No','No','No','No','Yes','No','Yes','No','Yes','No','Yes','Yes','No','Yes','No',\n",
        "     'No','No','No','No','Yes','No','No','No','Yes','No','No','No','No','Yes','No',\n",
        "     'No','No','No','No','Yes','No','No','No','Yes','No','No','No','No','Yes','No',\n",
        "     'No','No','No','No','Yes','No','No','No','Yes','No','No','No','No','Yes','No',\n",
        "     'No','No','No','No','Yes','No','No','No','Yes','No','No','No','No','Yes','No',\n",
        "     'No','No','No','No','Yes','No','No','Yes','Yes','No','No','No','No','Yes','No',\n",
        "     'No','No','No','No','Yes','No','No','No','Yes','No','No','No','No','Yes','Yes', #50\n",
        "     'No','No','No','No','Yes','No','No','Yes','Yes','No','No','No','No','Yes','Yes',\n",
        "     'No','No','Yes','Yes','Yes','No','No','No','Yes','No','Yes','No','Yes','Yes','No',\n",
        "     'No','No','Yes','Yes','Yes','Yes','Yes','No','Yes','No','No','Yes','No','Yes','Yes',\n",
        "     'No','No','No','No','Yes','No','No','No','Yes','No','Yes','Yes','No','Yes','No',\n",
        "     'No','No','Yes','No','Yes','No','No','Yes','Yes','No','No','No','No','Yes','Yes',\n",
        "     'No','No','No','No','Yes','No','No','No','Yes','No','No','No','No','Yes','Yes',\n",
        "     'No','No','No','No','Yes','No','No','No','Yes','No','No','No','No','Yes','No',\n",
        "     'No','No','No','No','Yes','No','No','No','Yes','No','No','No','No','Yes','No',\n",
        "     'No','Yes','No','No','Yes','No','No','Yes','Yes','No','No','No','No','Yes','No',\n",
        "     'No','No','No','No','Yes','No','No','Yes','Yes','No','No','No','No','Yes','No', #60\n",
        "     'No','No','No','No','Yes','No','No','No','Yes','No','No','No','No','Yes','No',\n",
        "     'No','No','No','No','Yes','No','No','Yes','Yes','No','No','No','No','Yes','No',\n",
        "     'No','No','No','No','Yes','No','No','No','Yes','No','No','No','No','Yes','No',\n",
        "     'No','No','Yes','No','Yes','No','Yes','Yes','Yes','No','Yes','No','No','Yes','No',\n",
        "     'No','No','No','No','Yes','No','Yes','No','No','No','Yes','Yes','No','Yes','Yes',\n",
        "     'No','No','No','No','Yes','No','No','No','Yes','No','No','No','No','Yes','No',\n",
        "     'No','No','No','Yes','Yes','Yes','No','No','Yes','No','No','No','No','Yes','Yes',\n",
        "     'No','No','No','No','Yes','No','No','No','Yes','No','No','No','No','Yes','No',\n",
        "     'No','Yes','No','No','Yes','No','No','No','Yes','No','No','No','No','Yes','No',\n",
        "     'No','No','No','No','Yes','No','No','No','Yes','No','No','No','No','Yes','No', #70\n",
        "     'No','No','No','No','Yes','No','No','No','Yes','No','No','No','No','Yes','No',\n",
        "     'No','No','No','No','Yes','No','Yes','No','Yes','No','No','No','No','Yes','No',\n",
        "     'No','No','No','No','Yes','No','Yes','No','Yes','No','No','No','No','Yes','No',\n",
        "     'No','No','No','No','Yes','No','No','No','Yes','No','No','No','No','Yes','No',\n",
        "     'No','No','No','No','Yes','No','No','Yes','Yes','No','No','No','No','Yes','No',\n",
        "     'No','No','No','No','Yes','No','No','No','Yes','No','No','No','No','Yes','No',\n",
        "     'No','No','No','No','Yes','No','No','No','Yes','No','No','No','No','Yes','No',\n",
        "     'No','No','No','No','Yes','No','No','No','Yes','No','No','No','No','Yes','No',\n",
        "     'No','No','No','No','Yes','No','No','Yes','Yes','No','No','No','No','Yes','No', #79\n",
        "     'Yes','Yes','No','No','Yes','No','No','No','Yes','No','No','No','No','Yes','No',\n",
        "     'No','Yes','No','No','Yes','No','No','No','Yes','No','No','No','Yes','Yes','No',\n",
        "     'No','No','No','No','Yes','No','No','No','Yes','No','No','No','No','Yes','No',\n",
        "     'No','No','No','No','Yes','No','No','No','Yes','No','No','Yes','No','Yes','No',\n",
        "     'No','No','No','No','No','Yes','No','No','No','No','Yes','Yes','No','No','Yes',\n",
        "     'No','No','No','No','No','Yes','No','No','No','No','No','Yes','No','No','Yes',\n",
        "     'No','No','No','No','Yes','No','No','No','Yes','No','No','No','No','Yes','No',\n",
        "     'No','No','No','No','Yes','No','No','No','Yes','No','No','No','No','Yes','No',\n",
        "     'No','No','No','No','Yes','No','No','No','Yes','No','No','No','No','Yes','No',\n",
        "     'No','No','No','No','Yes','No','No','No','Yes','No','No','Yes','No','Yes','No' #89\n",
        "     ]"
      ],
      "execution_count": 0,
      "outputs": []
    },
    {
      "cell_type": "code",
      "metadata": {
        "id": "a_uNCnyJauM-",
        "colab_type": "code",
        "colab": {
          "base_uri": "https://localhost:8080/",
          "height": 34
        },
        "outputId": "d5f93203-5a86-4194-8714-e82a7a05fcce"
      },
      "source": [
        "y = np.asarray(y) \n",
        "print(y.shape)"
      ],
      "execution_count": 36,
      "outputs": [
        {
          "output_type": "stream",
          "text": [
            "(1335,)\n"
          ],
          "name": "stdout"
        }
      ]
    },
    {
      "cell_type": "code",
      "metadata": {
        "id": "wSY2f3DMauI9",
        "colab_type": "code",
        "colab": {}
      },
      "source": [
        "from sklearn.utils import shuffle\n",
        "# X = X.reshape(X.shape[0],X.shape[1]*X.shape[2]).T\n",
        "# y = y.reshape(y.shape[0],)\n",
        "X = np.reshape(X, [X.shape[0], X.shape[1]*X.shape[2]])\n",
        "\n",
        "X, y = shuffle(X, y, random_state=42)"
      ],
      "execution_count": 0,
      "outputs": []
    },
    {
      "cell_type": "code",
      "metadata": {
        "id": "OxOdqdB4auHS",
        "colab_type": "code",
        "colab": {}
      },
      "source": [
        "#############################   Neural Network Algorithm-With PCA 2% components  ##############################"
      ],
      "execution_count": 0,
      "outputs": []
    },
    {
      "cell_type": "code",
      "metadata": {
        "id": "Hy-_28YNauDd",
        "colab_type": "code",
        "colab": {}
      },
      "source": [
        "from sklearn.model_selection import train_test_split\n",
        "# test_size: what proportion of original data is used for test set\n",
        "X_train, X_test, y_train, y_test = train_test_split( X, y, test_size=0.1, random_state=0)"
      ],
      "execution_count": 0,
      "outputs": []
    },
    {
      "cell_type": "code",
      "metadata": {
        "id": "sFDbVUtNb28b",
        "colab_type": "code",
        "colab": {}
      },
      "source": [
        "from sklearn.preprocessing import StandardScaler\n",
        "scaler = StandardScaler()\n",
        "# Fit on training set only.\n",
        "scaler.fit(X_train)\n",
        "# Apply transform to both the training set and the test set.\n",
        "X_train = scaler.transform(X_train)\n",
        "X_test = scaler.transform(X_test)\n"
      ],
      "execution_count": 0,
      "outputs": []
    },
    {
      "cell_type": "code",
      "metadata": {
        "id": "6oN-dqvBauBz",
        "colab_type": "code",
        "colab": {}
      },
      "source": [
        "from sklearn.decomposition import PCA\n",
        "# Make an instance of the Model\n",
        "pca = PCA(.2)\n",
        "pca.fit(X_train)\n",
        "\n",
        "X_train = pca.transform(X_train) \n",
        "X_test = pca.transform(X_test) \n"
      ],
      "execution_count": 0,
      "outputs": []
    },
    {
      "cell_type": "code",
      "metadata": {
        "id": "eKojA1Mlat9h",
        "colab_type": "code",
        "colab": {
          "base_uri": "https://localhost:8080/",
          "height": 134
        },
        "outputId": "7494be97-4a95-4ce6-9282-d639b098e02c"
      },
      "source": [
        "from sklearn.neural_network import MLPClassifier\n",
        "mlp = MLPClassifier(hidden_layer_sizes= 40)\n",
        "mlp.fit(X_train, y_train)"
      ],
      "execution_count": 42,
      "outputs": [
        {
          "output_type": "execute_result",
          "data": {
            "text/plain": [
              "MLPClassifier(activation='relu', alpha=0.0001, batch_size='auto', beta_1=0.9,\n",
              "              beta_2=0.999, early_stopping=False, epsilon=1e-08,\n",
              "              hidden_layer_sizes=40, learning_rate='constant',\n",
              "              learning_rate_init=0.001, max_iter=200, momentum=0.9,\n",
              "              n_iter_no_change=10, nesterovs_momentum=True, power_t=0.5,\n",
              "              random_state=None, shuffle=True, solver='adam', tol=0.0001,\n",
              "              validation_fraction=0.1, verbose=False, warm_start=False)"
            ]
          },
          "metadata": {
            "tags": []
          },
          "execution_count": 42
        }
      ]
    },
    {
      "cell_type": "code",
      "metadata": {
        "id": "XavEVSl0at4K",
        "colab_type": "code",
        "colab": {
          "base_uri": "https://localhost:8080/",
          "height": 34
        },
        "outputId": "776e7b0d-ac0c-41d8-cb85-3a62c05ed9b8"
      },
      "source": [
        "from sklearn.metrics import accuracy_score\n",
        "\n",
        "preds1 = mlp.predict(X_test)\n",
        "#print(preds1z\n",
        "\n",
        "#preds = clf.predict(X_test)\n",
        "print(\"Accuracy:\", accuracy_score(y_test,preds1))"
      ],
      "execution_count": 43,
      "outputs": [
        {
          "output_type": "stream",
          "text": [
            "Accuracy: 0.582089552238806\n"
          ],
          "name": "stdout"
        }
      ]
    },
    {
      "cell_type": "code",
      "metadata": {
        "id": "758Vj6qyat2r",
        "colab_type": "code",
        "colab": {
          "base_uri": "https://localhost:8080/",
          "height": 34
        },
        "outputId": "c44e8146-e970-4698-b4a6-2872c6e9a99d"
      },
      "source": [
        "from sklearn.metrics import f1_score\n",
        "from sklearn.metrics import cohen_kappa_score\n",
        "from sklearn.metrics import roc_auc_score\n",
        "print(f1_score(y_test, preds1, average=None))"
      ],
      "execution_count": 44,
      "outputs": [
        {
          "output_type": "stream",
          "text": [
            "[0.6744186  0.41666667]\n"
          ],
          "name": "stdout"
        }
      ]
    },
    {
      "cell_type": "code",
      "metadata": {
        "id": "dSdnQVYnatzU",
        "colab_type": "code",
        "colab": {}
      },
      "source": [
        "for i in range(len(y_test)):\n",
        "    if(y_test[i]=='No'):\n",
        "        #print(y_test[i])\n",
        "        num = int(0)\n",
        "        #print(type(num))\n",
        "        y_test[i]= int(num)\n",
        "        #print(type(y_test[i]))\n",
        "        #print(y_test[i])\n",
        "    else:\n",
        "        num = int(1)\n",
        "        y_test[i]=int(num)\n",
        "        #print(type(y_test[i]))\n",
        "        \n",
        "    if(preds1[i]=='No'):\n",
        "        num = int(0)\n",
        "        preds1[i]=int(num)\n",
        "    else:\n",
        "        num = int(1)\n",
        "        preds1[i]=int(num)\n",
        "\n",
        "#print(y_test)\n",
        "#print(preds)"
      ],
      "execution_count": 0,
      "outputs": []
    },
    {
      "cell_type": "code",
      "metadata": {
        "id": "AZHyEmW8atxA",
        "colab_type": "code",
        "colab": {}
      },
      "source": [
        "y_test = list(map(int, y_test)) \n",
        "preds1 = list(map(int, preds1)) "
      ],
      "execution_count": 0,
      "outputs": []
    },
    {
      "cell_type": "code",
      "metadata": {
        "id": "FQ2_xVXrattr",
        "colab_type": "code",
        "colab": {
          "base_uri": "https://localhost:8080/",
          "height": 34
        },
        "outputId": "3237803f-e0bb-4543-a8f3-f24398bc9eb6"
      },
      "source": [
        "print(roc_auc_score(y_test, preds1))"
      ],
      "execution_count": 47,
      "outputs": [
        {
          "output_type": "stream",
          "text": [
            "0.5455426356589148\n"
          ],
          "name": "stdout"
        }
      ]
    },
    {
      "cell_type": "code",
      "metadata": {
        "id": "Ht2nsxj8atra",
        "colab_type": "code",
        "colab": {}
      },
      "source": [
        "#############################   Neural Network Algorithm-With PCA 5% components  ##############################"
      ],
      "execution_count": 0,
      "outputs": []
    },
    {
      "cell_type": "code",
      "metadata": {
        "id": "m1ih7lCNatoP",
        "colab_type": "code",
        "colab": {}
      },
      "source": [
        "from sklearn.model_selection import train_test_split\n",
        "# test_size: what proportion of original data is used for test set\n",
        "X_train, X_test, y_train, y_test = train_test_split( X, y, test_size=0.1, random_state=0)"
      ],
      "execution_count": 0,
      "outputs": []
    },
    {
      "cell_type": "code",
      "metadata": {
        "id": "kxY8xmqwatlL",
        "colab_type": "code",
        "colab": {}
      },
      "source": [
        "from sklearn.preprocessing import StandardScaler\n",
        "scaler = StandardScaler()\n",
        "# Fit on training set only.\n",
        "scaler.fit(X_train)\n",
        "# Apply transform to both the training set and the test set.\n",
        "X_train = scaler.transform(X_train)\n",
        "X_test = scaler.transform(X_test)\n"
      ],
      "execution_count": 0,
      "outputs": []
    },
    {
      "cell_type": "code",
      "metadata": {
        "id": "KUYdBuT5athq",
        "colab_type": "code",
        "colab": {}
      },
      "source": [
        "from sklearn.decomposition import PCA\n",
        "# Make an instance of the Model\n",
        "pca = PCA(.5)\n",
        "pca.fit(X_train)\n",
        "\n",
        "X_train = pca.transform(X_train) \n",
        "X_test = pca.transform(X_test) "
      ],
      "execution_count": 0,
      "outputs": []
    },
    {
      "cell_type": "code",
      "metadata": {
        "id": "pcjFq2qqateu",
        "colab_type": "code",
        "colab": {
          "base_uri": "https://localhost:8080/",
          "height": 134
        },
        "outputId": "7dad4192-7bff-425b-dfbb-680254b213b1"
      },
      "source": [
        "from sklearn.neural_network import MLPClassifier\n",
        "mlp = MLPClassifier(hidden_layer_sizes= 40)\n",
        "mlp.fit(X_train, y_train)"
      ],
      "execution_count": 52,
      "outputs": [
        {
          "output_type": "execute_result",
          "data": {
            "text/plain": [
              "MLPClassifier(activation='relu', alpha=0.0001, batch_size='auto', beta_1=0.9,\n",
              "              beta_2=0.999, early_stopping=False, epsilon=1e-08,\n",
              "              hidden_layer_sizes=40, learning_rate='constant',\n",
              "              learning_rate_init=0.001, max_iter=200, momentum=0.9,\n",
              "              n_iter_no_change=10, nesterovs_momentum=True, power_t=0.5,\n",
              "              random_state=None, shuffle=True, solver='adam', tol=0.0001,\n",
              "              validation_fraction=0.1, verbose=False, warm_start=False)"
            ]
          },
          "metadata": {
            "tags": []
          },
          "execution_count": 52
        }
      ]
    },
    {
      "cell_type": "code",
      "metadata": {
        "id": "YuLUKs6RatZb",
        "colab_type": "code",
        "colab": {
          "base_uri": "https://localhost:8080/",
          "height": 34
        },
        "outputId": "1b92deb7-eb14-452d-9a5c-2f370f230015"
      },
      "source": [
        "from sklearn.metrics import accuracy_score\n",
        "\n",
        "preds1 = mlp.predict(X_test)\n",
        "#print(preds1)\n",
        "\n",
        "#preds = clf.predict(X_test)\n",
        "print(\"Accuracy:\", accuracy_score(y_test,preds1))"
      ],
      "execution_count": 53,
      "outputs": [
        {
          "output_type": "stream",
          "text": [
            "Accuracy: 0.5671641791044776\n"
          ],
          "name": "stdout"
        }
      ]
    },
    {
      "cell_type": "code",
      "metadata": {
        "id": "MPqA3qp9atV4",
        "colab_type": "code",
        "colab": {
          "base_uri": "https://localhost:8080/",
          "height": 34
        },
        "outputId": "2a0ca6cd-16a3-40b3-b356-b7b6a5c43380"
      },
      "source": [
        "from sklearn.metrics import f1_score\n",
        "from sklearn.metrics import cohen_kappa_score\n",
        "from sklearn.metrics import roc_auc_score\n",
        "print(f1_score(y_test, preds1, average=None))"
      ],
      "execution_count": 54,
      "outputs": [
        {
          "output_type": "stream",
          "text": [
            "[0.71       0.14705882]\n"
          ],
          "name": "stdout"
        }
      ]
    },
    {
      "cell_type": "code",
      "metadata": {
        "id": "vkEJHoJiatTr",
        "colab_type": "code",
        "colab": {}
      },
      "source": [
        "for i in range(len(y_test)):\n",
        "    if(y_test[i]=='No'):\n",
        "        #print(y_test[i])\n",
        "        num = int(0)\n",
        "        #print(type(num))\n",
        "        y_test[i]= int(num)\n",
        "        #print(type(y_test[i]))\n",
        "        #print(y_test[i])\n",
        "    else:\n",
        "        num = int(1)\n",
        "        y_test[i]=int(num)\n",
        "        #print(type(y_test[i]))\n",
        "        \n",
        "    if(preds1[i]=='No'):\n",
        "        num = int(0)\n",
        "        preds1[i]=int(num)\n",
        "    else:\n",
        "        num = int(1)\n",
        "        preds1[i]=int(num)\n",
        "\n",
        "#print(y_test)\n",
        "#print(preds)"
      ],
      "execution_count": 0,
      "outputs": []
    },
    {
      "cell_type": "code",
      "metadata": {
        "id": "_pBY6zkMatQ5",
        "colab_type": "code",
        "colab": {}
      },
      "source": [
        "y_test = list(map(int, y_test)) \n",
        "preds1 = list(map(int, preds1)) "
      ],
      "execution_count": 0,
      "outputs": []
    },
    {
      "cell_type": "code",
      "metadata": {
        "id": "vohuFLQ_atNz",
        "colab_type": "code",
        "colab": {
          "base_uri": "https://localhost:8080/",
          "height": 34
        },
        "outputId": "24b5db2f-22b4-4912-f06c-348c8f74bca3"
      },
      "source": [
        "print(roc_auc_score(y_test, preds1))"
      ],
      "execution_count": 57,
      "outputs": [
        {
          "output_type": "stream",
          "text": [
            "0.464874031007752\n"
          ],
          "name": "stdout"
        }
      ]
    },
    {
      "cell_type": "code",
      "metadata": {
        "id": "hUxE74c2atJ7",
        "colab_type": "code",
        "colab": {}
      },
      "source": [
        "#############################   Neural Network Algorithm-With PCA 10% components  ##############################"
      ],
      "execution_count": 0,
      "outputs": []
    },
    {
      "cell_type": "code",
      "metadata": {
        "id": "9Y35I1r6atH6",
        "colab_type": "code",
        "colab": {}
      },
      "source": [
        "from sklearn.model_selection import train_test_split\n",
        "# test_size: what proportion of original data is used for test set\n",
        "X_train, X_test, y_train, y_test = train_test_split( X, y, test_size=0.1, random_state=0)"
      ],
      "execution_count": 0,
      "outputs": []
    },
    {
      "cell_type": "code",
      "metadata": {
        "id": "BeAsudBme9hR",
        "colab_type": "code",
        "colab": {}
      },
      "source": [
        "from sklearn.preprocessing import StandardScaler\n",
        "scaler = StandardScaler()\n",
        "# Fit on training set only.\n",
        "scaler.fit(X_train)\n",
        "# Apply transform to both the training set and the test set.\n",
        "X_train = scaler.transform(X_train)\n",
        "X_test = scaler.transform(X_test)\n"
      ],
      "execution_count": 0,
      "outputs": []
    },
    {
      "cell_type": "code",
      "metadata": {
        "id": "bH_V6vXZe9en",
        "colab_type": "code",
        "colab": {}
      },
      "source": [
        "from sklearn.decomposition import PCA\n",
        "# Make an instance of the Model\n",
        "pca = PCA(.10)\n",
        "pca.fit(X_train)\n",
        "\n",
        "X_train = pca.transform(X_train) \n",
        "X_test = pca.transform(X_test) "
      ],
      "execution_count": 0,
      "outputs": []
    },
    {
      "cell_type": "code",
      "metadata": {
        "id": "LXFNCIsZe9a-",
        "colab_type": "code",
        "colab": {
          "base_uri": "https://localhost:8080/",
          "height": 134
        },
        "outputId": "85ec51dd-47c7-40ce-a858-7def1fb3e9f2"
      },
      "source": [
        "from sklearn.neural_network import MLPClassifier\n",
        "mlp = MLPClassifier(hidden_layer_sizes= 40)\n",
        "mlp.fit(X_train, y_train)"
      ],
      "execution_count": 62,
      "outputs": [
        {
          "output_type": "execute_result",
          "data": {
            "text/plain": [
              "MLPClassifier(activation='relu', alpha=0.0001, batch_size='auto', beta_1=0.9,\n",
              "              beta_2=0.999, early_stopping=False, epsilon=1e-08,\n",
              "              hidden_layer_sizes=40, learning_rate='constant',\n",
              "              learning_rate_init=0.001, max_iter=200, momentum=0.9,\n",
              "              n_iter_no_change=10, nesterovs_momentum=True, power_t=0.5,\n",
              "              random_state=None, shuffle=True, solver='adam', tol=0.0001,\n",
              "              validation_fraction=0.1, verbose=False, warm_start=False)"
            ]
          },
          "metadata": {
            "tags": []
          },
          "execution_count": 62
        }
      ]
    },
    {
      "cell_type": "code",
      "metadata": {
        "id": "8dVErIyme9WR",
        "colab_type": "code",
        "colab": {
          "base_uri": "https://localhost:8080/",
          "height": 34
        },
        "outputId": "d31c92f7-ccfa-4c25-b882-720c0b2fdea0"
      },
      "source": [
        "from sklearn.metrics import accuracy_score\n",
        "\n",
        "preds1 = mlp.predict(X_test)\n",
        "#print(preds1)\n",
        "\n",
        "#preds = clf.predict(X_test)\n",
        "print(\"Accuracy:\", accuracy_score(y_test,preds1))"
      ],
      "execution_count": 63,
      "outputs": [
        {
          "output_type": "stream",
          "text": [
            "Accuracy: 0.4925373134328358\n"
          ],
          "name": "stdout"
        }
      ]
    },
    {
      "cell_type": "code",
      "metadata": {
        "id": "FF1sbP_qe9UI",
        "colab_type": "code",
        "colab": {
          "base_uri": "https://localhost:8080/",
          "height": 34
        },
        "outputId": "73d12e4c-af6e-442a-b5c0-6002775f0c89"
      },
      "source": [
        "from sklearn.metrics import f1_score\n",
        "from sklearn.metrics import cohen_kappa_score\n",
        "from sklearn.metrics import roc_auc_score\n",
        "print(f1_score(y_test, preds1, average=None))"
      ],
      "execution_count": 64,
      "outputs": [
        {
          "output_type": "stream",
          "text": [
            "[0.6091954  0.27659574]\n"
          ],
          "name": "stdout"
        }
      ]
    },
    {
      "cell_type": "code",
      "metadata": {
        "id": "RyrRzd39e9RD",
        "colab_type": "code",
        "colab": {}
      },
      "source": [
        "for i in range(len(y_test)):\n",
        "    if(y_test[i]=='No'):\n",
        "        #print(y_test[i])\n",
        "        num = int(0)\n",
        "        #print(type(num))\n",
        "        y_test[i]= int(num)\n",
        "        #print(type(y_test[i]))\n",
        "        #print(y_test[i])\n",
        "    else:\n",
        "        num = int(1)\n",
        "        y_test[i]=int(num)\n",
        "        #print(type(y_test[i]))\n",
        "        \n",
        "    if(preds1[i]=='No'):\n",
        "        num = int(0)\n",
        "        preds1[i]=int(num)\n",
        "    else:\n",
        "        num = int(1)\n",
        "        preds1[i]=int(num)\n",
        "\n",
        "#print(y_test)\n",
        "#print(preds)"
      ],
      "execution_count": 0,
      "outputs": []
    },
    {
      "cell_type": "code",
      "metadata": {
        "id": "6HYtDF7ge9OP",
        "colab_type": "code",
        "colab": {}
      },
      "source": [
        "y_test = list(map(int, y_test)) \n",
        "preds1 = list(map(int, preds1)) "
      ],
      "execution_count": 0,
      "outputs": []
    },
    {
      "cell_type": "code",
      "metadata": {
        "id": "DRbERapze9J7",
        "colab_type": "code",
        "colab": {
          "base_uri": "https://localhost:8080/",
          "height": 34
        },
        "outputId": "00d87a7e-6641-4305-efab-568d100e7583"
      },
      "source": [
        "print(roc_auc_score(y_test, preds1))"
      ],
      "execution_count": 67,
      "outputs": [
        {
          "output_type": "stream",
          "text": [
            "0.44355620155038755\n"
          ],
          "name": "stdout"
        }
      ]
    },
    {
      "cell_type": "code",
      "metadata": {
        "id": "ttx_4N50e9IS",
        "colab_type": "code",
        "colab": {}
      },
      "source": [
        "#############################   Neural Network Algorithm-With PCA 20% components  ##############################"
      ],
      "execution_count": 0,
      "outputs": []
    },
    {
      "cell_type": "code",
      "metadata": {
        "id": "dgCZyBJLe9ES",
        "colab_type": "code",
        "colab": {}
      },
      "source": [
        "from sklearn.model_selection import train_test_split\n",
        "# test_size: what proportion of original data is used for test set\n",
        "X_train, X_test, y_train, y_test = train_test_split( X, y, test_size=0.1, random_state=0)"
      ],
      "execution_count": 0,
      "outputs": []
    },
    {
      "cell_type": "code",
      "metadata": {
        "id": "4mm-3z6Ue9Cy",
        "colab_type": "code",
        "colab": {}
      },
      "source": [
        "from sklearn.preprocessing import StandardScaler\n",
        "scaler = StandardScaler()\n",
        "# Fit on training set only.\n",
        "scaler.fit(X_train)\n",
        "# Apply transform to both the training set and the test set.\n",
        "X_train = scaler.transform(X_train)\n",
        "X_test = scaler.transform(X_test)\n"
      ],
      "execution_count": 0,
      "outputs": []
    },
    {
      "cell_type": "code",
      "metadata": {
        "id": "wCYido7SgHk0",
        "colab_type": "code",
        "colab": {}
      },
      "source": [
        "from sklearn.decomposition import PCA\n",
        "# Make an instance of the Model\n",
        "pca = PCA(.20)\n",
        "pca.fit(X_train)\n",
        "\n",
        "X_train = pca.transform(X_train) \n",
        "X_test = pca.transform(X_test) "
      ],
      "execution_count": 0,
      "outputs": []
    },
    {
      "cell_type": "code",
      "metadata": {
        "id": "4cayl4wZgHij",
        "colab_type": "code",
        "colab": {
          "base_uri": "https://localhost:8080/",
          "height": 134
        },
        "outputId": "8190924e-fe96-4808-b618-c63e4e17a555"
      },
      "source": [
        "from sklearn.neural_network import MLPClassifier\n",
        "mlp = MLPClassifier(hidden_layer_sizes= 40)\n",
        "mlp.fit(X_train, y_train)"
      ],
      "execution_count": 72,
      "outputs": [
        {
          "output_type": "execute_result",
          "data": {
            "text/plain": [
              "MLPClassifier(activation='relu', alpha=0.0001, batch_size='auto', beta_1=0.9,\n",
              "              beta_2=0.999, early_stopping=False, epsilon=1e-08,\n",
              "              hidden_layer_sizes=40, learning_rate='constant',\n",
              "              learning_rate_init=0.001, max_iter=200, momentum=0.9,\n",
              "              n_iter_no_change=10, nesterovs_momentum=True, power_t=0.5,\n",
              "              random_state=None, shuffle=True, solver='adam', tol=0.0001,\n",
              "              validation_fraction=0.1, verbose=False, warm_start=False)"
            ]
          },
          "metadata": {
            "tags": []
          },
          "execution_count": 72
        }
      ]
    },
    {
      "cell_type": "code",
      "metadata": {
        "id": "rvoDFGb4gHdo",
        "colab_type": "code",
        "colab": {
          "base_uri": "https://localhost:8080/",
          "height": 34
        },
        "outputId": "c823319f-896c-4c47-c7cf-210ecd9723a5"
      },
      "source": [
        "from sklearn.metrics import accuracy_score\n",
        "\n",
        "preds1 = mlp.predict(X_test)\n",
        "#print(preds1)\n",
        "\n",
        "#preds = clf.predict(X_test)\n",
        "print(\"Accuracy:\", accuracy_score(y_test,preds1))"
      ],
      "execution_count": 73,
      "outputs": [
        {
          "output_type": "stream",
          "text": [
            "Accuracy: 0.6417910447761194\n"
          ],
          "name": "stdout"
        }
      ]
    },
    {
      "cell_type": "code",
      "metadata": {
        "id": "iNZN01SbgHZr",
        "colab_type": "code",
        "colab": {
          "base_uri": "https://localhost:8080/",
          "height": 87
        },
        "outputId": "f59d4822-7315-45ec-d248-29744ac5c0cd"
      },
      "source": [
        "from sklearn.metrics import f1_score\n",
        "from sklearn.metrics import cohen_kappa_score\n",
        "from sklearn.metrics import roc_auc_score\n",
        "print(f1_score(y_test, preds1, average=None))"
      ],
      "execution_count": 74,
      "outputs": [
        {
          "output_type": "stream",
          "text": [
            "[0.78181818 0.        ]\n"
          ],
          "name": "stdout"
        },
        {
          "output_type": "stream",
          "text": [
            "/usr/local/lib/python3.6/dist-packages/sklearn/metrics/classification.py:1437: UndefinedMetricWarning: F-score is ill-defined and being set to 0.0 in labels with no predicted samples.\n",
            "  'precision', 'predicted', average, warn_for)\n"
          ],
          "name": "stderr"
        }
      ]
    },
    {
      "cell_type": "code",
      "metadata": {
        "id": "czd_fom3gHYJ",
        "colab_type": "code",
        "colab": {}
      },
      "source": [
        "for i in range(len(y_test)):\n",
        "    if(y_test[i]=='No'):\n",
        "        #print(y_test[i])\n",
        "        num = int(0)\n",
        "        #print(type(num))\n",
        "        y_test[i]= int(num)\n",
        "        #print(type(y_test[i]))\n",
        "        #print(y_test[i])\n",
        "    else:\n",
        "        num = int(1)\n",
        "        y_test[i]=int(num)\n",
        "        #print(type(y_test[i]))\n",
        "        \n",
        "    if(preds1[i]=='No'):\n",
        "        num = int(0)\n",
        "        preds1[i]=int(num)\n",
        "    else:\n",
        "        num = int(1)\n",
        "        preds1[i]=int(num)\n",
        "\n",
        "#print(y_test)\n",
        "#print(preds)"
      ],
      "execution_count": 0,
      "outputs": []
    },
    {
      "cell_type": "code",
      "metadata": {
        "id": "bVBx4XQTgHU6",
        "colab_type": "code",
        "colab": {}
      },
      "source": [
        "y_test = list(map(int, y_test)) \n",
        "preds1 = list(map(int, preds1)) "
      ],
      "execution_count": 0,
      "outputs": []
    },
    {
      "cell_type": "code",
      "metadata": {
        "id": "9xJ56wU7gHTC",
        "colab_type": "code",
        "colab": {
          "base_uri": "https://localhost:8080/",
          "height": 34
        },
        "outputId": "3696d098-a48b-493d-91ef-ee2c55fea04a"
      },
      "source": [
        "print(roc_auc_score(y_test, preds1))"
      ],
      "execution_count": 77,
      "outputs": [
        {
          "output_type": "stream",
          "text": [
            "0.5\n"
          ],
          "name": "stdout"
        }
      ]
    },
    {
      "cell_type": "code",
      "metadata": {
        "id": "TIPdVGfQghrF",
        "colab_type": "code",
        "colab": {}
      },
      "source": [
        "#############################   Neural Network Algorithm-With PCA 40% components  ##############################"
      ],
      "execution_count": 0,
      "outputs": []
    },
    {
      "cell_type": "code",
      "metadata": {
        "id": "chkFuW9jghhy",
        "colab_type": "code",
        "colab": {}
      },
      "source": [
        "from sklearn.model_selection import train_test_split\n",
        "# test_size: what proportion of original data is used for test set\n",
        "X_train, X_test, y_train, y_test = train_test_split( X, y, test_size=0.1, random_state=0)"
      ],
      "execution_count": 0,
      "outputs": []
    },
    {
      "cell_type": "code",
      "metadata": {
        "id": "XPZUAZO6gk-8",
        "colab_type": "code",
        "colab": {}
      },
      "source": [
        "from sklearn.preprocessing import StandardScaler\n",
        "scaler = StandardScaler()\n",
        "# Fit on training set only.\n",
        "scaler.fit(X_train)\n",
        "# Apply transform to both the training set and the test set.\n",
        "X_train = scaler.transform(X_train)\n",
        "X_test = scaler.transform(X_test)\n",
        "\n"
      ],
      "execution_count": 0,
      "outputs": []
    },
    {
      "cell_type": "code",
      "metadata": {
        "id": "jJoq8fjyghd7",
        "colab_type": "code",
        "colab": {}
      },
      "source": [
        "from sklearn.decomposition import PCA\n",
        "# Make an instance of the Model\n",
        "pca = PCA(.40)\n",
        "pca.fit(X_train)\n",
        "\n",
        "X_train = pca.transform(X_train) \n",
        "X_test = pca.transform(X_test) "
      ],
      "execution_count": 0,
      "outputs": []
    },
    {
      "cell_type": "code",
      "metadata": {
        "id": "of_0VitRghcS",
        "colab_type": "code",
        "colab": {
          "base_uri": "https://localhost:8080/",
          "height": 134
        },
        "outputId": "c285875a-18cf-412f-8e05-32cf0f8a0f03"
      },
      "source": [
        "from sklearn.neural_network import MLPClassifier\n",
        "mlp = MLPClassifier(hidden_layer_sizes= 40)\n",
        "mlp.fit(X_train, y_train)"
      ],
      "execution_count": 82,
      "outputs": [
        {
          "output_type": "execute_result",
          "data": {
            "text/plain": [
              "MLPClassifier(activation='relu', alpha=0.0001, batch_size='auto', beta_1=0.9,\n",
              "              beta_2=0.999, early_stopping=False, epsilon=1e-08,\n",
              "              hidden_layer_sizes=40, learning_rate='constant',\n",
              "              learning_rate_init=0.001, max_iter=200, momentum=0.9,\n",
              "              n_iter_no_change=10, nesterovs_momentum=True, power_t=0.5,\n",
              "              random_state=None, shuffle=True, solver='adam', tol=0.0001,\n",
              "              validation_fraction=0.1, verbose=False, warm_start=False)"
            ]
          },
          "metadata": {
            "tags": []
          },
          "execution_count": 82
        }
      ]
    },
    {
      "cell_type": "code",
      "metadata": {
        "id": "r2rhDQ4UghW6",
        "colab_type": "code",
        "colab": {
          "base_uri": "https://localhost:8080/",
          "height": 34
        },
        "outputId": "c18e9ed1-f355-4e0e-dbae-65c43fd5ff42"
      },
      "source": [
        "from sklearn.metrics import accuracy_score\n",
        "\n",
        "preds1 = mlp.predict(X_test)\n",
        "#print(preds1)\n",
        "\n",
        "#preds = clf.predict(X_test)\n",
        "print(\"Accuracy:\", accuracy_score(y_test,preds1))"
      ],
      "execution_count": 83,
      "outputs": [
        {
          "output_type": "stream",
          "text": [
            "Accuracy: 0.6567164179104478\n"
          ],
          "name": "stdout"
        }
      ]
    },
    {
      "cell_type": "code",
      "metadata": {
        "id": "XnAjxVhLghUe",
        "colab_type": "code",
        "colab": {
          "base_uri": "https://localhost:8080/",
          "height": 34
        },
        "outputId": "8c856365-eed7-4973-8f29-7c12bc723f06"
      },
      "source": [
        "from sklearn.metrics import f1_score\n",
        "from sklearn.metrics import cohen_kappa_score\n",
        "from sklearn.metrics import roc_auc_score\n",
        "print(f1_score(y_test, preds1, average=None))"
      ],
      "execution_count": 84,
      "outputs": [
        {
          "output_type": "stream",
          "text": [
            "[0.78504673 0.14814815]\n"
          ],
          "name": "stdout"
        }
      ]
    },
    {
      "cell_type": "code",
      "metadata": {
        "id": "GCe5hoo4ghSb",
        "colab_type": "code",
        "colab": {}
      },
      "source": [
        "for i in range(len(y_test)):\n",
        "    if(y_test[i]=='No'):\n",
        "        #print(y_test[i])\n",
        "        num = int(0)\n",
        "        #print(type(num))\n",
        "        y_test[i]= int(num)\n",
        "        #print(type(y_test[i]))\n",
        "        #print(y_test[i])\n",
        "    else:\n",
        "        num = int(1)\n",
        "        y_test[i]=int(num)\n",
        "        #print(type(y_test[i]))\n",
        "        \n",
        "    if(preds1[i]=='No'):\n",
        "        num = int(0)\n",
        "        preds1[i]=int(num)\n",
        "    else:\n",
        "        num = int(1)\n",
        "        preds1[i]=int(num)\n",
        "\n",
        "#print(y_test)\n",
        "#print(preds)"
      ],
      "execution_count": 0,
      "outputs": []
    },
    {
      "cell_type": "code",
      "metadata": {
        "id": "0fAXAZVdghPC",
        "colab_type": "code",
        "colab": {}
      },
      "source": [
        "y_test = list(map(int, y_test)) \n",
        "preds1 = list(map(int, preds1)) "
      ],
      "execution_count": 0,
      "outputs": []
    },
    {
      "cell_type": "code",
      "metadata": {
        "id": "0Ca3fPXFghNA",
        "colab_type": "code",
        "colab": {
          "base_uri": "https://localhost:8080/",
          "height": 34
        },
        "outputId": "eec3017c-37e2-4a4a-a601-5df674d3a0c4"
      },
      "source": [
        "print(roc_auc_score(y_test, preds1))"
      ],
      "execution_count": 87,
      "outputs": [
        {
          "output_type": "stream",
          "text": [
            "0.5300387596899224\n"
          ],
          "name": "stdout"
        }
      ]
    },
    {
      "cell_type": "code",
      "metadata": {
        "id": "Yg1noA04SnsA",
        "colab_type": "code",
        "colab": {}
      },
      "source": [
        "#############################   Neural Network Algorithm-With PCA 60% components  ##############################"
      ],
      "execution_count": 0,
      "outputs": []
    },
    {
      "cell_type": "code",
      "metadata": {
        "id": "LB2n7Y6wSnpl",
        "colab_type": "code",
        "colab": {}
      },
      "source": [
        "from sklearn.model_selection import train_test_split\n",
        "# test_size: what proportion of original data is used for test set\n",
        "X_train, X_test, y_train, y_test = train_test_split( X, y, test_size=0.1, random_state=0)"
      ],
      "execution_count": 0,
      "outputs": []
    },
    {
      "cell_type": "code",
      "metadata": {
        "id": "LbsRLPg2Snmc",
        "colab_type": "code",
        "colab": {}
      },
      "source": [
        "from sklearn.preprocessing import StandardScaler\n",
        "scaler = StandardScaler()\n",
        "# Fit on training set only.\n",
        "scaler.fit(X_train)\n",
        "# Apply transform to both the training set and the test set.\n",
        "X_train = scaler.transform(X_train)\n",
        "X_test = scaler.transform(X_test)\n"
      ],
      "execution_count": 0,
      "outputs": []
    },
    {
      "cell_type": "code",
      "metadata": {
        "id": "yWM44i9xSnjs",
        "colab_type": "code",
        "colab": {}
      },
      "source": [
        "from sklearn.decomposition import PCA\n",
        "# Make an instance of the Model\n",
        "pca = PCA(.60)\n",
        "pca.fit(X_train)\n",
        "\n",
        "X_train = pca.transform(X_train) \n",
        "X_test = pca.transform(X_test) "
      ],
      "execution_count": 0,
      "outputs": []
    },
    {
      "cell_type": "code",
      "metadata": {
        "id": "mt6Vrd1iSngy",
        "colab_type": "code",
        "colab": {
          "base_uri": "https://localhost:8080/",
          "height": 134
        },
        "outputId": "85628a08-95d6-48d1-f58f-7054009bd9ff"
      },
      "source": [
        "from sklearn.neural_network import MLPClassifier\n",
        "mlp = MLPClassifier(hidden_layer_sizes= 40)\n",
        "mlp.fit(X_train, y_train)"
      ],
      "execution_count": 92,
      "outputs": [
        {
          "output_type": "execute_result",
          "data": {
            "text/plain": [
              "MLPClassifier(activation='relu', alpha=0.0001, batch_size='auto', beta_1=0.9,\n",
              "              beta_2=0.999, early_stopping=False, epsilon=1e-08,\n",
              "              hidden_layer_sizes=40, learning_rate='constant',\n",
              "              learning_rate_init=0.001, max_iter=200, momentum=0.9,\n",
              "              n_iter_no_change=10, nesterovs_momentum=True, power_t=0.5,\n",
              "              random_state=None, shuffle=True, solver='adam', tol=0.0001,\n",
              "              validation_fraction=0.1, verbose=False, warm_start=False)"
            ]
          },
          "metadata": {
            "tags": []
          },
          "execution_count": 92
        }
      ]
    },
    {
      "cell_type": "code",
      "metadata": {
        "id": "IB5n4wAwSnav",
        "colab_type": "code",
        "colab": {
          "base_uri": "https://localhost:8080/",
          "height": 34
        },
        "outputId": "8b6fd24b-40c1-4137-e847-33f92ad4262e"
      },
      "source": [
        "from sklearn.metrics import accuracy_score\n",
        "\n",
        "preds1 = mlp.predict(X_test)\n",
        "#print(preds1)\n",
        "\n",
        "#preds = clf.predict(X_test)\n",
        "print(\"Accuracy:\", accuracy_score(y_test,preds1))"
      ],
      "execution_count": 93,
      "outputs": [
        {
          "output_type": "stream",
          "text": [
            "Accuracy: 0.6567164179104478\n"
          ],
          "name": "stdout"
        }
      ]
    },
    {
      "cell_type": "code",
      "metadata": {
        "id": "-V89QRGTSnYi",
        "colab_type": "code",
        "colab": {
          "base_uri": "https://localhost:8080/",
          "height": 34
        },
        "outputId": "e80f7e98-e82d-4e30-dec7-490b053c60f3"
      },
      "source": [
        "from sklearn.metrics import f1_score\n",
        "from sklearn.metrics import cohen_kappa_score\n",
        "from sklearn.metrics import roc_auc_score\n",
        "print(f1_score(y_test, preds1, average=None))"
      ],
      "execution_count": 94,
      "outputs": [
        {
          "output_type": "stream",
          "text": [
            "[0.7628866  0.37837838]\n"
          ],
          "name": "stdout"
        }
      ]
    },
    {
      "cell_type": "code",
      "metadata": {
        "id": "poedzxy9SnV6",
        "colab_type": "code",
        "colab": {}
      },
      "source": [
        "for i in range(len(y_test)):\n",
        "    if(y_test[i]=='No'):\n",
        "        #print(y_test[i])\n",
        "        num = int(0)\n",
        "        #print(type(num))\n",
        "        y_test[i]= int(num)\n",
        "        #print(type(y_test[i]))\n",
        "        #print(y_test[i])\n",
        "    else:\n",
        "        num = int(1)\n",
        "        y_test[i]=int(num)\n",
        "        #print(type(y_test[i]))\n",
        "        \n",
        "    if(preds1[i]=='No'):\n",
        "        num = int(0)\n",
        "        preds1[i]=int(num)\n",
        "    else:\n",
        "        num = int(1)\n",
        "        preds1[i]=int(num)\n",
        "\n",
        "#print(y_test)\n",
        "#print(preds)"
      ],
      "execution_count": 0,
      "outputs": []
    },
    {
      "cell_type": "code",
      "metadata": {
        "id": "GNXlXVAGSnSZ",
        "colab_type": "code",
        "colab": {}
      },
      "source": [
        "y_test = list(map(int, y_test)) \n",
        "preds1 = list(map(int, preds1)) "
      ],
      "execution_count": 0,
      "outputs": []
    },
    {
      "cell_type": "code",
      "metadata": {
        "id": "9O0ylVMPSnP5",
        "colab_type": "code",
        "colab": {
          "base_uri": "https://localhost:8080/",
          "height": 34
        },
        "outputId": "b43e2b52-2d14-4551-c66f-6f35b9811970"
      },
      "source": [
        "print(roc_auc_score(y_test, preds1))"
      ],
      "execution_count": 97,
      "outputs": [
        {
          "output_type": "stream",
          "text": [
            "0.5760658914728682\n"
          ],
          "name": "stdout"
        }
      ]
    },
    {
      "cell_type": "code",
      "metadata": {
        "id": "vh8kmutKSnNl",
        "colab_type": "code",
        "colab": {}
      },
      "source": [
        "#############################   Neural Network Algorithm-With PCA 80% components  ##############################"
      ],
      "execution_count": 0,
      "outputs": []
    },
    {
      "cell_type": "code",
      "metadata": {
        "id": "4h7fTg4KSnKS",
        "colab_type": "code",
        "colab": {}
      },
      "source": [
        "from sklearn.model_selection import train_test_split\n",
        "# test_size: what proportion of original data is used for test set\n",
        "X_train, X_test, y_train, y_test = train_test_split( X, y, test_size=0.1, random_state=0)"
      ],
      "execution_count": 0,
      "outputs": []
    },
    {
      "cell_type": "code",
      "metadata": {
        "id": "Dn3wLiKXSnHp",
        "colab_type": "code",
        "colab": {}
      },
      "source": [
        "from sklearn.preprocessing import StandardScaler\n",
        "scaler = StandardScaler()\n",
        "# Fit on training set only.\n",
        "scaler.fit(X_train)\n",
        "# Apply transform to both the training set and the test set.\n",
        "X_train = scaler.transform(X_train)\n",
        "X_test = scaler.transform(X_test)\n"
      ],
      "execution_count": 0,
      "outputs": []
    },
    {
      "cell_type": "code",
      "metadata": {
        "id": "UIbIMXSOSnFh",
        "colab_type": "code",
        "colab": {}
      },
      "source": [
        "from sklearn.decomposition import PCA\n",
        "# Make an instance of the Model\n",
        "pca = PCA(.80)\n",
        "pca.fit(X_train)\n",
        "\n",
        "X_train = pca.transform(X_train) \n",
        "X_test = pca.transform(X_test) "
      ],
      "execution_count": 0,
      "outputs": []
    },
    {
      "cell_type": "code",
      "metadata": {
        "id": "c7551LIKSnCL",
        "colab_type": "code",
        "colab": {
          "base_uri": "https://localhost:8080/",
          "height": 134
        },
        "outputId": "02a205a5-b4ed-4be5-f1f8-4d912113a454"
      },
      "source": [
        "from sklearn.neural_network import MLPClassifier\n",
        "mlp = MLPClassifier(hidden_layer_sizes= 40)\n",
        "mlp.fit(X_train, y_train)"
      ],
      "execution_count": 102,
      "outputs": [
        {
          "output_type": "execute_result",
          "data": {
            "text/plain": [
              "MLPClassifier(activation='relu', alpha=0.0001, batch_size='auto', beta_1=0.9,\n",
              "              beta_2=0.999, early_stopping=False, epsilon=1e-08,\n",
              "              hidden_layer_sizes=40, learning_rate='constant',\n",
              "              learning_rate_init=0.001, max_iter=200, momentum=0.9,\n",
              "              n_iter_no_change=10, nesterovs_momentum=True, power_t=0.5,\n",
              "              random_state=None, shuffle=True, solver='adam', tol=0.0001,\n",
              "              validation_fraction=0.1, verbose=False, warm_start=False)"
            ]
          },
          "metadata": {
            "tags": []
          },
          "execution_count": 102
        }
      ]
    },
    {
      "cell_type": "code",
      "metadata": {
        "id": "c0QvPAApSm9o",
        "colab_type": "code",
        "colab": {
          "base_uri": "https://localhost:8080/",
          "height": 34
        },
        "outputId": "5f1c0bed-7698-4aae-a3f2-67d1ee026ff8"
      },
      "source": [
        "from sklearn.metrics import accuracy_score\n",
        "\n",
        "preds1 = mlp.predict(X_test)\n",
        "#print(preds1)\n",
        "\n",
        "#preds = clf.predict(X_test)\n",
        "print(\"Accuracy:\", accuracy_score(y_test,preds1))"
      ],
      "execution_count": 103,
      "outputs": [
        {
          "output_type": "stream",
          "text": [
            "Accuracy: 0.47761194029850745\n"
          ],
          "name": "stdout"
        }
      ]
    },
    {
      "cell_type": "code",
      "metadata": {
        "id": "fOQRgDAPSm55",
        "colab_type": "code",
        "colab": {
          "base_uri": "https://localhost:8080/",
          "height": 34
        },
        "outputId": "cfd869e6-6e7c-433a-b3fb-e2cd91be5ae6"
      },
      "source": [
        "from sklearn.metrics import f1_score\n",
        "from sklearn.metrics import cohen_kappa_score\n",
        "from sklearn.metrics import roc_auc_score\n",
        "print(f1_score(y_test, preds1, average=None))"
      ],
      "execution_count": 104,
      "outputs": [
        {
          "output_type": "stream",
          "text": [
            "[0.48529412 0.46969697]\n"
          ],
          "name": "stdout"
        }
      ]
    },
    {
      "cell_type": "code",
      "metadata": {
        "id": "Me38x6c8Sm3o",
        "colab_type": "code",
        "colab": {}
      },
      "source": [
        "for i in range(len(y_test)):\n",
        "    if(y_test[i]=='No'):\n",
        "        #print(y_test[i])\n",
        "        num = int(0)\n",
        "        #print(type(num))\n",
        "        y_test[i]= int(num)\n",
        "        #print(type(y_test[i]))\n",
        "        #print(y_test[i])\n",
        "    else:\n",
        "        num = int(1)\n",
        "        y_test[i]=int(num)\n",
        "        #print(type(y_test[i]))\n",
        "        \n",
        "    if(preds1[i]=='No'):\n",
        "        num = int(0)\n",
        "        preds1[i]=int(num)\n",
        "    else:\n",
        "        num = int(1)\n",
        "        preds1[i]=int(num)\n",
        "\n",
        "#print(y_test)\n",
        "#print(preds)"
      ],
      "execution_count": 0,
      "outputs": []
    },
    {
      "cell_type": "code",
      "metadata": {
        "id": "HD5XsVjtSm0Z",
        "colab_type": "code",
        "colab": {}
      },
      "source": [
        "y_test = list(map(int, y_test)) \n",
        "preds1 = list(map(int, preds1)) "
      ],
      "execution_count": 0,
      "outputs": []
    },
    {
      "cell_type": "code",
      "metadata": {
        "id": "LjpJzLAFSmyO",
        "colab_type": "code",
        "colab": {
          "base_uri": "https://localhost:8080/",
          "height": 34
        },
        "outputId": "5b1d02f1-1b64-4fe8-9d37-98b50c4faf0c"
      },
      "source": [
        "print(roc_auc_score(y_test, preds1))"
      ],
      "execution_count": 107,
      "outputs": [
        {
          "output_type": "stream",
          "text": [
            "0.5147771317829457\n"
          ],
          "name": "stdout"
        }
      ]
    },
    {
      "cell_type": "code",
      "metadata": {
        "id": "7kVWullrSmwQ",
        "colab_type": "code",
        "colab": {}
      },
      "source": [
        "#############################   Neural Network Algorithm-With PCA 100% components  ##############################"
      ],
      "execution_count": 0,
      "outputs": []
    },
    {
      "cell_type": "code",
      "metadata": {
        "id": "4fC0MtYrSmsC",
        "colab_type": "code",
        "colab": {}
      },
      "source": [
        "from sklearn.model_selection import train_test_split\n",
        "# test_size: what proportion of original data is used for test set\n",
        "X_train, X_test, y_train, y_test = train_test_split( X, y, test_size=0.1, random_state=0)"
      ],
      "execution_count": 0,
      "outputs": []
    },
    {
      "cell_type": "code",
      "metadata": {
        "id": "qt35rH5gTkjQ",
        "colab_type": "code",
        "colab": {}
      },
      "source": [
        "from sklearn.preprocessing import StandardScaler\n",
        "scaler = StandardScaler()\n",
        "# Fit on training set only.\n",
        "scaler.fit(X_train)\n",
        "# Apply transform to both the training set and the test set.\n",
        "X_train = scaler.transform(X_train)\n",
        "X_test = scaler.transform(X_test)\n"
      ],
      "execution_count": 0,
      "outputs": []
    },
    {
      "cell_type": "code",
      "metadata": {
        "id": "lKsPz7POTkht",
        "colab_type": "code",
        "colab": {}
      },
      "source": [
        "from sklearn.decomposition import PCA\n",
        "# Make an instance of the Model\n",
        "pca = PCA(.100)\n",
        "pca.fit(X_train)\n",
        "\n",
        "X_train = pca.transform(X_train) \n",
        "X_test = pca.transform(X_test) "
      ],
      "execution_count": 0,
      "outputs": []
    },
    {
      "cell_type": "code",
      "metadata": {
        "id": "tz6Yq8prTkfd",
        "colab_type": "code",
        "colab": {
          "base_uri": "https://localhost:8080/",
          "height": 134
        },
        "outputId": "29317241-bc30-4ab5-b7bc-aa6769354f0a"
      },
      "source": [
        "from sklearn.neural_network import MLPClassifier\n",
        "mlp = MLPClassifier(hidden_layer_sizes= 40)\n",
        "mlp.fit(X_train, y_train)"
      ],
      "execution_count": 112,
      "outputs": [
        {
          "output_type": "execute_result",
          "data": {
            "text/plain": [
              "MLPClassifier(activation='relu', alpha=0.0001, batch_size='auto', beta_1=0.9,\n",
              "              beta_2=0.999, early_stopping=False, epsilon=1e-08,\n",
              "              hidden_layer_sizes=40, learning_rate='constant',\n",
              "              learning_rate_init=0.001, max_iter=200, momentum=0.9,\n",
              "              n_iter_no_change=10, nesterovs_momentum=True, power_t=0.5,\n",
              "              random_state=None, shuffle=True, solver='adam', tol=0.0001,\n",
              "              validation_fraction=0.1, verbose=False, warm_start=False)"
            ]
          },
          "metadata": {
            "tags": []
          },
          "execution_count": 112
        }
      ]
    },
    {
      "cell_type": "code",
      "metadata": {
        "id": "KGMDZkjiTkZ-",
        "colab_type": "code",
        "colab": {
          "base_uri": "https://localhost:8080/",
          "height": 34
        },
        "outputId": "4f73c8a5-9807-4761-9ac8-357c3899c782"
      },
      "source": [
        "from sklearn.metrics import accuracy_score\n",
        "\n",
        "preds1 = mlp.predict(X_test)\n",
        "#print(preds1)\n",
        "\n",
        "#preds = clf.predict(X_test)\n",
        "print(\"Accuracy:\", accuracy_score(y_test,preds1))"
      ],
      "execution_count": 113,
      "outputs": [
        {
          "output_type": "stream",
          "text": [
            "Accuracy: 0.582089552238806\n"
          ],
          "name": "stdout"
        }
      ]
    },
    {
      "cell_type": "code",
      "metadata": {
        "id": "A1kbqn5MTkXY",
        "colab_type": "code",
        "colab": {
          "base_uri": "https://localhost:8080/",
          "height": 34
        },
        "outputId": "c9dcb235-4ffe-421f-d4bc-beaadba81fb4"
      },
      "source": [
        "from sklearn.metrics import f1_score\n",
        "from sklearn.metrics import cohen_kappa_score\n",
        "from sklearn.metrics import roc_auc_score\n",
        "print(f1_score(y_test, preds1, average=None))"
      ],
      "execution_count": 114,
      "outputs": [
        {
          "output_type": "stream",
          "text": [
            "[0.66666667 0.44      ]\n"
          ],
          "name": "stdout"
        }
      ]
    },
    {
      "cell_type": "code",
      "metadata": {
        "id": "qqQAJ4GsTkU-",
        "colab_type": "code",
        "colab": {}
      },
      "source": [
        "for i in range(len(y_test)):\n",
        "    if(y_test[i]=='No'):\n",
        "        #print(y_test[i])\n",
        "        num = int(0)\n",
        "        #print(type(num))\n",
        "        y_test[i]= int(num)\n",
        "        #print(type(y_test[i]))\n",
        "        #print(y_test[i])\n",
        "    else:\n",
        "        num = int(1)\n",
        "        y_test[i]=int(num)\n",
        "        #print(type(y_test[i]))\n",
        "        \n",
        "    if(preds1[i]=='No'):\n",
        "        num = int(0)\n",
        "        preds1[i]=int(num)\n",
        "    else:\n",
        "        num = int(1)\n",
        "        preds1[i]=int(num)\n",
        "\n",
        "#print(y_test)\n",
        "#print(preds)"
      ],
      "execution_count": 0,
      "outputs": []
    },
    {
      "cell_type": "code",
      "metadata": {
        "id": "Q7N5Vg98TkRt",
        "colab_type": "code",
        "colab": {}
      },
      "source": [
        "y_test = list(map(int, y_test)) \n",
        "preds1 = list(map(int, preds1)) "
      ],
      "execution_count": 0,
      "outputs": []
    },
    {
      "cell_type": "code",
      "metadata": {
        "id": "fga807wYT4lG",
        "colab_type": "code",
        "colab": {
          "base_uri": "https://localhost:8080/",
          "height": 34
        },
        "outputId": "d55c5f56-6c71-45ff-e1df-1d0887499346"
      },
      "source": [
        "print(roc_auc_score(y_test, preds1))"
      ],
      "execution_count": 117,
      "outputs": [
        {
          "output_type": "stream",
          "text": [
            "0.5547480620155039\n"
          ],
          "name": "stdout"
        }
      ]
    }
  ]
}