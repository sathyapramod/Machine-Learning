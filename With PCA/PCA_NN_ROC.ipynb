{
  "nbformat": 4,
  "nbformat_minor": 0,
  "metadata": {
    "colab": {
      "name": "PCA_NN-ROC.ipynb",
      "provenance": [],
      "collapsed_sections": []
    },
    "kernelspec": {
      "name": "python3",
      "display_name": "Python 3"
    }
  },
  "cells": [
    {
      "cell_type": "code",
      "metadata": {
        "id": "dG9m6hLZ10mL",
        "colab_type": "code",
        "colab": {
          "base_uri": "https://localhost:8080/",
          "height": 34
        },
        "outputId": "ea775a21-3688-4478-c2b2-adcabe84e4d2"
      },
      "source": [
        "from google.colab import drive\n",
        "drive.mount('/content/gdrive')\n",
        "rootpath = 'gdrive/My Drive/Patches_ROC/'"
      ],
      "execution_count": 14,
      "outputs": [
        {
          "output_type": "stream",
          "text": [
            "Drive already mounted at /content/gdrive; to attempt to forcibly remount, call drive.mount(\"/content/gdrive\", force_remount=True).\n"
          ],
          "name": "stdout"
        }
      ]
    },
    {
      "cell_type": "code",
      "metadata": {
        "id": "UTyRbiZ32Fhp",
        "colab_type": "code",
        "colab": {}
      },
      "source": [
        "import matplotlib.pyplot as plt\n",
        "import cv2\n",
        "import glob\n",
        "import numpy as np"
      ],
      "execution_count": 0,
      "outputs": []
    },
    {
      "cell_type": "code",
      "metadata": {
        "id": "hJgM5S2x2Fe4",
        "colab_type": "code",
        "colab": {
          "base_uri": "https://localhost:8080/",
          "height": 50
        },
        "outputId": "f9566bf9-23f8-4a3b-feff-ceadf9c27fb0"
      },
      "source": [
        "#Create numpy array of images\n",
        "X = []\n",
        "files = glob.glob (rootpath+\"*.jpg\")\n",
        "#print(files)\n",
        "files.sort()\n",
        "# files = sorted(files)\n",
        "for myFile in files:\n",
        "    #print(myFile)\n",
        "    image = cv2.imread (myFile,0)\n",
        "    X.append (image)\n",
        "\n",
        "X = np.array(X)\n",
        "print('X_data shape:', X.shape)\n",
        "print(len(X))"
      ],
      "execution_count": 16,
      "outputs": [
        {
          "output_type": "stream",
          "text": [
            "X_data shape: (471, 300, 300)\n",
            "471\n"
          ],
          "name": "stdout"
        }
      ]
    },
    {
      "cell_type": "code",
      "metadata": {
        "id": "back5gMb2FdH",
        "colab_type": "code",
        "colab": {}
      },
      "source": [
        "y = ['No','No',\n",
        "     'No','No',\n",
        "     'No','No',\n",
        "     'No','Yes','Yes','Yes','No','No','No','No','No','No','No','Yes','No','No','No','Yes',\n",
        "     'No','No','No','Yes','No','No','No','No','Yes','No','No','No','No','Yes','No','No',\n",
        "     'No','No','No','No','No','No','No','No','No','No','Yes','No','No','No','No','No',\n",
        "     'No','No','No','No','No','No','No','No','No','No','No','No','No','No','No','No', #6\n",
        "     'No','No', \n",
        "     'Yes','No',\n",
        "     'No','No',\n",
        "     'No','Yes',\n",
        "     'Yes','Yes',\n",
        "     'Yes','No',\n",
        "     'Yes','No', #13\n",
        "     'No','No','No','No','No','No','No','No','No','No','No','No','No','Yes','No','No', #14\n",
        "     'No','No','No','No','No','No','No','No','No','No','No','No','No','No','No','No',\n",
        "     'No','No','No','No','No','No','No','No','No','No','No','Yes','No','No','No','No',\n",
        "     'No','No','No','No','No','Yes','No','No','No','No','No','No','No','No','No','No',\n",
        "     'No','No','Yes','No','No','Yes','Yes','No','No','Yes','Yes','Yes','Yes','No','Yes','Yes',\n",
        "     'No','No',\n",
        "     'No','No','No','No','No','No','No','No','No','No','Yes','No','No','No','No','No', #20\n",
        "     'No','No','No','No','No','No','No','No','No',\n",
        "     'No','No','No','Yes','No','No','Yes','No','No','Yes','No','No','No','No','No','No',\n",
        "     'No','No','No','Yes','Yes','Yes','No','Yes','Yes',\n",
        "     'No','No','No','No','No','Yes','No','Yes','No','No','No','No','No','No','No','No', #24\n",
        "     'No','No',\n",
        "     'No','Yes','No','No','Yes','Yes','Yes','Yes','Yes',\n",
        "     'No','Yes',\n",
        "     'No','No','No','No','Yes','Yes','No','No','No','No','Yes','No','No','No','No','No',\n",
        "     'Yes','No',\n",
        "     'No','No','No','No','No','No','No','No','No','Yes','No','No','No','No','Yes','Yes',\n",
        "     'No','No',\n",
        "     'No','No','No','Yes','No','No','Yes','Yes','No','No','No','No','No','No','Yes','Yes',\n",
        "     'Yes','No',\n",
        "     'Yes','No',\n",
        "     'No','No','No','No','No','No','No','No','No','No','No','No','No','No','No','No', #35\n",
        "     'No','No','No','No','No','No','No','No','No','No','No','No','No','No','No','No',\n",
        "     'No','No','No','No','No','No','No','No','No','Yes','No','No','No','Yes','No','No',\n",
        "     'No','Yes',\n",
        "     'No','No',\n",
        "     'No','No','No','No','No','No','Yes','No','No','No','No','No','No','No','No','No',\n",
        "     'No','No',\n",
        "     'No','No','No','No','No','No','No','No','No','No','No','No','No','No','No','No',\n",
        "     'No','No','No','No','No','No','No','No','No','No','No','No','No','Yes','No','No',\n",
        "     'No','No',\n",
        "     'No','No','No','No','No','No','No','No','No','No','No','No','Yes','No','No','No',\n",
        "     'No','No','No','No','No','No','No','No','No','No','No','No','No','No','Yes','No',\n",
        "     'No','No','No','No','No','No','No','No','No','Yes','No','No','No','No','No','No',\n",
        "     'No','No',\n",
        "     'No','No','No','Yes','No','No','Yes','No','No','No','No','No','Yes','No','No','No' #49\n",
        "    ]"
      ],
      "execution_count": 0,
      "outputs": []
    },
    {
      "cell_type": "code",
      "metadata": {
        "id": "-ILBJIF_2FZh",
        "colab_type": "code",
        "colab": {
          "base_uri": "https://localhost:8080/",
          "height": 34
        },
        "outputId": "352ea35e-e9c0-4bd7-a5ba-81f7b7ac6596"
      },
      "source": [
        "y = np.asarray(y) \n",
        "print(y.shape)"
      ],
      "execution_count": 18,
      "outputs": [
        {
          "output_type": "stream",
          "text": [
            "(471,)\n"
          ],
          "name": "stdout"
        }
      ]
    },
    {
      "cell_type": "code",
      "metadata": {
        "id": "Z49ueSLn2FW5",
        "colab_type": "code",
        "colab": {
          "base_uri": "https://localhost:8080/",
          "height": 50
        },
        "outputId": "fcf3dfc9-f413-4476-908f-edac00098da7"
      },
      "source": [
        "print(len(X))\n",
        "print(len(y))"
      ],
      "execution_count": 19,
      "outputs": [
        {
          "output_type": "stream",
          "text": [
            "471\n",
            "471\n"
          ],
          "name": "stdout"
        }
      ]
    },
    {
      "cell_type": "code",
      "metadata": {
        "id": "AsmIYic62FUk",
        "colab_type": "code",
        "colab": {}
      },
      "source": [
        "from sklearn.utils import shuffle\n",
        "# X = X.reshape(X.shape[0],X.shape[1]*X.shape[2]).T\n",
        "# y = y.reshape(y.shape[0],)\n",
        "X = np.reshape(X, [X.shape[0], X.shape[1]*X.shape[2]])\n",
        "\n",
        "X, y = shuffle(X, y, random_state=42)"
      ],
      "execution_count": 0,
      "outputs": []
    },
    {
      "cell_type": "code",
      "metadata": {
        "id": "Q-CNy8-52FQy",
        "colab_type": "code",
        "colab": {}
      },
      "source": [
        "#############################   Neural Network Algorithm-With PCA 1% components  ##############################"
      ],
      "execution_count": 0,
      "outputs": []
    },
    {
      "cell_type": "code",
      "metadata": {
        "id": "XY2ZqIKe2FOj",
        "colab_type": "code",
        "colab": {}
      },
      "source": [
        "from sklearn.model_selection import train_test_split\n",
        "# test_size: what proportion of original data is used for test set\n",
        "X_train, X_test, y_train, y_test = train_test_split( X, y, test_size=0.1, random_state=0)"
      ],
      "execution_count": 0,
      "outputs": []
    },
    {
      "cell_type": "code",
      "metadata": {
        "id": "QMDO2x0u2FK9",
        "colab_type": "code",
        "colab": {}
      },
      "source": [
        "from sklearn.preprocessing import StandardScaler\n",
        "scaler = StandardScaler()\n",
        "# Fit on training set only.\n",
        "scaler.fit(X_train)\n",
        "# Apply transform to both the training set and the test set.\n",
        "X_train = scaler.transform(X_train)\n",
        "X_test = scaler.transform(X_test)\n"
      ],
      "execution_count": 0,
      "outputs": []
    },
    {
      "cell_type": "code",
      "metadata": {
        "id": "EH5E075y2FJI",
        "colab_type": "code",
        "colab": {}
      },
      "source": [
        "from sklearn.decomposition import PCA\n",
        "# Make an instance of the Model\n",
        "pca = PCA(.1)\n",
        "pca.fit(X_train)\n",
        "\n",
        "X_train = pca.transform(X_train) \n",
        "X_test = pca.transform(X_test) \n"
      ],
      "execution_count": 0,
      "outputs": []
    },
    {
      "cell_type": "code",
      "metadata": {
        "id": "ikFG_ZCJ2FFC",
        "colab_type": "code",
        "colab": {
          "base_uri": "https://localhost:8080/",
          "height": 134
        },
        "outputId": "6d2ff9f4-7a1f-41bd-b502-e873f059119c"
      },
      "source": [
        "from sklearn.neural_network import MLPClassifier\n",
        "mlp = MLPClassifier(hidden_layer_sizes= 40)\n",
        "mlp.fit(X_train, y_train)"
      ],
      "execution_count": 25,
      "outputs": [
        {
          "output_type": "execute_result",
          "data": {
            "text/plain": [
              "MLPClassifier(activation='relu', alpha=0.0001, batch_size='auto', beta_1=0.9,\n",
              "              beta_2=0.999, early_stopping=False, epsilon=1e-08,\n",
              "              hidden_layer_sizes=40, learning_rate='constant',\n",
              "              learning_rate_init=0.001, max_iter=200, momentum=0.9,\n",
              "              n_iter_no_change=10, nesterovs_momentum=True, power_t=0.5,\n",
              "              random_state=None, shuffle=True, solver='adam', tol=0.0001,\n",
              "              validation_fraction=0.1, verbose=False, warm_start=False)"
            ]
          },
          "metadata": {
            "tags": []
          },
          "execution_count": 25
        }
      ]
    },
    {
      "cell_type": "code",
      "metadata": {
        "id": "pS3EzdnG2FCa",
        "colab_type": "code",
        "colab": {
          "base_uri": "https://localhost:8080/",
          "height": 34
        },
        "outputId": "81163422-a332-4750-9b97-abbbddb08cda"
      },
      "source": [
        "from sklearn.metrics import accuracy_score\n",
        "\n",
        "preds1 = mlp.predict(X_test)\n",
        "#print(preds1)\n",
        "\n",
        "#preds = clf.predict(X_test)\n",
        "print(\"Accuracy:\", accuracy_score(y_test,preds1))"
      ],
      "execution_count": 26,
      "outputs": [
        {
          "output_type": "stream",
          "text": [
            "Accuracy: 0.8958333333333334\n"
          ],
          "name": "stdout"
        }
      ]
    },
    {
      "cell_type": "code",
      "metadata": {
        "id": "kIqLgIbk2E_t",
        "colab_type": "code",
        "colab": {
          "base_uri": "https://localhost:8080/",
          "height": 87
        },
        "outputId": "5191c576-e173-48dc-f9f2-d8b540b373c2"
      },
      "source": [
        "from sklearn.metrics import f1_score\n",
        "from sklearn.metrics import cohen_kappa_score\n",
        "from sklearn.metrics import roc_auc_score\n",
        "print(f1_score(y_test, preds1, average=None))"
      ],
      "execution_count": 27,
      "outputs": [
        {
          "output_type": "stream",
          "text": [
            "[0.94505495 0.        ]\n"
          ],
          "name": "stdout"
        },
        {
          "output_type": "stream",
          "text": [
            "/usr/local/lib/python3.6/dist-packages/sklearn/metrics/classification.py:1437: UndefinedMetricWarning: F-score is ill-defined and being set to 0.0 in labels with no predicted samples.\n",
            "  'precision', 'predicted', average, warn_for)\n"
          ],
          "name": "stderr"
        }
      ]
    },
    {
      "cell_type": "code",
      "metadata": {
        "id": "b9dMSuNx2E-t",
        "colab_type": "code",
        "colab": {}
      },
      "source": [
        "for i in range(len(y_test)):\n",
        "    if(y_test[i]=='No'):\n",
        "        #print(y_test[i])\n",
        "        num = int(0)\n",
        "        #print(type(num))\n",
        "        y_test[i]= int(num)\n",
        "        #print(type(y_test[i]))\n",
        "        #print(y_test[i])\n",
        "    else:\n",
        "        num = int(1)\n",
        "        y_test[i]=int(num)\n",
        "        #print(type(y_test[i]))\n",
        "        \n",
        "    if(preds1[i]=='No'):\n",
        "        num = int(0)\n",
        "        preds1[i]=int(num)\n",
        "    else:\n",
        "        num = int(1)\n",
        "        preds1[i]=int(num)\n",
        "\n",
        "#print(y_test)\n",
        "#print(preds)"
      ],
      "execution_count": 0,
      "outputs": []
    },
    {
      "cell_type": "code",
      "metadata": {
        "id": "RbKDc6iU2E5J",
        "colab_type": "code",
        "colab": {}
      },
      "source": [
        "y_test = list(map(int, y_test)) \n",
        "preds1 = list(map(int, preds1)) "
      ],
      "execution_count": 0,
      "outputs": []
    },
    {
      "cell_type": "code",
      "metadata": {
        "id": "QRVSW5FO2E1y",
        "colab_type": "code",
        "colab": {
          "base_uri": "https://localhost:8080/",
          "height": 34
        },
        "outputId": "13c16e05-5f2f-4f3a-93f3-cc18233b9fbe"
      },
      "source": [
        "print(roc_auc_score(y_test, preds1))"
      ],
      "execution_count": 30,
      "outputs": [
        {
          "output_type": "stream",
          "text": [
            "0.5\n"
          ],
          "name": "stdout"
        }
      ]
    },
    {
      "cell_type": "code",
      "metadata": {
        "id": "KvSLaeBu2EzO",
        "colab_type": "code",
        "colab": {}
      },
      "source": [
        "#############################   Neural Network Algorithm-With PCA 5% components  ##############################"
      ],
      "execution_count": 0,
      "outputs": []
    },
    {
      "cell_type": "code",
      "metadata": {
        "id": "wPWAT2K12Ev0",
        "colab_type": "code",
        "colab": {}
      },
      "source": [
        "from sklearn.model_selection import train_test_split\n",
        "# test_size: what proportion of original data is used for test set\n",
        "X_train, X_test, y_train, y_test = train_test_split( X, y, test_size=0.1, random_state=0)"
      ],
      "execution_count": 0,
      "outputs": []
    },
    {
      "cell_type": "code",
      "metadata": {
        "id": "QdxoXx4N2EtY",
        "colab_type": "code",
        "colab": {}
      },
      "source": [
        "from sklearn.preprocessing import StandardScaler\n",
        "scaler = StandardScaler()\n",
        "# Fit on training set only.\n",
        "scaler.fit(X_train)\n",
        "# Apply transform to both the training set and the test set.\n",
        "X_train = scaler.transform(X_train)\n",
        "X_test = scaler.transform(X_test)\n"
      ],
      "execution_count": 0,
      "outputs": []
    },
    {
      "cell_type": "code",
      "metadata": {
        "id": "Z5mvXdaD2Ep7",
        "colab_type": "code",
        "colab": {}
      },
      "source": [
        "from sklearn.decomposition import PCA\n",
        "# Make an instance of the Model\n",
        "pca = PCA(.5)\n",
        "pca.fit(X_train)\n",
        "\n",
        "X_train = pca.transform(X_train) \n",
        "X_test = pca.transform(X_test) "
      ],
      "execution_count": 0,
      "outputs": []
    },
    {
      "cell_type": "code",
      "metadata": {
        "id": "t1LoI8R42Em3",
        "colab_type": "code",
        "colab": {
          "base_uri": "https://localhost:8080/",
          "height": 134
        },
        "outputId": "ac6262e9-7dea-4c2c-8667-7236b61b1134"
      },
      "source": [
        "from sklearn.neural_network import MLPClassifier\n",
        "mlp = MLPClassifier(hidden_layer_sizes= 40)\n",
        "mlp.fit(X_train, y_train)"
      ],
      "execution_count": 35,
      "outputs": [
        {
          "output_type": "execute_result",
          "data": {
            "text/plain": [
              "MLPClassifier(activation='relu', alpha=0.0001, batch_size='auto', beta_1=0.9,\n",
              "              beta_2=0.999, early_stopping=False, epsilon=1e-08,\n",
              "              hidden_layer_sizes=40, learning_rate='constant',\n",
              "              learning_rate_init=0.001, max_iter=200, momentum=0.9,\n",
              "              n_iter_no_change=10, nesterovs_momentum=True, power_t=0.5,\n",
              "              random_state=None, shuffle=True, solver='adam', tol=0.0001,\n",
              "              validation_fraction=0.1, verbose=False, warm_start=False)"
            ]
          },
          "metadata": {
            "tags": []
          },
          "execution_count": 35
        }
      ]
    },
    {
      "cell_type": "code",
      "metadata": {
        "id": "-FG7sN-72Ej8",
        "colab_type": "code",
        "colab": {
          "base_uri": "https://localhost:8080/",
          "height": 34
        },
        "outputId": "263d5f79-6ad0-47de-9ba1-74fa33dc8ce0"
      },
      "source": [
        "from sklearn.metrics import accuracy_score\n",
        "\n",
        "preds1 = mlp.predict(X_test)\n",
        "#print(preds1)\n",
        "\n",
        "#preds = clf.predict(X_test)\n",
        "print(\"Accuracy:\", accuracy_score(y_test,preds1))"
      ],
      "execution_count": 36,
      "outputs": [
        {
          "output_type": "stream",
          "text": [
            "Accuracy: 0.8541666666666666\n"
          ],
          "name": "stdout"
        }
      ]
    },
    {
      "cell_type": "code",
      "metadata": {
        "id": "J04CZRCW2Egd",
        "colab_type": "code",
        "colab": {
          "base_uri": "https://localhost:8080/",
          "height": 34
        },
        "outputId": "79262081-57dc-4ee7-9889-1a04aeeb2b47"
      },
      "source": [
        "from sklearn.metrics import f1_score\n",
        "from sklearn.metrics import cohen_kappa_score\n",
        "from sklearn.metrics import roc_auc_score\n",
        "print(f1_score(y_test, preds1, average=None))"
      ],
      "execution_count": 37,
      "outputs": [
        {
          "output_type": "stream",
          "text": [
            "[0.91954023 0.22222222]\n"
          ],
          "name": "stdout"
        }
      ]
    },
    {
      "cell_type": "code",
      "metadata": {
        "id": "SC5l9x5B2Edq",
        "colab_type": "code",
        "colab": {}
      },
      "source": [
        "for i in range(len(y_test)):\n",
        "    if(y_test[i]=='No'):\n",
        "        #print(y_test[i])\n",
        "        num = int(0)\n",
        "        #print(type(num))\n",
        "        y_test[i]= int(num)\n",
        "        #print(type(y_test[i]))\n",
        "        #print(y_test[i])\n",
        "    else:\n",
        "        num = int(1)\n",
        "        y_test[i]=int(num)\n",
        "        #print(type(y_test[i]))\n",
        "        \n",
        "    if(preds1[i]=='No'):\n",
        "        num = int(0)\n",
        "        preds1[i]=int(num)\n",
        "    else:\n",
        "        num = int(1)\n",
        "        preds1[i]=int(num)\n",
        "\n",
        "#print(y_test)\n",
        "#print(preds)"
      ],
      "execution_count": 0,
      "outputs": []
    },
    {
      "cell_type": "code",
      "metadata": {
        "id": "UlAO8FdC2Ea6",
        "colab_type": "code",
        "colab": {}
      },
      "source": [
        "y_test = list(map(int, y_test)) \n",
        "preds1 = list(map(int, preds1)) "
      ],
      "execution_count": 0,
      "outputs": []
    },
    {
      "cell_type": "code",
      "metadata": {
        "id": "DxwCuuyu2EXm",
        "colab_type": "code",
        "colab": {
          "base_uri": "https://localhost:8080/",
          "height": 34
        },
        "outputId": "0fe42258-c37e-4fce-b60a-c9a1d3d987e8"
      },
      "source": [
        "print(roc_auc_score(y_test, preds1))"
      ],
      "execution_count": 40,
      "outputs": [
        {
          "output_type": "stream",
          "text": [
            "0.5651162790697675\n"
          ],
          "name": "stdout"
        }
      ]
    },
    {
      "cell_type": "code",
      "metadata": {
        "id": "NETGHAvS2EVF",
        "colab_type": "code",
        "colab": {}
      },
      "source": [
        "#############################   Neural Network Algorithm-With PCA 10% components  ##############################"
      ],
      "execution_count": 0,
      "outputs": []
    },
    {
      "cell_type": "code",
      "metadata": {
        "id": "PvED0ls72ERb",
        "colab_type": "code",
        "colab": {}
      },
      "source": [
        "from sklearn.model_selection import train_test_split\n",
        "# test_size: what proportion of original data is used for test set\n",
        "X_train, X_test, y_train, y_test = train_test_split( X, y, test_size=0.1, random_state=0)"
      ],
      "execution_count": 0,
      "outputs": []
    },
    {
      "cell_type": "code",
      "metadata": {
        "id": "86dlmvuR2EMj",
        "colab_type": "code",
        "colab": {}
      },
      "source": [
        "from sklearn.preprocessing import StandardScaler\n",
        "scaler = StandardScaler()\n",
        "# Fit on training set only.\n",
        "scaler.fit(X_train)\n",
        "# Apply transform to both the training set and the test set.\n",
        "X_train = scaler.transform(X_train)\n",
        "X_test = scaler.transform(X_test)\n"
      ],
      "execution_count": 0,
      "outputs": []
    },
    {
      "cell_type": "code",
      "metadata": {
        "id": "7Q-9eANc2EJH",
        "colab_type": "code",
        "colab": {}
      },
      "source": [
        "from sklearn.decomposition import PCA\n",
        "# Make an instance of the Model\n",
        "pca = PCA(.10)\n",
        "pca.fit(X_train)\n",
        "\n",
        "X_train = pca.transform(X_train) \n",
        "X_test = pca.transform(X_test) "
      ],
      "execution_count": 0,
      "outputs": []
    },
    {
      "cell_type": "code",
      "metadata": {
        "id": "SwDRQCYT2EF0",
        "colab_type": "code",
        "colab": {
          "base_uri": "https://localhost:8080/",
          "height": 134
        },
        "outputId": "11b4bdb0-5455-4db3-f830-bc053478d848"
      },
      "source": [
        "from sklearn.neural_network import MLPClassifier\n",
        "mlp = MLPClassifier(hidden_layer_sizes= 40)\n",
        "mlp.fit(X_train, y_train)"
      ],
      "execution_count": 45,
      "outputs": [
        {
          "output_type": "execute_result",
          "data": {
            "text/plain": [
              "MLPClassifier(activation='relu', alpha=0.0001, batch_size='auto', beta_1=0.9,\n",
              "              beta_2=0.999, early_stopping=False, epsilon=1e-08,\n",
              "              hidden_layer_sizes=40, learning_rate='constant',\n",
              "              learning_rate_init=0.001, max_iter=200, momentum=0.9,\n",
              "              n_iter_no_change=10, nesterovs_momentum=True, power_t=0.5,\n",
              "              random_state=None, shuffle=True, solver='adam', tol=0.0001,\n",
              "              validation_fraction=0.1, verbose=False, warm_start=False)"
            ]
          },
          "metadata": {
            "tags": []
          },
          "execution_count": 45
        }
      ]
    },
    {
      "cell_type": "code",
      "metadata": {
        "id": "4RGhJRFv2EDP",
        "colab_type": "code",
        "colab": {
          "base_uri": "https://localhost:8080/",
          "height": 34
        },
        "outputId": "2def7c40-96b0-45af-cfe6-3e7faa0688fe"
      },
      "source": [
        "from sklearn.metrics import accuracy_score\n",
        "\n",
        "preds1 = mlp.predict(X_test)\n",
        "#print(preds1)\n",
        "\n",
        "#preds = clf.predict(X_test)\n",
        "print(\"Accuracy:\", accuracy_score(y_test,preds1))"
      ],
      "execution_count": 46,
      "outputs": [
        {
          "output_type": "stream",
          "text": [
            "Accuracy: 0.875\n"
          ],
          "name": "stdout"
        }
      ]
    },
    {
      "cell_type": "code",
      "metadata": {
        "id": "hC9VnmYd2EAt",
        "colab_type": "code",
        "colab": {
          "base_uri": "https://localhost:8080/",
          "height": 34
        },
        "outputId": "70ca6da3-9d8a-4a19-c2ae-9c516faf219f"
      },
      "source": [
        "from sklearn.metrics import f1_score\n",
        "from sklearn.metrics import cohen_kappa_score\n",
        "from sklearn.metrics import roc_auc_score\n",
        "print(f1_score(y_test, preds1, average=None))"
      ],
      "execution_count": 47,
      "outputs": [
        {
          "output_type": "stream",
          "text": [
            "[0.93333333 0.        ]\n"
          ],
          "name": "stdout"
        }
      ]
    },
    {
      "cell_type": "code",
      "metadata": {
        "id": "fsRrzju02D88",
        "colab_type": "code",
        "colab": {}
      },
      "source": [
        "for i in range(len(y_test)):\n",
        "    if(y_test[i]=='No'):\n",
        "        #print(y_test[i])\n",
        "        num = int(0)\n",
        "        #print(type(num))\n",
        "        y_test[i]= int(num)\n",
        "        #print(type(y_test[i]))\n",
        "        #print(y_test[i])\n",
        "    else:\n",
        "        num = int(1)\n",
        "        y_test[i]=int(num)\n",
        "        #print(type(y_test[i]))\n",
        "        \n",
        "    if(preds1[i]=='No'):\n",
        "        num = int(0)\n",
        "        preds1[i]=int(num)\n",
        "    else:\n",
        "        num = int(1)\n",
        "        preds1[i]=int(num)\n",
        "\n",
        "#print(y_test)\n",
        "#print(preds)"
      ],
      "execution_count": 0,
      "outputs": []
    },
    {
      "cell_type": "code",
      "metadata": {
        "id": "B355Yp4u2D6y",
        "colab_type": "code",
        "colab": {}
      },
      "source": [
        "y_test = list(map(int, y_test)) \n",
        "preds1 = list(map(int, preds1)) "
      ],
      "execution_count": 0,
      "outputs": []
    },
    {
      "cell_type": "code",
      "metadata": {
        "id": "WBU5bbPD2D3m",
        "colab_type": "code",
        "colab": {
          "base_uri": "https://localhost:8080/",
          "height": 34
        },
        "outputId": "8550bc23-1338-4f89-9236-0fd2080836c7"
      },
      "source": [
        "print(roc_auc_score(y_test, preds1))"
      ],
      "execution_count": 50,
      "outputs": [
        {
          "output_type": "stream",
          "text": [
            "0.4883720930232558\n"
          ],
          "name": "stdout"
        }
      ]
    },
    {
      "cell_type": "code",
      "metadata": {
        "id": "V352Bk-M2D0Z",
        "colab_type": "code",
        "colab": {}
      },
      "source": [
        "#############################   Neural Network Algorithm-With PCA 20% components  ##############################"
      ],
      "execution_count": 0,
      "outputs": []
    },
    {
      "cell_type": "code",
      "metadata": {
        "id": "JDEVKBeC2DxX",
        "colab_type": "code",
        "colab": {}
      },
      "source": [
        "from sklearn.model_selection import train_test_split\n",
        "# test_size: what proportion of original data is used for test set\n",
        "X_train, X_test, y_train, y_test = train_test_split( X, y, test_size=0.1, random_state=0)"
      ],
      "execution_count": 0,
      "outputs": []
    },
    {
      "cell_type": "code",
      "metadata": {
        "id": "ycMavbaO2Duq",
        "colab_type": "code",
        "colab": {}
      },
      "source": [
        "from sklearn.preprocessing import StandardScaler\n",
        "scaler = StandardScaler()\n",
        "# Fit on training set only.\n",
        "scaler.fit(X_train)\n",
        "# Apply transform to both the training set and the test set.\n",
        "X_train = scaler.transform(X_train)\n",
        "X_test = scaler.transform(X_test)\n"
      ],
      "execution_count": 0,
      "outputs": []
    },
    {
      "cell_type": "code",
      "metadata": {
        "id": "dYQLjxLu2Dph",
        "colab_type": "code",
        "colab": {}
      },
      "source": [
        "from sklearn.decomposition import PCA\n",
        "# Make an instance of the Model\n",
        "pca = PCA(.20)\n",
        "pca.fit(X_train)\n",
        "\n",
        "X_train = pca.transform(X_train) \n",
        "X_test = pca.transform(X_test) "
      ],
      "execution_count": 0,
      "outputs": []
    },
    {
      "cell_type": "code",
      "metadata": {
        "id": "yzjfyi5f2Dnc",
        "colab_type": "code",
        "colab": {
          "base_uri": "https://localhost:8080/",
          "height": 134
        },
        "outputId": "12497765-13ea-42df-b8a9-b031d729a07c"
      },
      "source": [
        "from sklearn.neural_network import MLPClassifier\n",
        "mlp = MLPClassifier(hidden_layer_sizes= 40)\n",
        "mlp.fit(X_train, y_train)"
      ],
      "execution_count": 55,
      "outputs": [
        {
          "output_type": "execute_result",
          "data": {
            "text/plain": [
              "MLPClassifier(activation='relu', alpha=0.0001, batch_size='auto', beta_1=0.9,\n",
              "              beta_2=0.999, early_stopping=False, epsilon=1e-08,\n",
              "              hidden_layer_sizes=40, learning_rate='constant',\n",
              "              learning_rate_init=0.001, max_iter=200, momentum=0.9,\n",
              "              n_iter_no_change=10, nesterovs_momentum=True, power_t=0.5,\n",
              "              random_state=None, shuffle=True, solver='adam', tol=0.0001,\n",
              "              validation_fraction=0.1, verbose=False, warm_start=False)"
            ]
          },
          "metadata": {
            "tags": []
          },
          "execution_count": 55
        }
      ]
    },
    {
      "cell_type": "code",
      "metadata": {
        "id": "cN3udBu12DkK",
        "colab_type": "code",
        "colab": {
          "base_uri": "https://localhost:8080/",
          "height": 34
        },
        "outputId": "352c43e4-0242-4a94-9699-38afdad3478a"
      },
      "source": [
        "from sklearn.metrics import accuracy_score\n",
        "\n",
        "preds1 = mlp.predict(X_test)\n",
        "#print(preds1)\n",
        "\n",
        "#preds = clf.predict(X_test)\n",
        "print(\"Accuracy:\", accuracy_score(y_test,preds1))"
      ],
      "execution_count": 56,
      "outputs": [
        {
          "output_type": "stream",
          "text": [
            "Accuracy: 0.875\n"
          ],
          "name": "stdout"
        }
      ]
    },
    {
      "cell_type": "code",
      "metadata": {
        "id": "8s4HM4MQ2DhA",
        "colab_type": "code",
        "colab": {
          "base_uri": "https://localhost:8080/",
          "height": 34
        },
        "outputId": "157f9307-39fd-48c5-f3ad-257cbc6a6677"
      },
      "source": [
        "from sklearn.metrics import f1_score\n",
        "from sklearn.metrics import cohen_kappa_score\n",
        "from sklearn.metrics import roc_auc_score\n",
        "print(f1_score(y_test, preds1, average=None))"
      ],
      "execution_count": 57,
      "outputs": [
        {
          "output_type": "stream",
          "text": [
            "[0.93333333 0.        ]\n"
          ],
          "name": "stdout"
        }
      ]
    },
    {
      "cell_type": "code",
      "metadata": {
        "id": "rm-txV772DeB",
        "colab_type": "code",
        "colab": {}
      },
      "source": [
        "for i in range(len(y_test)):\n",
        "    if(y_test[i]=='No'):\n",
        "        #print(y_test[i])\n",
        "        num = int(0)\n",
        "        #print(type(num))\n",
        "        y_test[i]= int(num)\n",
        "        #print(type(y_test[i]))\n",
        "        #print(y_test[i])\n",
        "    else:\n",
        "        num = int(1)\n",
        "        y_test[i]=int(num)\n",
        "        #print(type(y_test[i]))\n",
        "        \n",
        "    if(preds1[i]=='No'):\n",
        "        num = int(0)\n",
        "        preds1[i]=int(num)\n",
        "    else:\n",
        "        num = int(1)\n",
        "        preds1[i]=int(num)\n",
        "\n",
        "#print(y_test)\n",
        "#print(preds)"
      ],
      "execution_count": 0,
      "outputs": []
    },
    {
      "cell_type": "code",
      "metadata": {
        "id": "uAgYibq-2Db2",
        "colab_type": "code",
        "colab": {}
      },
      "source": [
        "y_test = list(map(int, y_test)) \n",
        "preds1 = list(map(int, preds1)) "
      ],
      "execution_count": 0,
      "outputs": []
    },
    {
      "cell_type": "code",
      "metadata": {
        "id": "e7GMgg832DYP",
        "colab_type": "code",
        "colab": {
          "base_uri": "https://localhost:8080/",
          "height": 34
        },
        "outputId": "fa1b2b28-d4c1-4bce-8367-24ca18d869e3"
      },
      "source": [
        "print(roc_auc_score(y_test, preds1))"
      ],
      "execution_count": 60,
      "outputs": [
        {
          "output_type": "stream",
          "text": [
            "0.4883720930232558\n"
          ],
          "name": "stdout"
        }
      ]
    },
    {
      "cell_type": "code",
      "metadata": {
        "id": "zfvx8V6FMH6t",
        "colab_type": "code",
        "colab": {}
      },
      "source": [
        "#############################   Neural Network Algorithm-With PCA 30% components  ##############################"
      ],
      "execution_count": 0,
      "outputs": []
    },
    {
      "cell_type": "code",
      "metadata": {
        "id": "koZwyyN6MHym",
        "colab_type": "code",
        "colab": {}
      },
      "source": [
        "from sklearn.model_selection import train_test_split\n",
        "# test_size: what proportion of original data is used for test set\n",
        "X_train, X_test, y_train, y_test = train_test_split( X, y, test_size=0.1, random_state=0)"
      ],
      "execution_count": 0,
      "outputs": []
    },
    {
      "cell_type": "code",
      "metadata": {
        "id": "FEUIW4g3MHrb",
        "colab_type": "code",
        "colab": {}
      },
      "source": [
        "from sklearn.preprocessing import StandardScaler\n",
        "scaler = StandardScaler()\n",
        "# Fit on training set only.\n",
        "scaler.fit(X_train)\n",
        "# Apply transform to both the training set and the test set.\n",
        "X_train = scaler.transform(X_train)\n",
        "X_test = scaler.transform(X_test)\n"
      ],
      "execution_count": 0,
      "outputs": []
    },
    {
      "cell_type": "code",
      "metadata": {
        "id": "nKIi_GZLMHjh",
        "colab_type": "code",
        "colab": {}
      },
      "source": [
        "from sklearn.decomposition import PCA\n",
        "# Make an instance of the Model\n",
        "pca = PCA(.30)\n",
        "pca.fit(X_train)\n",
        "\n",
        "X_train = pca.transform(X_train) \n",
        "X_test = pca.transform(X_test) "
      ],
      "execution_count": 0,
      "outputs": []
    },
    {
      "cell_type": "code",
      "metadata": {
        "id": "72Vg5_vTMHb9",
        "colab_type": "code",
        "colab": {
          "base_uri": "https://localhost:8080/",
          "height": 134
        },
        "outputId": "a3d9715e-dea9-4e45-d5f1-28d9642bd042"
      },
      "source": [
        "from sklearn.neural_network import MLPClassifier\n",
        "mlp = MLPClassifier(hidden_layer_sizes= 40)\n",
        "mlp.fit(X_train, y_train)"
      ],
      "execution_count": 65,
      "outputs": [
        {
          "output_type": "execute_result",
          "data": {
            "text/plain": [
              "MLPClassifier(activation='relu', alpha=0.0001, batch_size='auto', beta_1=0.9,\n",
              "              beta_2=0.999, early_stopping=False, epsilon=1e-08,\n",
              "              hidden_layer_sizes=40, learning_rate='constant',\n",
              "              learning_rate_init=0.001, max_iter=200, momentum=0.9,\n",
              "              n_iter_no_change=10, nesterovs_momentum=True, power_t=0.5,\n",
              "              random_state=None, shuffle=True, solver='adam', tol=0.0001,\n",
              "              validation_fraction=0.1, verbose=False, warm_start=False)"
            ]
          },
          "metadata": {
            "tags": []
          },
          "execution_count": 65
        }
      ]
    },
    {
      "cell_type": "code",
      "metadata": {
        "id": "OSlGBOXNMHUL",
        "colab_type": "code",
        "colab": {
          "base_uri": "https://localhost:8080/",
          "height": 34
        },
        "outputId": "03abc879-cdde-42cc-e00b-1f6a9a7283c4"
      },
      "source": [
        "from sklearn.metrics import accuracy_score\n",
        "\n",
        "preds1 = mlp.predict(X_test)\n",
        "#print(preds1)\n",
        "\n",
        "#preds = clf.predict(X_test)\n",
        "print(\"Accuracy:\", accuracy_score(y_test,preds1))"
      ],
      "execution_count": 66,
      "outputs": [
        {
          "output_type": "stream",
          "text": [
            "Accuracy: 0.8958333333333334\n"
          ],
          "name": "stdout"
        }
      ]
    },
    {
      "cell_type": "code",
      "metadata": {
        "id": "vrSfG3iEMHMY",
        "colab_type": "code",
        "colab": {
          "base_uri": "https://localhost:8080/",
          "height": 87
        },
        "outputId": "6f9e41fe-9440-4121-bd83-407ae58bd468"
      },
      "source": [
        "from sklearn.metrics import f1_score\n",
        "from sklearn.metrics import cohen_kappa_score\n",
        "from sklearn.metrics import roc_auc_score\n",
        "print(f1_score(y_test, preds1, average=None))"
      ],
      "execution_count": 67,
      "outputs": [
        {
          "output_type": "stream",
          "text": [
            "[0.94505495 0.        ]\n"
          ],
          "name": "stdout"
        },
        {
          "output_type": "stream",
          "text": [
            "/usr/local/lib/python3.6/dist-packages/sklearn/metrics/classification.py:1437: UndefinedMetricWarning: F-score is ill-defined and being set to 0.0 in labels with no predicted samples.\n",
            "  'precision', 'predicted', average, warn_for)\n"
          ],
          "name": "stderr"
        }
      ]
    },
    {
      "cell_type": "code",
      "metadata": {
        "id": "4Ar-k_r7MHEg",
        "colab_type": "code",
        "colab": {}
      },
      "source": [
        "for i in range(len(y_test)):\n",
        "    if(y_test[i]=='No'):\n",
        "        #print(y_test[i])\n",
        "        num = int(0)\n",
        "        #print(type(num))\n",
        "        y_test[i]= int(num)\n",
        "        #print(type(y_test[i]))\n",
        "        #print(y_test[i])\n",
        "    else:\n",
        "        num = int(1)\n",
        "        y_test[i]=int(num)\n",
        "        #print(type(y_test[i]))\n",
        "        \n",
        "    if(preds1[i]=='No'):\n",
        "        num = int(0)\n",
        "        preds1[i]=int(num)\n",
        "    else:\n",
        "        num = int(1)\n",
        "        preds1[i]=int(num)\n",
        "\n",
        "#print(y_test)\n",
        "#print(preds)"
      ],
      "execution_count": 0,
      "outputs": []
    },
    {
      "cell_type": "code",
      "metadata": {
        "id": "m4PBAYRNMG-O",
        "colab_type": "code",
        "colab": {}
      },
      "source": [
        "y_test = list(map(int, y_test)) \n",
        "preds1 = list(map(int, preds1)) "
      ],
      "execution_count": 0,
      "outputs": []
    },
    {
      "cell_type": "code",
      "metadata": {
        "id": "hS0MGzJtMG4H",
        "colab_type": "code",
        "colab": {
          "base_uri": "https://localhost:8080/",
          "height": 34
        },
        "outputId": "bec94499-cf9c-47f9-c950-ae926a4e73d9"
      },
      "source": [
        "print(roc_auc_score(y_test, preds1))"
      ],
      "execution_count": 70,
      "outputs": [
        {
          "output_type": "stream",
          "text": [
            "0.5\n"
          ],
          "name": "stdout"
        }
      ]
    },
    {
      "cell_type": "code",
      "metadata": {
        "id": "VyryuOe22DWb",
        "colab_type": "code",
        "colab": {}
      },
      "source": [
        "#############################   Neural Network Algorithm-With PCA 40% components  ##############################"
      ],
      "execution_count": 0,
      "outputs": []
    },
    {
      "cell_type": "code",
      "metadata": {
        "id": "ALkAHrFB2DS5",
        "colab_type": "code",
        "colab": {}
      },
      "source": [
        "from sklearn.model_selection import train_test_split\n",
        "# test_size: what proportion of original data is used for test set\n",
        "X_train, X_test, y_train, y_test = train_test_split( X, y, test_size=0.1, random_state=0)"
      ],
      "execution_count": 0,
      "outputs": []
    },
    {
      "cell_type": "code",
      "metadata": {
        "id": "7kbFApuK2DQD",
        "colab_type": "code",
        "colab": {}
      },
      "source": [
        "from sklearn.preprocessing import StandardScaler\n",
        "scaler = StandardScaler()\n",
        "# Fit on training set only.\n",
        "scaler.fit(X_train)\n",
        "# Apply transform to both the training set and the test set.\n",
        "X_train = scaler.transform(X_train)\n",
        "X_test = scaler.transform(X_test)\n",
        "\n"
      ],
      "execution_count": 0,
      "outputs": []
    },
    {
      "cell_type": "code",
      "metadata": {
        "id": "EvOtJlMO2DNC",
        "colab_type": "code",
        "colab": {}
      },
      "source": [
        "from sklearn.decomposition import PCA\n",
        "# Make an instance of the Model\n",
        "pca = PCA(.40)\n",
        "pca.fit(X_train)\n",
        "\n",
        "X_train = pca.transform(X_train) \n",
        "X_test = pca.transform(X_test) "
      ],
      "execution_count": 0,
      "outputs": []
    },
    {
      "cell_type": "code",
      "metadata": {
        "id": "m7aHIwa82DLK",
        "colab_type": "code",
        "colab": {
          "base_uri": "https://localhost:8080/",
          "height": 134
        },
        "outputId": "391afd51-824f-4699-979a-8e065e75e067"
      },
      "source": [
        "from sklearn.neural_network import MLPClassifier\n",
        "mlp = MLPClassifier(hidden_layer_sizes= 40)\n",
        "mlp.fit(X_train, y_train)"
      ],
      "execution_count": 75,
      "outputs": [
        {
          "output_type": "execute_result",
          "data": {
            "text/plain": [
              "MLPClassifier(activation='relu', alpha=0.0001, batch_size='auto', beta_1=0.9,\n",
              "              beta_2=0.999, early_stopping=False, epsilon=1e-08,\n",
              "              hidden_layer_sizes=40, learning_rate='constant',\n",
              "              learning_rate_init=0.001, max_iter=200, momentum=0.9,\n",
              "              n_iter_no_change=10, nesterovs_momentum=True, power_t=0.5,\n",
              "              random_state=None, shuffle=True, solver='adam', tol=0.0001,\n",
              "              validation_fraction=0.1, verbose=False, warm_start=False)"
            ]
          },
          "metadata": {
            "tags": []
          },
          "execution_count": 75
        }
      ]
    },
    {
      "cell_type": "code",
      "metadata": {
        "id": "MNTo6rAh2DIA",
        "colab_type": "code",
        "colab": {
          "base_uri": "https://localhost:8080/",
          "height": 34
        },
        "outputId": "fcd64c91-1110-4182-97c8-9d0c0c3c2669"
      },
      "source": [
        "from sklearn.metrics import accuracy_score\n",
        "\n",
        "preds1 = mlp.predict(X_test)\n",
        "#print(preds1)\n",
        "\n",
        "#preds = clf.predict(X_test)\n",
        "print(\"Accuracy:\", accuracy_score(y_test,preds1))"
      ],
      "execution_count": 76,
      "outputs": [
        {
          "output_type": "stream",
          "text": [
            "Accuracy: 0.7916666666666666\n"
          ],
          "name": "stdout"
        }
      ]
    },
    {
      "cell_type": "code",
      "metadata": {
        "id": "HrgEyYqB2DFQ",
        "colab_type": "code",
        "colab": {
          "base_uri": "https://localhost:8080/",
          "height": 34
        },
        "outputId": "66771d87-80f9-4639-a0e9-00d89f23970a"
      },
      "source": [
        "from sklearn.metrics import f1_score\n",
        "from sklearn.metrics import cohen_kappa_score\n",
        "from sklearn.metrics import roc_auc_score\n",
        "print(f1_score(y_test, preds1, average=None))"
      ],
      "execution_count": 77,
      "outputs": [
        {
          "output_type": "stream",
          "text": [
            "[0.88372093 0.        ]\n"
          ],
          "name": "stdout"
        }
      ]
    },
    {
      "cell_type": "code",
      "metadata": {
        "id": "I1UjGeYg2DCg",
        "colab_type": "code",
        "colab": {}
      },
      "source": [
        "for i in range(len(y_test)):\n",
        "    if(y_test[i]=='No'):\n",
        "        #print(y_test[i])\n",
        "        num = int(0)\n",
        "        #print(type(num))\n",
        "        y_test[i]= int(num)\n",
        "        #print(type(y_test[i]))\n",
        "        #print(y_test[i])\n",
        "    else:\n",
        "        num = int(1)\n",
        "        y_test[i]=int(num)\n",
        "        #print(type(y_test[i]))\n",
        "        \n",
        "    if(preds1[i]=='No'):\n",
        "        num = int(0)\n",
        "        preds1[i]=int(num)\n",
        "    else:\n",
        "        num = int(1)\n",
        "        preds1[i]=int(num)\n",
        "\n",
        "#print(y_test)\n",
        "#print(preds)"
      ],
      "execution_count": 0,
      "outputs": []
    },
    {
      "cell_type": "code",
      "metadata": {
        "id": "aGOhfgEK2DAd",
        "colab_type": "code",
        "colab": {}
      },
      "source": [
        "y_test = list(map(int, y_test)) \n",
        "preds1 = list(map(int, preds1)) "
      ],
      "execution_count": 0,
      "outputs": []
    },
    {
      "cell_type": "code",
      "metadata": {
        "id": "xhoAfmO52C-F",
        "colab_type": "code",
        "colab": {
          "base_uri": "https://localhost:8080/",
          "height": 34
        },
        "outputId": "22685b1a-5ff6-43d1-da0f-676c959e8c30"
      },
      "source": [
        "print(roc_auc_score(y_test, preds1))"
      ],
      "execution_count": 80,
      "outputs": [
        {
          "output_type": "stream",
          "text": [
            "0.4418604651162791\n"
          ],
          "name": "stdout"
        }
      ]
    },
    {
      "cell_type": "code",
      "metadata": {
        "id": "YfccOrP-2C6-",
        "colab_type": "code",
        "colab": {}
      },
      "source": [
        "#############################   Neural Network Algorithm-With PCA 60% components  ##############################"
      ],
      "execution_count": 0,
      "outputs": []
    },
    {
      "cell_type": "code",
      "metadata": {
        "id": "LOBcECLA2C4e",
        "colab_type": "code",
        "colab": {}
      },
      "source": [
        "from sklearn.model_selection import train_test_split\n",
        "# test_size: what proportion of original data is used for test set\n",
        "X_train, X_test, y_train, y_test = train_test_split( X, y, test_size=0.1, random_state=0)"
      ],
      "execution_count": 0,
      "outputs": []
    },
    {
      "cell_type": "code",
      "metadata": {
        "id": "Px4UEJU_2C1-",
        "colab_type": "code",
        "colab": {}
      },
      "source": [
        "from sklearn.preprocessing import StandardScaler\n",
        "scaler = StandardScaler()\n",
        "# Fit on training set only.\n",
        "scaler.fit(X_train)\n",
        "# Apply transform to both the training set and the test set.\n",
        "X_train = scaler.transform(X_train)\n",
        "X_test = scaler.transform(X_test)\n"
      ],
      "execution_count": 0,
      "outputs": []
    },
    {
      "cell_type": "code",
      "metadata": {
        "id": "Kg6tRN2rMxXL",
        "colab_type": "code",
        "colab": {}
      },
      "source": [
        "from sklearn.decomposition import PCA\n",
        "# Make an instance of the Model\n",
        "pca = PCA(.60)\n",
        "pca.fit(X_train)\n",
        "\n",
        "X_train = pca.transform(X_train) \n",
        "X_test = pca.transform(X_test) "
      ],
      "execution_count": 0,
      "outputs": []
    },
    {
      "cell_type": "code",
      "metadata": {
        "id": "tpOFQ0jxMxVO",
        "colab_type": "code",
        "colab": {
          "base_uri": "https://localhost:8080/",
          "height": 134
        },
        "outputId": "fd093d55-4384-4f68-83c9-5e113a7235ed"
      },
      "source": [
        "from sklearn.neural_network import MLPClassifier\n",
        "mlp = MLPClassifier(hidden_layer_sizes= 40)\n",
        "mlp.fit(X_train, y_train)"
      ],
      "execution_count": 85,
      "outputs": [
        {
          "output_type": "execute_result",
          "data": {
            "text/plain": [
              "MLPClassifier(activation='relu', alpha=0.0001, batch_size='auto', beta_1=0.9,\n",
              "              beta_2=0.999, early_stopping=False, epsilon=1e-08,\n",
              "              hidden_layer_sizes=40, learning_rate='constant',\n",
              "              learning_rate_init=0.001, max_iter=200, momentum=0.9,\n",
              "              n_iter_no_change=10, nesterovs_momentum=True, power_t=0.5,\n",
              "              random_state=None, shuffle=True, solver='adam', tol=0.0001,\n",
              "              validation_fraction=0.1, verbose=False, warm_start=False)"
            ]
          },
          "metadata": {
            "tags": []
          },
          "execution_count": 85
        }
      ]
    },
    {
      "cell_type": "code",
      "metadata": {
        "id": "NAzCtZHaMxTg",
        "colab_type": "code",
        "colab": {
          "base_uri": "https://localhost:8080/",
          "height": 34
        },
        "outputId": "f301a4e1-5fad-4878-ac48-d6cbe93d9cc6"
      },
      "source": [
        "from sklearn.metrics import accuracy_score\n",
        "\n",
        "preds1 = mlp.predict(X_test)\n",
        "#print(preds1)\n",
        "\n",
        "#preds = clf.predict(X_test)\n",
        "print(\"Accuracy:\", accuracy_score(y_test,preds1))"
      ],
      "execution_count": 86,
      "outputs": [
        {
          "output_type": "stream",
          "text": [
            "Accuracy: 0.8958333333333334\n"
          ],
          "name": "stdout"
        }
      ]
    },
    {
      "cell_type": "code",
      "metadata": {
        "id": "6ypDjmf3MxQJ",
        "colab_type": "code",
        "colab": {
          "base_uri": "https://localhost:8080/",
          "height": 87
        },
        "outputId": "84238044-d1c1-4152-83b2-277dc9ca20c0"
      },
      "source": [
        "from sklearn.metrics import f1_score\n",
        "from sklearn.metrics import cohen_kappa_score\n",
        "from sklearn.metrics import roc_auc_score\n",
        "print(f1_score(y_test, preds1, average=None))"
      ],
      "execution_count": 87,
      "outputs": [
        {
          "output_type": "stream",
          "text": [
            "[0.94505495 0.        ]\n"
          ],
          "name": "stdout"
        },
        {
          "output_type": "stream",
          "text": [
            "/usr/local/lib/python3.6/dist-packages/sklearn/metrics/classification.py:1437: UndefinedMetricWarning: F-score is ill-defined and being set to 0.0 in labels with no predicted samples.\n",
            "  'precision', 'predicted', average, warn_for)\n"
          ],
          "name": "stderr"
        }
      ]
    },
    {
      "cell_type": "code",
      "metadata": {
        "id": "Ghn406KYMxN5",
        "colab_type": "code",
        "colab": {}
      },
      "source": [
        "for i in range(len(y_test)):\n",
        "    if(y_test[i]=='No'):\n",
        "        #print(y_test[i])\n",
        "        num = int(0)\n",
        "        #print(type(num))\n",
        "        y_test[i]= int(num)\n",
        "        #print(type(y_test[i]))\n",
        "        #print(y_test[i])\n",
        "    else:\n",
        "        num = int(1)\n",
        "        y_test[i]=int(num)\n",
        "        #print(type(y_test[i]))\n",
        "        \n",
        "    if(preds1[i]=='No'):\n",
        "        num = int(0)\n",
        "        preds1[i]=int(num)\n",
        "    else:\n",
        "        num = int(1)\n",
        "        preds1[i]=int(num)\n",
        "\n",
        "#print(y_test)\n",
        "#print(preds)"
      ],
      "execution_count": 0,
      "outputs": []
    },
    {
      "cell_type": "code",
      "metadata": {
        "id": "ROTqpISKMxLy",
        "colab_type": "code",
        "colab": {}
      },
      "source": [
        "y_test = list(map(int, y_test)) \n",
        "preds1 = list(map(int, preds1)) "
      ],
      "execution_count": 0,
      "outputs": []
    },
    {
      "cell_type": "code",
      "metadata": {
        "id": "rSnaa2HSMxJJ",
        "colab_type": "code",
        "colab": {
          "base_uri": "https://localhost:8080/",
          "height": 34
        },
        "outputId": "6d9450b1-c3a8-4610-d874-aa34904fcdf8"
      },
      "source": [
        "print(roc_auc_score(y_test, preds1))"
      ],
      "execution_count": 90,
      "outputs": [
        {
          "output_type": "stream",
          "text": [
            "0.5\n"
          ],
          "name": "stdout"
        }
      ]
    },
    {
      "cell_type": "code",
      "metadata": {
        "id": "pcjweoDPMxGK",
        "colab_type": "code",
        "colab": {}
      },
      "source": [
        "#############################   Neural Network Algorithm-With PCA 80% components  ##############################"
      ],
      "execution_count": 0,
      "outputs": []
    },
    {
      "cell_type": "code",
      "metadata": {
        "id": "V-RigHNXMxDP",
        "colab_type": "code",
        "colab": {}
      },
      "source": [
        "from sklearn.model_selection import train_test_split\n",
        "# test_size: what proportion of original data is used for test set\n",
        "X_train, X_test, y_train, y_test = train_test_split( X, y, test_size=0.1, random_state=0)"
      ],
      "execution_count": 0,
      "outputs": []
    },
    {
      "cell_type": "code",
      "metadata": {
        "id": "Kl3cvHciMxBf",
        "colab_type": "code",
        "colab": {}
      },
      "source": [
        "from sklearn.preprocessing import StandardScaler\n",
        "scaler = StandardScaler()\n",
        "# Fit on training set only.\n",
        "scaler.fit(X_train)\n",
        "# Apply transform to both the training set and the test set.\n",
        "X_train = scaler.transform(X_train)\n",
        "X_test = scaler.transform(X_test)\n"
      ],
      "execution_count": 0,
      "outputs": []
    },
    {
      "cell_type": "code",
      "metadata": {
        "id": "RogCEM5tMw-5",
        "colab_type": "code",
        "colab": {}
      },
      "source": [
        "from sklearn.decomposition import PCA\n",
        "# Make an instance of the Model\n",
        "pca = PCA(.80)\n",
        "pca.fit(X_train)\n",
        "\n",
        "X_train = pca.transform(X_train) \n",
        "X_test = pca.transform(X_test) "
      ],
      "execution_count": 0,
      "outputs": []
    },
    {
      "cell_type": "code",
      "metadata": {
        "id": "MdJ-1O4iMw7P",
        "colab_type": "code",
        "colab": {
          "base_uri": "https://localhost:8080/",
          "height": 134
        },
        "outputId": "4c45b4cd-e2a6-4d50-9125-e837151706c6"
      },
      "source": [
        "from sklearn.neural_network import MLPClassifier\n",
        "mlp = MLPClassifier(hidden_layer_sizes= 40)\n",
        "mlp.fit(X_train, y_train)"
      ],
      "execution_count": 95,
      "outputs": [
        {
          "output_type": "execute_result",
          "data": {
            "text/plain": [
              "MLPClassifier(activation='relu', alpha=0.0001, batch_size='auto', beta_1=0.9,\n",
              "              beta_2=0.999, early_stopping=False, epsilon=1e-08,\n",
              "              hidden_layer_sizes=40, learning_rate='constant',\n",
              "              learning_rate_init=0.001, max_iter=200, momentum=0.9,\n",
              "              n_iter_no_change=10, nesterovs_momentum=True, power_t=0.5,\n",
              "              random_state=None, shuffle=True, solver='adam', tol=0.0001,\n",
              "              validation_fraction=0.1, verbose=False, warm_start=False)"
            ]
          },
          "metadata": {
            "tags": []
          },
          "execution_count": 95
        }
      ]
    },
    {
      "cell_type": "code",
      "metadata": {
        "id": "PCvfk-tkMw42",
        "colab_type": "code",
        "colab": {
          "base_uri": "https://localhost:8080/",
          "height": 34
        },
        "outputId": "3648f06e-32fe-40b0-af96-8a5c5eac8acd"
      },
      "source": [
        "from sklearn.metrics import accuracy_score\n",
        "\n",
        "preds1 = mlp.predict(X_test)\n",
        "#print(preds1)\n",
        "\n",
        "#preds = clf.predict(X_test)\n",
        "print(\"Accuracy:\", accuracy_score(y_test,preds1))"
      ],
      "execution_count": 96,
      "outputs": [
        {
          "output_type": "stream",
          "text": [
            "Accuracy: 0.8958333333333334\n"
          ],
          "name": "stdout"
        }
      ]
    },
    {
      "cell_type": "code",
      "metadata": {
        "id": "r15yM6uiMw2r",
        "colab_type": "code",
        "colab": {
          "base_uri": "https://localhost:8080/",
          "height": 87
        },
        "outputId": "fc879747-1d98-4b95-82b2-7da19d29d220"
      },
      "source": [
        "from sklearn.metrics import f1_score\n",
        "from sklearn.metrics import cohen_kappa_score\n",
        "from sklearn.metrics import roc_auc_score\n",
        "print(f1_score(y_test, preds1, average=None))"
      ],
      "execution_count": 97,
      "outputs": [
        {
          "output_type": "stream",
          "text": [
            "[0.94505495 0.        ]\n"
          ],
          "name": "stdout"
        },
        {
          "output_type": "stream",
          "text": [
            "/usr/local/lib/python3.6/dist-packages/sklearn/metrics/classification.py:1437: UndefinedMetricWarning: F-score is ill-defined and being set to 0.0 in labels with no predicted samples.\n",
            "  'precision', 'predicted', average, warn_for)\n"
          ],
          "name": "stderr"
        }
      ]
    },
    {
      "cell_type": "code",
      "metadata": {
        "id": "GoE8U0jpMwz9",
        "colab_type": "code",
        "colab": {}
      },
      "source": [
        "for i in range(len(y_test)):\n",
        "    if(y_test[i]=='No'):\n",
        "        #print(y_test[i])\n",
        "        num = int(0)\n",
        "        #print(type(num))\n",
        "        y_test[i]= int(num)\n",
        "        #print(type(y_test[i]))\n",
        "        #print(y_test[i])\n",
        "    else:\n",
        "        num = int(1)\n",
        "        y_test[i]=int(num)\n",
        "        #print(type(y_test[i]))\n",
        "        \n",
        "    if(preds1[i]=='No'):\n",
        "        num = int(0)\n",
        "        preds1[i]=int(num)\n",
        "    else:\n",
        "        num = int(1)\n",
        "        preds1[i]=int(num)\n",
        "\n",
        "#print(y_test)\n",
        "#print(preds)"
      ],
      "execution_count": 0,
      "outputs": []
    },
    {
      "cell_type": "code",
      "metadata": {
        "id": "VIXrLjysMwxQ",
        "colab_type": "code",
        "colab": {}
      },
      "source": [
        "y_test = list(map(int, y_test)) \n",
        "preds1 = list(map(int, preds1)) "
      ],
      "execution_count": 0,
      "outputs": []
    },
    {
      "cell_type": "code",
      "metadata": {
        "id": "FuGstvdzMwvI",
        "colab_type": "code",
        "colab": {
          "base_uri": "https://localhost:8080/",
          "height": 34
        },
        "outputId": "8b6a6e06-4d5e-4de9-d376-bdbcbcf73a62"
      },
      "source": [
        "print(roc_auc_score(y_test, preds1))"
      ],
      "execution_count": 100,
      "outputs": [
        {
          "output_type": "stream",
          "text": [
            "0.5\n"
          ],
          "name": "stdout"
        }
      ]
    },
    {
      "cell_type": "code",
      "metadata": {
        "id": "SGFvQ923Mwro",
        "colab_type": "code",
        "colab": {}
      },
      "source": [
        "#############################   Neural Network Algorithm-With PCA 100% components  ##############################"
      ],
      "execution_count": 0,
      "outputs": []
    },
    {
      "cell_type": "code",
      "metadata": {
        "id": "Mgl1T4xkMwpZ",
        "colab_type": "code",
        "colab": {}
      },
      "source": [
        "from sklearn.model_selection import train_test_split\n",
        "# test_size: what proportion of original data is used for test set\n",
        "X_train, X_test, y_train, y_test = train_test_split( X, y, test_size=0.1, random_state=0)"
      ],
      "execution_count": 0,
      "outputs": []
    },
    {
      "cell_type": "code",
      "metadata": {
        "id": "ItaeR_7-MwnN",
        "colab_type": "code",
        "colab": {}
      },
      "source": [
        "from sklearn.preprocessing import StandardScaler\n",
        "scaler = StandardScaler()\n",
        "# Fit on training set only.\n",
        "scaler.fit(X_train)\n",
        "# Apply transform to both the training set and the test set.\n",
        "X_train = scaler.transform(X_train)\n",
        "X_test = scaler.transform(X_test)\n"
      ],
      "execution_count": 0,
      "outputs": []
    },
    {
      "cell_type": "code",
      "metadata": {
        "id": "H0oEGfX9Mwk6",
        "colab_type": "code",
        "colab": {}
      },
      "source": [
        "from sklearn.decomposition import PCA\n",
        "# Make an instance of the Model\n",
        "pca = PCA(.100)\n",
        "pca.fit(X_train)\n",
        "\n",
        "X_train = pca.transform(X_train) \n",
        "X_test = pca.transform(X_test) "
      ],
      "execution_count": 0,
      "outputs": []
    },
    {
      "cell_type": "code",
      "metadata": {
        "id": "jQ88w-vcMwis",
        "colab_type": "code",
        "colab": {
          "base_uri": "https://localhost:8080/",
          "height": 134
        },
        "outputId": "8519c5f0-ebc4-480d-a50d-093422c48612"
      },
      "source": [
        "from sklearn.neural_network import MLPClassifier\n",
        "mlp = MLPClassifier(hidden_layer_sizes= 40)\n",
        "mlp.fit(X_train, y_train)"
      ],
      "execution_count": 105,
      "outputs": [
        {
          "output_type": "execute_result",
          "data": {
            "text/plain": [
              "MLPClassifier(activation='relu', alpha=0.0001, batch_size='auto', beta_1=0.9,\n",
              "              beta_2=0.999, early_stopping=False, epsilon=1e-08,\n",
              "              hidden_layer_sizes=40, learning_rate='constant',\n",
              "              learning_rate_init=0.001, max_iter=200, momentum=0.9,\n",
              "              n_iter_no_change=10, nesterovs_momentum=True, power_t=0.5,\n",
              "              random_state=None, shuffle=True, solver='adam', tol=0.0001,\n",
              "              validation_fraction=0.1, verbose=False, warm_start=False)"
            ]
          },
          "metadata": {
            "tags": []
          },
          "execution_count": 105
        }
      ]
    },
    {
      "cell_type": "code",
      "metadata": {
        "id": "j5L81s8CMwfa",
        "colab_type": "code",
        "colab": {
          "base_uri": "https://localhost:8080/",
          "height": 34
        },
        "outputId": "bbe8cf60-4b23-4862-d73e-bca3aa9f6c6b"
      },
      "source": [
        "from sklearn.metrics import accuracy_score\n",
        "\n",
        "preds1 = mlp.predict(X_test)\n",
        "#print(preds1)\n",
        "\n",
        "#preds = clf.predict(X_test)\n",
        "print(\"Accuracy:\", accuracy_score(y_test,preds1))"
      ],
      "execution_count": 106,
      "outputs": [
        {
          "output_type": "stream",
          "text": [
            "Accuracy: 0.875\n"
          ],
          "name": "stdout"
        }
      ]
    },
    {
      "cell_type": "code",
      "metadata": {
        "id": "2TfXJ8xHNfFt",
        "colab_type": "code",
        "colab": {
          "base_uri": "https://localhost:8080/",
          "height": 34
        },
        "outputId": "48ab59bf-3e77-403c-d537-2088be1c7edb"
      },
      "source": [
        "from sklearn.metrics import f1_score\n",
        "from sklearn.metrics import cohen_kappa_score\n",
        "from sklearn.metrics import roc_auc_score\n",
        "print(f1_score(y_test, preds1, average=None))"
      ],
      "execution_count": 107,
      "outputs": [
        {
          "output_type": "stream",
          "text": [
            "[0.93333333 0.        ]\n"
          ],
          "name": "stdout"
        }
      ]
    },
    {
      "cell_type": "code",
      "metadata": {
        "id": "DchFsCzkNfEA",
        "colab_type": "code",
        "colab": {}
      },
      "source": [
        "for i in range(len(y_test)):\n",
        "    if(y_test[i]=='No'):\n",
        "        #print(y_test[i])\n",
        "        num = int(0)\n",
        "        #print(type(num))\n",
        "        y_test[i]= int(num)\n",
        "        #print(type(y_test[i]))\n",
        "        #print(y_test[i])\n",
        "    else:\n",
        "        num = int(1)\n",
        "        y_test[i]=int(num)\n",
        "        #print(type(y_test[i]))\n",
        "        \n",
        "    if(preds1[i]=='No'):\n",
        "        num = int(0)\n",
        "        preds1[i]=int(num)\n",
        "    else:\n",
        "        num = int(1)\n",
        "        preds1[i]=int(num)\n",
        "\n",
        "#print(y_test)\n",
        "#print(preds)"
      ],
      "execution_count": 0,
      "outputs": []
    },
    {
      "cell_type": "code",
      "metadata": {
        "id": "pG_KmZ9RNfCG",
        "colab_type": "code",
        "colab": {}
      },
      "source": [
        "y_test = list(map(int, y_test)) \n",
        "preds1 = list(map(int, preds1)) "
      ],
      "execution_count": 0,
      "outputs": []
    },
    {
      "cell_type": "code",
      "metadata": {
        "id": "Pchqd9Q7Ne_h",
        "colab_type": "code",
        "colab": {
          "base_uri": "https://localhost:8080/",
          "height": 34
        },
        "outputId": "a1e47d47-49ff-4c10-a647-f8364b659859"
      },
      "source": [
        "print(roc_auc_score(y_test, preds1))"
      ],
      "execution_count": 110,
      "outputs": [
        {
          "output_type": "stream",
          "text": [
            "0.4883720930232558\n"
          ],
          "name": "stdout"
        }
      ]
    }
  ]
}