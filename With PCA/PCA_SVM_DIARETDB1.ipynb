{
 "cells": [
  {
   "cell_type": "code",
   "execution_count": 0,
   "metadata": {
    "colab": {
     "base_uri": "https://localhost:8080/",
     "height": 34
    },
    "colab_type": "code",
    "id": "E3nUI56FhZ7S",
    "outputId": "803d1c27-095f-4fc7-a08e-7b1e8afae817"
   },
   "outputs": [
    {
     "name": "stdout",
     "output_type": "stream",
     "text": [
      "Mounted at /content/gdrive\n"
     ]
    }
   ],
   "source": [
    "from google.colab import drive\n",
    "drive.mount('/content/gdrive')\n",
    "rootpath = 'gdrive/My Drive/Patches_DIARETDB1/'"
   ]
  },
  {
   "cell_type": "code",
   "execution_count": 0,
   "metadata": {
    "colab": {},
    "colab_type": "code",
    "id": "JE-NWLfjhf9v"
   },
   "outputs": [],
   "source": [
    "import matplotlib.pyplot as plt\n",
    "import cv2\n",
    "import glob\n",
    "import numpy as np"
   ]
  },
  {
   "cell_type": "code",
   "execution_count": 0,
   "metadata": {
    "colab": {
     "base_uri": "https://localhost:8080/",
     "height": 50
    },
    "colab_type": "code",
    "id": "SxcPV9NIhmpu",
    "outputId": "467b08c3-1ba1-49fe-db16-b35bae237d36"
   },
   "outputs": [
    {
     "name": "stdout",
     "output_type": "stream",
     "text": [
      "X_data shape: (1335, 300, 300)\n",
      "1335\n"
     ]
    }
   ],
   "source": [
    "#Create numpy array of images\n",
    "X = []\n",
    "files = glob.glob (rootpath+\"*.png\")\n",
    "#print(files)\n",
    "files.sort()\n",
    "# files = sorted(files)\n",
    "for myFile in files:\n",
    "    #print(myFile)\n",
    "    image = cv2.imread (myFile,0)\n",
    "    X.append (image)\n",
    "\n",
    "X = np.array(X)\n",
    "print('X_data shape:', X.shape)\n",
    "print(len(X))"
   ]
  },
  {
   "cell_type": "code",
   "execution_count": 0,
   "metadata": {
    "colab": {},
    "colab_type": "code",
    "id": "d2oU13qwhf8F"
   },
   "outputs": [],
   "source": [
    "y = ['No','No','Yes','No','Yes','No','No','Yes','Yes','No','No','No','No','Yes','No',\n",
    "     'No','No','Yes','No','Yes','Yes','No','Yes','Yes','No','No','Yes','Yes','Yes','Yes',\n",
    "     'No','Yes','Yes','No','Yes','No','No','Yes','Yes','No','No','Yes','Yes','Yes','Yes',\n",
    "     'No','Yes','Yes','Yes','Yes','No','No','Yes','Yes','No','Yes','Yes','No','Yes','No',\n",
    "     'Yes','No','Yes','No','Yes','Yes','No','Yes','Yes','Yes','Yes','Yes','Yes','Yes','Yes',\n",
    "     'Yes','No','No','No','Yes','No','No','Yes','Yes','No','No','No','No','Yes','No',\n",
    "     'Yes','Yes','Yes','No','Yes','No','No','No','Yes','No','Yes','Yes','Yes','Yes','No',\n",
    "     'Yes','No','Yes','Yes','Yes','Yes','No','Yes','Yes','No','Yes','Yes','Yes','Yes','Yes',\n",
    "     'No','No','Yes','No','Yes','Yes','No','No','Yes','No','No','No','No','Yes','Yes',\n",
    "     'No','No','Yes','No','Yes','Yes','No','No','Yes','No','Yes','Yes','Yes','Yes','Yes',\n",
    "     'No','No','Yes','No','Yes','Yes','No','Yes','Yes','No','Yes','Yes','Yes','Yes','Yes',\n",
    "     'No','No','No','No','Yes','No','No','Yes','Yes','No','No','No','No','Yes','No',\n",
    "     'No','No','No','No','Yes','No','No','Yes','Yes','No','Yes','No','Yes','Yes','Yes',\n",
    "     'Yes','No','No','No','No','Yes','No','No','No','No','Yes','Yes','Yes','Yes','No',\n",
    "     'Yes','No','Yes','Yes','Yes','Yes','Yes','Yes','Yes','No','Yes','Yes','Yes','Yes','Yes',\n",
    "     'Yes','Yes','Yes','No','Yes','Yes','No','No','No','No','Yes','Yes','Yes','No','Yes',\n",
    "     'Yes','No','No','No','Yes','No','No','Yes','Yes','No','No','No','No','Yes','No',\n",
    "     'No','No','No','No','Yes','No','No','Yes','Yes','No','No','Yes','No','Yes','Yes',\n",
    "     'No','Yes','Yes','Yes','No','Yes','Yes','Yes','Yes','No','No','Yes','Yes','Yes','Yes',\n",
    "     'No','Yes','Yes','Yes','Yes','Yes','No','Yes','Yes','No','Yes','Yes','Yes','Yes','Yes',\n",
    "     'No','Yes','Yes','Yes','Yes','Yes','No','Yes','Yes','Yes','Yes','Yes','Yes','Yes','Yes',\n",
    "     'Yes','No','Yes','Yes','No','Yes','No','Yes','Yes','No','No','No','No','Yes','Yes',\n",
    "     'No','No','No','No','No','Yes','No','No','No','No','Yes','Yes','No','No','Yes',\n",
    "     'No','No','No','No','No','Yes','No','No','No','No','Yes','Yes','Yes','No','Yes',\n",
    "     'No','No','Yes','No','Yes','Yes','No','No','No','No','Yes','Yes','Yes','No','Yes',\n",
    "     'No','Yes','Yes','No','No','No','No','No','Yes','Yes','Yes','Yes','Yes','Yes','Yes',\n",
    "     'Yes','Yes','Yes','Yes','No','Yes','No','Yes','Yes','Yes','Yes','No','Yes','Yes','No',\n",
    "     'No','No','No','Yes','Yes','No','Yes','No','Yes','No','No','No','No','Yes','No',\n",
    "     'No','Yes','No','No','Yes','No','Yes','No','No','Yes','Yes','Yes','Yes','Yes','No',\n",
    "     'No','No','No','No','Yes','No','No','Yes','Yes','No','No','No','No','Yes','No', #30\n",
    "     'No','No','No','No','Yes','No','No','No','Yes','No','No','No','No','Yes','No',\n",
    "     'No','No','No','No','Yes','No','No','No','No','No','No','No','No','Yes','No',\n",
    "     'No','No','No','No','Yes','No','No','No','Yes','No','No','No','No','Yes','No',\n",
    "     'No','No','No','No','Yes','No','No','No','Yes','No','No','No','No','Yes','No',\n",
    "     'No','No','No','No','Yes','No','Yes','No','Yes','No','No','No','No','Yes','No',\n",
    "     'No','No','No','No','Yes','No','Yes','No','Yes','No','No','No','No','Yes','No',\n",
    "     'No','No','No','No','Yes','No','No','No','Yes','No','No','No','No','Yes','No', \n",
    "     'No','No','No','No','Yes','No','No','No','Yes','No','No','No','No','Yes','No',\n",
    "     'No','No','No','No','Yes','No','No','No','Yes','No','No','No','No','Yes','No',\n",
    "     'No','No','No','No','Yes','No','No','No','Yes','No','No','No','No','Yes','No',\n",
    "     'No','No','No','No','Yes','No','No','No','Yes','No','No','No','No','Yes','No',\n",
    "     'No','No','No','No','Yes','No','No','No','Yes','No','No','No','No','Yes','No',\n",
    "     'No','No','No','No','Yes','No','Yes','No','Yes','No','No','Yes','No','Yes','No',\n",
    "     'No','No','No','No','Yes','No','Yes','No','Yes','No','Yes','Yes','No','Yes','No',\n",
    "     'No','No','No','No','Yes','No','No','No','Yes','No','No','No','No','Yes','No',\n",
    "     'No','No','No','No','Yes','No','No','No','Yes','No','No','No','No','Yes','No',\n",
    "     'No','No','No','No','Yes','No','No','No','Yes','No','No','No','No','Yes','No',\n",
    "     'No','No','No','No','Yes','No','No','No','Yes','No','No','No','No','Yes','No',\n",
    "     'No','No','No','No','Yes','No','No','Yes','Yes','No','No','No','No','Yes','No',\n",
    "     'No','No','No','No','Yes','No','No','No','Yes','No','No','No','No','Yes','Yes', #50\n",
    "     'No','No','No','No','Yes','No','No','Yes','Yes','No','No','No','No','Yes','Yes',\n",
    "     'No','No','Yes','Yes','Yes','No','No','No','Yes','No','Yes','No','Yes','Yes','No',\n",
    "     'No','No','Yes','Yes','Yes','Yes','Yes','No','Yes','No','No','Yes','No','Yes','Yes',\n",
    "     'No','No','No','No','Yes','No','No','No','Yes','No','Yes','Yes','No','Yes','No',\n",
    "     'No','No','Yes','No','Yes','No','No','Yes','Yes','No','No','No','No','Yes','Yes',\n",
    "     'No','No','No','No','Yes','No','No','No','Yes','No','No','No','No','Yes','Yes',\n",
    "     'No','No','No','No','Yes','No','No','No','Yes','No','No','No','No','Yes','No',\n",
    "     'No','No','No','No','Yes','No','No','No','Yes','No','No','No','No','Yes','No',\n",
    "     'No','Yes','No','No','Yes','No','No','Yes','Yes','No','No','No','No','Yes','No',\n",
    "     'No','No','No','No','Yes','No','No','Yes','Yes','No','No','No','No','Yes','No', #60\n",
    "     'No','No','No','No','Yes','No','No','No','Yes','No','No','No','No','Yes','No',\n",
    "     'No','No','No','No','Yes','No','No','Yes','Yes','No','No','No','No','Yes','No',\n",
    "     'No','No','No','No','Yes','No','No','No','Yes','No','No','No','No','Yes','No',\n",
    "     'No','No','Yes','No','Yes','No','Yes','Yes','Yes','No','Yes','No','No','Yes','No',\n",
    "     'No','No','No','No','Yes','No','Yes','No','No','No','Yes','Yes','No','Yes','Yes',\n",
    "     'No','No','No','No','Yes','No','No','No','Yes','No','No','No','No','Yes','No',\n",
    "     'No','No','No','Yes','Yes','Yes','No','No','Yes','No','No','No','No','Yes','Yes',\n",
    "     'No','No','No','No','Yes','No','No','No','Yes','No','No','No','No','Yes','No',\n",
    "     'No','Yes','No','No','Yes','No','No','No','Yes','No','No','No','No','Yes','No',\n",
    "     'No','No','No','No','Yes','No','No','No','Yes','No','No','No','No','Yes','No', #70\n",
    "     'No','No','No','No','Yes','No','No','No','Yes','No','No','No','No','Yes','No',\n",
    "     'No','No','No','No','Yes','No','Yes','No','Yes','No','No','No','No','Yes','No',\n",
    "     'No','No','No','No','Yes','No','Yes','No','Yes','No','No','No','No','Yes','No',\n",
    "     'No','No','No','No','Yes','No','No','No','Yes','No','No','No','No','Yes','No',\n",
    "     'No','No','No','No','Yes','No','No','Yes','Yes','No','No','No','No','Yes','No',\n",
    "     'No','No','No','No','Yes','No','No','No','Yes','No','No','No','No','Yes','No',\n",
    "     'No','No','No','No','Yes','No','No','No','Yes','No','No','No','No','Yes','No',\n",
    "     'No','No','No','No','Yes','No','No','No','Yes','No','No','No','No','Yes','No',\n",
    "     'No','No','No','No','Yes','No','No','Yes','Yes','No','No','No','No','Yes','No', #79\n",
    "     'Yes','Yes','No','No','Yes','No','No','No','Yes','No','No','No','No','Yes','No',\n",
    "     'No','Yes','No','No','Yes','No','No','No','Yes','No','No','No','Yes','Yes','No',\n",
    "     'No','No','No','No','Yes','No','No','No','Yes','No','No','No','No','Yes','No',\n",
    "     'No','No','No','No','Yes','No','No','No','Yes','No','No','Yes','No','Yes','No',\n",
    "     'No','No','No','No','No','Yes','No','No','No','No','Yes','Yes','No','No','Yes',\n",
    "     'No','No','No','No','No','Yes','No','No','No','No','No','Yes','No','No','Yes',\n",
    "     'No','No','No','No','Yes','No','No','No','Yes','No','No','No','No','Yes','No',\n",
    "     'No','No','No','No','Yes','No','No','No','Yes','No','No','No','No','Yes','No',\n",
    "     'No','No','No','No','Yes','No','No','No','Yes','No','No','No','No','Yes','No',\n",
    "     'No','No','No','No','Yes','No','No','No','Yes','No','No','Yes','No','Yes','No' #89\n",
    "     ]"
   ]
  },
  {
   "cell_type": "code",
   "execution_count": 0,
   "metadata": {
    "colab": {
     "base_uri": "https://localhost:8080/",
     "height": 34
    },
    "colab_type": "code",
    "id": "EEn91VR2hf4n",
    "outputId": "08ff5379-fe13-4bf1-860b-bccf982f823f"
   },
   "outputs": [
    {
     "name": "stdout",
     "output_type": "stream",
     "text": [
      "(1335,)\n"
     ]
    }
   ],
   "source": [
    "y = np.asarray(y) \n",
    "print(y.shape)"
   ]
  },
  {
   "cell_type": "code",
   "execution_count": 0,
   "metadata": {
    "colab": {},
    "colab_type": "code",
    "id": "ImF7H1xehf3G"
   },
   "outputs": [],
   "source": [
    "from sklearn.utils import shuffle\n",
    "# X = X.reshape(X.shape[0],X.shape[1]*X.shape[2]).T\n",
    "# y = y.reshape(y.shape[0],)\n",
    "X = np.reshape(X, [X.shape[0], X.shape[1]*X.shape[2]])\n",
    "\n",
    "X, y = shuffle(X, y, random_state=42)"
   ]
  },
  {
   "cell_type": "code",
   "execution_count": 0,
   "metadata": {
    "colab": {},
    "colab_type": "code",
    "id": "dK6m_KdKhfzh"
   },
   "outputs": [],
   "source": [
    "#############################   Support Vector Machine Algorithm-With PCA 10% components  ##############################"
   ]
  },
  {
   "cell_type": "code",
   "execution_count": 0,
   "metadata": {
    "colab": {},
    "colab_type": "code",
    "id": "dSYdzwzvhfyD"
   },
   "outputs": [],
   "source": [
    "from sklearn.model_selection import train_test_split\n",
    "# test_size: what proportion of original data is used for test set\n",
    "X_train, X_test, y_train, y_test = train_test_split( X, y, test_size=0.1, random_state=0)"
   ]
  },
  {
   "cell_type": "code",
   "execution_count": 0,
   "metadata": {
    "colab": {},
    "colab_type": "code",
    "id": "7VYbkifWhfut"
   },
   "outputs": [],
   "source": [
    "from sklearn.preprocessing import StandardScaler\n",
    "scaler = StandardScaler()\n",
    "# Fit on training set only.\n",
    "scaler.fit(X_train)\n",
    "# Apply transform to both the training set and the test set.\n",
    "X_train = scaler.transform(X_train)\n",
    "X_test = scaler.transform(X_test)\n"
   ]
  },
  {
   "cell_type": "code",
   "execution_count": 0,
   "metadata": {
    "colab": {},
    "colab_type": "code",
    "id": "MARHi1XGhftj"
   },
   "outputs": [],
   "source": [
    "from sklearn.decomposition import PCA\n",
    "# Make an instance of the Model\n",
    "pca = PCA(.10)\n",
    "pca.fit(X_train)\n",
    "\n",
    "X_train = pca.transform(X_train) \n",
    "X_test = pca.transform(X_test) "
   ]
  },
  {
   "cell_type": "code",
   "execution_count": 0,
   "metadata": {
    "colab": {},
    "colab_type": "code",
    "id": "ULg3z_B6hfqG"
   },
   "outputs": [],
   "source": [
    "from sklearn import svm\n",
    "svl = svm.SVC()"
   ]
  },
  {
   "cell_type": "code",
   "execution_count": 0,
   "metadata": {
    "colab": {
     "base_uri": "https://localhost:8080/",
     "height": 138
    },
    "colab_type": "code",
    "id": "XB7gb5cZhfo7",
    "outputId": "35d9c92c-90c1-4503-9c9f-2ac68105d2c9"
   },
   "outputs": [
    {
     "name": "stderr",
     "output_type": "stream",
     "text": [
      "/usr/local/lib/python3.6/dist-packages/sklearn/svm/base.py:193: FutureWarning: The default value of gamma will change from 'auto' to 'scale' in version 0.22 to account better for unscaled features. Set gamma explicitly to 'auto' or 'scale' to avoid this warning.\n",
      "  \"avoid this warning.\", FutureWarning)\n"
     ]
    },
    {
     "data": {
      "text/plain": [
       "SVC(C=1.0, cache_size=200, class_weight=None, coef0=0.0,\n",
       "    decision_function_shape='ovr', degree=3, gamma='auto_deprecated',\n",
       "    kernel='rbf', max_iter=-1, probability=False, random_state=None,\n",
       "    shrinking=True, tol=0.001, verbose=False)"
      ]
     },
     "execution_count": 27,
     "metadata": {
      "tags": []
     },
     "output_type": "execute_result"
    }
   ],
   "source": [
    "svl.fit(X_train,y_train)"
   ]
  },
  {
   "cell_type": "code",
   "execution_count": 0,
   "metadata": {
    "colab": {
     "base_uri": "https://localhost:8080/",
     "height": 34
    },
    "colab_type": "code",
    "id": "yvFK4WWGhflb",
    "outputId": "bc90463e-a5b5-480f-ba0e-a432219ed6ad"
   },
   "outputs": [
    {
     "name": "stdout",
     "output_type": "stream",
     "text": [
      "Accuracy: 0.6268656716417911\n"
     ]
    }
   ],
   "source": [
    "from sklearn.metrics import accuracy_score\n",
    "\n",
    "preds2 = svl.predict(X_test)\n",
    "#print(preds2)\n",
    "\n",
    "print(\"Accuracy:\", accuracy_score(y_test,preds2))"
   ]
  },
  {
   "cell_type": "code",
   "execution_count": 0,
   "metadata": {
    "colab": {
     "base_uri": "https://localhost:8080/",
     "height": 34
    },
    "colab_type": "code",
    "id": "HxAYuJNhhfjn",
    "outputId": "1f729c49-fa90-4201-8802-490399f51a75"
   },
   "outputs": [
    {
     "name": "stdout",
     "output_type": "stream",
     "text": [
      "[0.74226804 0.32432432]\n"
     ]
    }
   ],
   "source": [
    "from sklearn.metrics import f1_score\n",
    "from sklearn.metrics import cohen_kappa_score\n",
    "from sklearn.metrics import roc_auc_score\n",
    "print(f1_score(y_test, preds2, average=None))"
   ]
  },
  {
   "cell_type": "code",
   "execution_count": 0,
   "metadata": {
    "colab": {},
    "colab_type": "code",
    "id": "mgcKjGE7hfhI"
   },
   "outputs": [],
   "source": [
    "for i in range(len(y_test)):\n",
    "    if(y_test[i]=='No'):\n",
    "        #print(y_test[i])\n",
    "        num = int(0)\n",
    "        #print(type(num))\n",
    "        y_test[i]= int(num)\n",
    "        #print(type(y_test[i]))\n",
    "        #print(y_test[i])\n",
    "    else:\n",
    "        num = int(1)\n",
    "        y_test[i]=int(num)\n",
    "        #print(type(y_test[i]))\n",
    "        \n",
    "    if(preds2[i]=='No'):\n",
    "        num = int(0)\n",
    "        preds2[i]=int(num)\n",
    "    else:\n",
    "        num = int(1)\n",
    "        preds2[i]=int(num)\n",
    "\n",
    "#print(y_test)\n",
    "#print(preds)"
   ]
  },
  {
   "cell_type": "code",
   "execution_count": 0,
   "metadata": {
    "colab": {},
    "colab_type": "code",
    "id": "JO2mVFyJhffF"
   },
   "outputs": [],
   "source": [
    "y_test = list(map(int, y_test)) \n",
    "preds2 = list(map(int, preds2)) "
   ]
  },
  {
   "cell_type": "code",
   "execution_count": 0,
   "metadata": {
    "colab": {
     "base_uri": "https://localhost:8080/",
     "height": 34
    },
    "colab_type": "code",
    "id": "9oCMOqx8ijmN",
    "outputId": "b3ab3c41-881a-4e9c-ec3a-0285fd455877"
   },
   "outputs": [
    {
     "name": "stdout",
     "output_type": "stream",
     "text": [
      "0.5436046511627907\n"
     ]
    }
   ],
   "source": [
    "print(roc_auc_score(y_test, preds2))"
   ]
  },
  {
   "cell_type": "code",
   "execution_count": 0,
   "metadata": {
    "colab": {},
    "colab_type": "code",
    "id": "BkwQHolVijjT"
   },
   "outputs": [],
   "source": [
    "#############################   Support Vector Machine Algorithm-With PCA 20% components  ##############################"
   ]
  },
  {
   "cell_type": "code",
   "execution_count": 0,
   "metadata": {
    "colab": {},
    "colab_type": "code",
    "id": "v4-ZBRlCijgB"
   },
   "outputs": [],
   "source": [
    "from sklearn.model_selection import train_test_split\n",
    "# test_size: what proportion of original data is used for test set\n",
    "X_train, X_test, y_train, y_test = train_test_split( X, y, test_size=0.1, random_state=0)"
   ]
  },
  {
   "cell_type": "code",
   "execution_count": 0,
   "metadata": {
    "colab": {},
    "colab_type": "code",
    "id": "WU8-okgUijed"
   },
   "outputs": [],
   "source": [
    "from sklearn.preprocessing import StandardScaler\n",
    "scaler = StandardScaler()\n",
    "# Fit on training set only.\n",
    "scaler.fit(X_train)\n",
    "# Apply transform to both the training set and the test set.\n",
    "X_train = scaler.transform(X_train)\n",
    "X_test = scaler.transform(X_test)\n"
   ]
  },
  {
   "cell_type": "code",
   "execution_count": 0,
   "metadata": {
    "colab": {},
    "colab_type": "code",
    "id": "AkmEN4P8ijbV"
   },
   "outputs": [],
   "source": [
    "from sklearn.decomposition import PCA\n",
    "# Make an instance of the Model\n",
    "pca = PCA(.20)\n",
    "pca.fit(X_train)\n",
    "\n",
    "X_train = pca.transform(X_train) \n",
    "X_test = pca.transform(X_test) "
   ]
  },
  {
   "cell_type": "code",
   "execution_count": 0,
   "metadata": {
    "colab": {},
    "colab_type": "code",
    "id": "02McC7N0ijZw"
   },
   "outputs": [],
   "source": [
    "from sklearn import svm\n",
    "svl = svm.SVC()"
   ]
  },
  {
   "cell_type": "code",
   "execution_count": 0,
   "metadata": {
    "colab": {
     "base_uri": "https://localhost:8080/",
     "height": 138
    },
    "colab_type": "code",
    "id": "MVRldLNHijW4",
    "outputId": "a0b66955-821f-4116-e70d-037874a18c2d"
   },
   "outputs": [
    {
     "name": "stderr",
     "output_type": "stream",
     "text": [
      "/usr/local/lib/python3.6/dist-packages/sklearn/svm/base.py:193: FutureWarning: The default value of gamma will change from 'auto' to 'scale' in version 0.22 to account better for unscaled features. Set gamma explicitly to 'auto' or 'scale' to avoid this warning.\n",
      "  \"avoid this warning.\", FutureWarning)\n"
     ]
    },
    {
     "data": {
      "text/plain": [
       "SVC(C=1.0, cache_size=200, class_weight=None, coef0=0.0,\n",
       "    decision_function_shape='ovr', degree=3, gamma='auto_deprecated',\n",
       "    kernel='rbf', max_iter=-1, probability=False, random_state=None,\n",
       "    shrinking=True, tol=0.001, verbose=False)"
      ]
     },
     "execution_count": 38,
     "metadata": {
      "tags": []
     },
     "output_type": "execute_result"
    }
   ],
   "source": [
    "svl.fit(X_train,y_train)"
   ]
  },
  {
   "cell_type": "code",
   "execution_count": 0,
   "metadata": {
    "colab": {
     "base_uri": "https://localhost:8080/",
     "height": 34
    },
    "colab_type": "code",
    "id": "jdRxZ_nGijU9",
    "outputId": "70f6ce63-7283-4f14-a99e-9b1dd8e33feb"
   },
   "outputs": [
    {
     "name": "stdout",
     "output_type": "stream",
     "text": [
      "Accuracy: 0.6268656716417911\n"
     ]
    }
   ],
   "source": [
    "from sklearn.metrics import accuracy_score\n",
    "\n",
    "preds2 = svl.predict(X_test)\n",
    "#print(preds2)\n",
    "\n",
    "print(\"Accuracy:\", accuracy_score(y_test,preds2))"
   ]
  },
  {
   "cell_type": "code",
   "execution_count": 0,
   "metadata": {
    "colab": {
     "base_uri": "https://localhost:8080/",
     "height": 34
    },
    "colab_type": "code",
    "id": "6XogtTNJijSM",
    "outputId": "2c362b2b-e2f3-43cb-bd64-793fe029e5ce"
   },
   "outputs": [
    {
     "name": "stdout",
     "output_type": "stream",
     "text": [
      "[0.74226804 0.32432432]\n"
     ]
    }
   ],
   "source": [
    "from sklearn.metrics import f1_score\n",
    "from sklearn.metrics import cohen_kappa_score\n",
    "from sklearn.metrics import roc_auc_score\n",
    "print(f1_score(y_test, preds2, average=None))"
   ]
  },
  {
   "cell_type": "code",
   "execution_count": 0,
   "metadata": {
    "colab": {},
    "colab_type": "code",
    "id": "7Hqy0SeuijQi"
   },
   "outputs": [],
   "source": [
    "for i in range(len(y_test)):\n",
    "    if(y_test[i]=='No'):\n",
    "        #print(y_test[i])\n",
    "        num = int(0)\n",
    "        #print(type(num))\n",
    "        y_test[i]= int(num)\n",
    "        #print(type(y_test[i]))\n",
    "        #print(y_test[i])\n",
    "    else:\n",
    "        num = int(1)\n",
    "        y_test[i]=int(num)\n",
    "        #print(type(y_test[i]))\n",
    "        \n",
    "    if(preds2[i]=='No'):\n",
    "        num = int(0)\n",
    "        preds2[i]=int(num)\n",
    "    else:\n",
    "        num = int(1)\n",
    "        preds2[i]=int(num)\n",
    "\n",
    "#print(y_test)\n",
    "#print(preds)"
   ]
  },
  {
   "cell_type": "code",
   "execution_count": 0,
   "metadata": {
    "colab": {},
    "colab_type": "code",
    "id": "TxBPlPWGijMg"
   },
   "outputs": [],
   "source": [
    "y_test = list(map(int, y_test)) \n",
    "preds2 = list(map(int, preds2)) "
   ]
  },
  {
   "cell_type": "code",
   "execution_count": 0,
   "metadata": {
    "colab": {
     "base_uri": "https://localhost:8080/",
     "height": 34
    },
    "colab_type": "code",
    "id": "Egqb01PFijK6",
    "outputId": "bc0df4c0-f828-4659-8ca2-99021f4d3e55"
   },
   "outputs": [
    {
     "name": "stdout",
     "output_type": "stream",
     "text": [
      "0.5436046511627907\n"
     ]
    }
   ],
   "source": [
    "print(roc_auc_score(y_test, preds2))"
   ]
  },
  {
   "cell_type": "code",
   "execution_count": 0,
   "metadata": {
    "colab": {},
    "colab_type": "code",
    "id": "B9oB8HIuijHu"
   },
   "outputs": [],
   "source": [
    "#############################   Support Vector Machine Algorithm-With PCA 30% components  ##############################"
   ]
  },
  {
   "cell_type": "code",
   "execution_count": 0,
   "metadata": {
    "colab": {},
    "colab_type": "code",
    "id": "pvFFpuomijFt"
   },
   "outputs": [],
   "source": [
    "from sklearn.model_selection import train_test_split\n",
    "# test_size: what proportion of original data is used for test set\n",
    "X_train, X_test, y_train, y_test = train_test_split( X, y, test_size=0.1, random_state=0)"
   ]
  },
  {
   "cell_type": "code",
   "execution_count": 0,
   "metadata": {
    "colab": {},
    "colab_type": "code",
    "id": "Ojb_5qoVijCU"
   },
   "outputs": [],
   "source": [
    "from sklearn.preprocessing import StandardScaler\n",
    "scaler = StandardScaler()\n",
    "# Fit on training set only.\n",
    "scaler.fit(X_train)\n",
    "# Apply transform to both the training set and the test set.\n",
    "X_train = scaler.transform(X_train)\n",
    "X_test = scaler.transform(X_test)\n"
   ]
  },
  {
   "cell_type": "code",
   "execution_count": 0,
   "metadata": {
    "colab": {},
    "colab_type": "code",
    "id": "wq6O7y0vijAn"
   },
   "outputs": [],
   "source": [
    "from sklearn.decomposition import PCA\n",
    "# Make an instance of the Model\n",
    "pca = PCA(.30)\n",
    "pca.fit(X_train)\n",
    "\n",
    "X_train = pca.transform(X_train) \n",
    "X_test = pca.transform(X_test) "
   ]
  },
  {
   "cell_type": "code",
   "execution_count": 0,
   "metadata": {
    "colab": {},
    "colab_type": "code",
    "id": "yW_G7GpYii9d"
   },
   "outputs": [],
   "source": [
    "from sklearn import svm\n",
    "svl = svm.SVC()"
   ]
  },
  {
   "cell_type": "code",
   "execution_count": 0,
   "metadata": {
    "colab": {
     "base_uri": "https://localhost:8080/",
     "height": 138
    },
    "colab_type": "code",
    "id": "MuihfTMfjffv",
    "outputId": "1046c525-e977-4d11-edcc-d99beba65b4f"
   },
   "outputs": [
    {
     "name": "stderr",
     "output_type": "stream",
     "text": [
      "/usr/local/lib/python3.6/dist-packages/sklearn/svm/base.py:193: FutureWarning: The default value of gamma will change from 'auto' to 'scale' in version 0.22 to account better for unscaled features. Set gamma explicitly to 'auto' or 'scale' to avoid this warning.\n",
      "  \"avoid this warning.\", FutureWarning)\n"
     ]
    },
    {
     "data": {
      "text/plain": [
       "SVC(C=1.0, cache_size=200, class_weight=None, coef0=0.0,\n",
       "    decision_function_shape='ovr', degree=3, gamma='auto_deprecated',\n",
       "    kernel='rbf', max_iter=-1, probability=False, random_state=None,\n",
       "    shrinking=True, tol=0.001, verbose=False)"
      ]
     },
     "execution_count": 49,
     "metadata": {
      "tags": []
     },
     "output_type": "execute_result"
    }
   ],
   "source": [
    "svl.fit(X_train,y_train)"
   ]
  },
  {
   "cell_type": "code",
   "execution_count": 0,
   "metadata": {
    "colab": {
     "base_uri": "https://localhost:8080/",
     "height": 34
    },
    "colab_type": "code",
    "id": "E2H0otq5jfc0",
    "outputId": "81dfa37e-b46e-4251-9f7c-359396692e57"
   },
   "outputs": [
    {
     "name": "stdout",
     "output_type": "stream",
     "text": [
      "Accuracy: 0.6268656716417911\n"
     ]
    }
   ],
   "source": [
    "from sklearn.metrics import accuracy_score\n",
    "\n",
    "preds2 = svl.predict(X_test)\n",
    "#print(preds2)\n",
    "\n",
    "print(\"Accuracy:\", accuracy_score(y_test,preds2))"
   ]
  },
  {
   "cell_type": "code",
   "execution_count": 0,
   "metadata": {
    "colab": {
     "base_uri": "https://localhost:8080/",
     "height": 34
    },
    "colab_type": "code",
    "id": "oEgA6mSMjfal",
    "outputId": "ef35f52c-fc45-43c8-e06f-df310153ce10"
   },
   "outputs": [
    {
     "name": "stdout",
     "output_type": "stream",
     "text": [
      "[0.74226804 0.32432432]\n"
     ]
    }
   ],
   "source": [
    "from sklearn.metrics import f1_score\n",
    "from sklearn.metrics import cohen_kappa_score\n",
    "from sklearn.metrics import roc_auc_score\n",
    "print(f1_score(y_test, preds2, average=None))"
   ]
  },
  {
   "cell_type": "code",
   "execution_count": 0,
   "metadata": {
    "colab": {},
    "colab_type": "code",
    "id": "8KPxDE-ujfWa"
   },
   "outputs": [],
   "source": [
    "for i in range(len(y_test)):\n",
    "    if(y_test[i]=='No'):\n",
    "        #print(y_test[i])\n",
    "        num = int(0)\n",
    "        #print(type(num))\n",
    "        y_test[i]= int(num)\n",
    "        #print(type(y_test[i]))\n",
    "        #print(y_test[i])\n",
    "    else:\n",
    "        num = int(1)\n",
    "        y_test[i]=int(num)\n",
    "        #print(type(y_test[i]))\n",
    "        \n",
    "    if(preds2[i]=='No'):\n",
    "        num = int(0)\n",
    "        preds2[i]=int(num)\n",
    "    else:\n",
    "        num = int(1)\n",
    "        preds2[i]=int(num)\n",
    "\n",
    "#print(y_test)\n",
    "#print(preds)"
   ]
  },
  {
   "cell_type": "code",
   "execution_count": 0,
   "metadata": {
    "colab": {},
    "colab_type": "code",
    "id": "9vWQUTNGjfU0"
   },
   "outputs": [],
   "source": [
    "y_test = list(map(int, y_test)) \n",
    "preds2 = list(map(int, preds2)) "
   ]
  },
  {
   "cell_type": "code",
   "execution_count": 0,
   "metadata": {
    "colab": {
     "base_uri": "https://localhost:8080/",
     "height": 34
    },
    "colab_type": "code",
    "id": "Hu7jpNzPjfRR",
    "outputId": "2fc85759-43b5-48ee-b8c7-b7f3e4ca7307"
   },
   "outputs": [
    {
     "name": "stdout",
     "output_type": "stream",
     "text": [
      "0.5436046511627907\n"
     ]
    }
   ],
   "source": [
    "print(roc_auc_score(y_test, preds2))"
   ]
  },
  {
   "cell_type": "code",
   "execution_count": 0,
   "metadata": {
    "colab": {},
    "colab_type": "code",
    "id": "2ncuYu0Oj9_a"
   },
   "outputs": [],
   "source": [
    "#############################   Support Vector Machine Algorithm-With PCA 40% components  ##############################"
   ]
  },
  {
   "cell_type": "code",
   "execution_count": 0,
   "metadata": {
    "colab": {},
    "colab_type": "code",
    "id": "iMj84em3j98M"
   },
   "outputs": [],
   "source": [
    "from sklearn.model_selection import train_test_split\n",
    "# test_size: what proportion of original data is used for test set\n",
    "X_train, X_test, y_train, y_test = train_test_split( X, y, test_size=0.1, random_state=0)"
   ]
  },
  {
   "cell_type": "code",
   "execution_count": 0,
   "metadata": {
    "colab": {},
    "colab_type": "code",
    "id": "LrL7wUVej95L"
   },
   "outputs": [],
   "source": [
    "from sklearn.preprocessing import StandardScaler\n",
    "scaler = StandardScaler()\n",
    "# Fit on training set only.\n",
    "scaler.fit(X_train)\n",
    "# Apply transform to both the training set and the test set.\n",
    "X_train = scaler.transform(X_train)\n",
    "X_test = scaler.transform(X_test)\n"
   ]
  },
  {
   "cell_type": "code",
   "execution_count": 0,
   "metadata": {
    "colab": {},
    "colab_type": "code",
    "id": "qVJ6urXej93S"
   },
   "outputs": [],
   "source": [
    "from sklearn.decomposition import PCA\n",
    "# Make an instance of the Model\n",
    "pca = PCA(.40)\n",
    "pca.fit(X_train)\n",
    "\n",
    "X_train = pca.transform(X_train) \n",
    "X_test = pca.transform(X_test) "
   ]
  },
  {
   "cell_type": "code",
   "execution_count": 0,
   "metadata": {
    "colab": {},
    "colab_type": "code",
    "id": "Qt7V3O1ej90f"
   },
   "outputs": [],
   "source": [
    "from sklearn import svm\n",
    "svl = svm.SVC()"
   ]
  },
  {
   "cell_type": "code",
   "execution_count": 0,
   "metadata": {
    "colab": {
     "base_uri": "https://localhost:8080/",
     "height": 138
    },
    "colab_type": "code",
    "id": "yrLoyKNVj9yW",
    "outputId": "384b470c-fe75-4c7d-9bd5-583634e5488c"
   },
   "outputs": [
    {
     "name": "stderr",
     "output_type": "stream",
     "text": [
      "/usr/local/lib/python3.6/dist-packages/sklearn/svm/base.py:193: FutureWarning: The default value of gamma will change from 'auto' to 'scale' in version 0.22 to account better for unscaled features. Set gamma explicitly to 'auto' or 'scale' to avoid this warning.\n",
      "  \"avoid this warning.\", FutureWarning)\n"
     ]
    },
    {
     "data": {
      "text/plain": [
       "SVC(C=1.0, cache_size=200, class_weight=None, coef0=0.0,\n",
       "    decision_function_shape='ovr', degree=3, gamma='auto_deprecated',\n",
       "    kernel='rbf', max_iter=-1, probability=False, random_state=None,\n",
       "    shrinking=True, tol=0.001, verbose=False)"
      ]
     },
     "execution_count": 60,
     "metadata": {
      "tags": []
     },
     "output_type": "execute_result"
    }
   ],
   "source": [
    "svl.fit(X_train,y_train)"
   ]
  },
  {
   "cell_type": "code",
   "execution_count": 0,
   "metadata": {
    "colab": {
     "base_uri": "https://localhost:8080/",
     "height": 34
    },
    "colab_type": "code",
    "id": "oKJ-56qPj9vH",
    "outputId": "f03b384a-e8c1-4445-a160-e76e1fcdcf28"
   },
   "outputs": [
    {
     "name": "stdout",
     "output_type": "stream",
     "text": [
      "Accuracy: 0.6268656716417911\n"
     ]
    }
   ],
   "source": [
    "from sklearn.metrics import accuracy_score\n",
    "\n",
    "preds2 = svl.predict(X_test)\n",
    "#print(preds2)\n",
    "\n",
    "print(\"Accuracy:\", accuracy_score(y_test,preds2))"
   ]
  },
  {
   "cell_type": "code",
   "execution_count": 0,
   "metadata": {
    "colab": {
     "base_uri": "https://localhost:8080/",
     "height": 34
    },
    "colab_type": "code",
    "id": "fVVpwjRuj9sd",
    "outputId": "4487e27f-fefe-403e-86e1-63482152ad62"
   },
   "outputs": [
    {
     "name": "stdout",
     "output_type": "stream",
     "text": [
      "[0.74226804 0.32432432]\n"
     ]
    }
   ],
   "source": [
    "from sklearn.metrics import f1_score\n",
    "from sklearn.metrics import cohen_kappa_score\n",
    "from sklearn.metrics import roc_auc_score\n",
    "print(f1_score(y_test, preds2, average=None))"
   ]
  },
  {
   "cell_type": "code",
   "execution_count": 0,
   "metadata": {
    "colab": {},
    "colab_type": "code",
    "id": "9tedi3BEjfPk"
   },
   "outputs": [],
   "source": [
    "for i in range(len(y_test)):\n",
    "    if(y_test[i]=='No'):\n",
    "        #print(y_test[i])\n",
    "        num = int(0)\n",
    "        #print(type(num))\n",
    "        y_test[i]= int(num)\n",
    "        #print(type(y_test[i]))\n",
    "        #print(y_test[i])\n",
    "    else:\n",
    "        num = int(1)\n",
    "        y_test[i]=int(num)\n",
    "        #print(type(y_test[i]))\n",
    "        \n",
    "    if(preds2[i]=='No'):\n",
    "        num = int(0)\n",
    "        preds2[i]=int(num)\n",
    "    else:\n",
    "        num = int(1)\n",
    "        preds2[i]=int(num)\n",
    "\n",
    "#print(y_test)\n",
    "#print(preds)"
   ]
  },
  {
   "cell_type": "code",
   "execution_count": 0,
   "metadata": {
    "colab": {},
    "colab_type": "code",
    "id": "gMgm-ckajfMd"
   },
   "outputs": [],
   "source": [
    "y_test = list(map(int, y_test)) \n",
    "preds2 = list(map(int, preds2)) "
   ]
  },
  {
   "cell_type": "code",
   "execution_count": 0,
   "metadata": {
    "colab": {
     "base_uri": "https://localhost:8080/",
     "height": 34
    },
    "colab_type": "code",
    "id": "ALsZBVPjjfKG",
    "outputId": "6ade6f43-50f0-4380-bbc6-2c0cf0181de0"
   },
   "outputs": [
    {
     "name": "stdout",
     "output_type": "stream",
     "text": [
      "0.5436046511627907\n"
     ]
    }
   ],
   "source": [
    "print(roc_auc_score(y_test, preds2))"
   ]
  },
  {
   "cell_type": "code",
   "execution_count": 0,
   "metadata": {
    "colab": {},
    "colab_type": "code",
    "id": "qKVfXXTWjfGs"
   },
   "outputs": [],
   "source": [
    "#############################   Support Vector Machine Algorithm-With PCA 100% components  ##############################"
   ]
  },
  {
   "cell_type": "code",
   "execution_count": 0,
   "metadata": {
    "colab": {},
    "colab_type": "code",
    "id": "tzZLt-ThjfFs"
   },
   "outputs": [],
   "source": [
    "from sklearn.model_selection import train_test_split\n",
    "# test_size: what proportion of original data is used for test set\n",
    "X_train, X_test, y_train, y_test = train_test_split( X, y, test_size=0.1, random_state=0)"
   ]
  },
  {
   "cell_type": "code",
   "execution_count": 0,
   "metadata": {
    "colab": {},
    "colab_type": "code",
    "id": "xUxxIFq5jfBP"
   },
   "outputs": [],
   "source": [
    "from sklearn.preprocessing import StandardScaler\n",
    "scaler = StandardScaler()\n",
    "# Fit on training set only.\n",
    "scaler.fit(X_train)\n",
    "# Apply transform to both the training set and the test set.\n",
    "X_train = scaler.transform(X_train)\n",
    "X_test = scaler.transform(X_test)\n"
   ]
  },
  {
   "cell_type": "code",
   "execution_count": 0,
   "metadata": {
    "colab": {},
    "colab_type": "code",
    "id": "WNc7qCrSje_1"
   },
   "outputs": [],
   "source": [
    "from sklearn.decomposition import PCA\n",
    "# Make an instance of the Model\n",
    "pca = PCA(.100)\n",
    "pca.fit(X_train)\n",
    "\n",
    "X_train = pca.transform(X_train) \n",
    "X_test = pca.transform(X_test) "
   ]
  },
  {
   "cell_type": "code",
   "execution_count": 0,
   "metadata": {
    "colab": {},
    "colab_type": "code",
    "id": "BKjoAN24je8e"
   },
   "outputs": [],
   "source": [
    "from sklearn import svm\n",
    "svl = svm.SVC()"
   ]
  },
  {
   "cell_type": "code",
   "execution_count": 0,
   "metadata": {
    "colab": {
     "base_uri": "https://localhost:8080/",
     "height": 138
    },
    "colab_type": "code",
    "id": "DUgffQqJje6e",
    "outputId": "f00581ae-aa90-460c-e1a8-ccefa292d8ee"
   },
   "outputs": [
    {
     "name": "stderr",
     "output_type": "stream",
     "text": [
      "/usr/local/lib/python3.6/dist-packages/sklearn/svm/base.py:193: FutureWarning: The default value of gamma will change from 'auto' to 'scale' in version 0.22 to account better for unscaled features. Set gamma explicitly to 'auto' or 'scale' to avoid this warning.\n",
      "  \"avoid this warning.\", FutureWarning)\n"
     ]
    },
    {
     "data": {
      "text/plain": [
       "SVC(C=1.0, cache_size=200, class_weight=None, coef0=0.0,\n",
       "    decision_function_shape='ovr', degree=3, gamma='auto_deprecated',\n",
       "    kernel='rbf', max_iter=-1, probability=False, random_state=None,\n",
       "    shrinking=True, tol=0.001, verbose=False)"
      ]
     },
     "execution_count": 71,
     "metadata": {
      "tags": []
     },
     "output_type": "execute_result"
    }
   ],
   "source": [
    "svl.fit(X_train,y_train)"
   ]
  },
  {
   "cell_type": "code",
   "execution_count": 0,
   "metadata": {
    "colab": {
     "base_uri": "https://localhost:8080/",
     "height": 34
    },
    "colab_type": "code",
    "id": "nmrTuILRje2s",
    "outputId": "aaf2ace9-2586-469a-a93f-21fd336d3578"
   },
   "outputs": [
    {
     "name": "stdout",
     "output_type": "stream",
     "text": [
      "Accuracy: 0.6268656716417911\n"
     ]
    }
   ],
   "source": [
    "from sklearn.metrics import accuracy_score\n",
    "\n",
    "preds2 = svl.predict(X_test)\n",
    "#print(preds2)\n",
    "\n",
    "print(\"Accuracy:\", accuracy_score(y_test,preds2))"
   ]
  },
  {
   "cell_type": "code",
   "execution_count": 0,
   "metadata": {
    "colab": {
     "base_uri": "https://localhost:8080/",
     "height": 34
    },
    "colab_type": "code",
    "id": "p-qe3I5dje0z",
    "outputId": "bf43fbdd-a2c8-41e0-981f-f38581d70dcc"
   },
   "outputs": [
    {
     "name": "stdout",
     "output_type": "stream",
     "text": [
      "[0.74226804 0.32432432]\n"
     ]
    }
   ],
   "source": [
    "from sklearn.metrics import f1_score\n",
    "from sklearn.metrics import cohen_kappa_score\n",
    "from sklearn.metrics import roc_auc_score\n",
    "print(f1_score(y_test, preds2, average=None))"
   ]
  },
  {
   "cell_type": "code",
   "execution_count": 0,
   "metadata": {
    "colab": {},
    "colab_type": "code",
    "id": "NsHkmyIDjexY"
   },
   "outputs": [],
   "source": [
    "for i in range(len(y_test)):\n",
    "    if(y_test[i]=='No'):\n",
    "        #print(y_test[i])\n",
    "        num = int(0)\n",
    "        #print(type(num))\n",
    "        y_test[i]= int(num)\n",
    "        #print(type(y_test[i]))\n",
    "        #print(y_test[i])\n",
    "    else:\n",
    "        num = int(1)\n",
    "        y_test[i]=int(num)\n",
    "        #print(type(y_test[i]))\n",
    "        \n",
    "    if(preds2[i]=='No'):\n",
    "        num = int(0)\n",
    "        preds2[i]=int(num)\n",
    "    else:\n",
    "        num = int(1)\n",
    "        preds2[i]=int(num)\n",
    "\n",
    "#print(y_test)\n",
    "#print(preds)"
   ]
  },
  {
   "cell_type": "code",
   "execution_count": 0,
   "metadata": {
    "colab": {},
    "colab_type": "code",
    "id": "elg1eHFljevD"
   },
   "outputs": [],
   "source": [
    "y_test = list(map(int, y_test)) \n",
    "preds2 = list(map(int, preds2)) "
   ]
  },
  {
   "cell_type": "code",
   "execution_count": 0,
   "metadata": {
    "colab": {
     "base_uri": "https://localhost:8080/",
     "height": 34
    },
    "colab_type": "code",
    "id": "wL4TzPsXii7N",
    "outputId": "c33e5cbb-e340-4427-ecaa-11318f741a9d"
   },
   "outputs": [
    {
     "name": "stdout",
     "output_type": "stream",
     "text": [
      "0.5436046511627907\n"
     ]
    }
   ],
   "source": [
    "print(roc_auc_score(y_test, preds2))"
   ]
  }
 ],
 "metadata": {
  "colab": {
   "collapsed_sections": [],
   "name": "PCA_SVM-DIARETDB1.ipynb",
   "provenance": []
  },
  "kernelspec": {
   "display_name": "Python 3",
   "language": "python",
   "name": "python3"
  },
  "language_info": {
   "codemirror_mode": {
    "name": "ipython",
    "version": 3
   },
   "file_extension": ".py",
   "mimetype": "text/x-python",
   "name": "python",
   "nbconvert_exporter": "python",
   "pygments_lexer": "ipython3",
   "version": "3.7.6"
  }
 },
 "nbformat": 4,
 "nbformat_minor": 1
}
